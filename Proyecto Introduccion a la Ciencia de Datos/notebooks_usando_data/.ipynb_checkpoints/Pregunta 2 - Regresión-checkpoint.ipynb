{
 "cells": [
  {
   "cell_type": "code",
   "execution_count": 1,
   "metadata": {
    "executionInfo": {
     "elapsed": 355,
     "status": "ok",
     "timestamp": 1662684144075,
     "user": {
      "displayName": "Hector Bryan Villegas Barragan",
      "userId": "05189738497377269192"
     },
     "user_tz": 300
    },
    "id": "BWakaCfw_suX"
   },
   "outputs": [],
   "source": [
    "import pandas as pd\n",
    "import numpy as np"
   ]
  },
  {
   "cell_type": "code",
   "execution_count": null,
   "metadata": {
    "id": "XdKgeCJZPtqB"
   },
   "outputs": [],
   "source": [
    "from sklearn.model_selection import train_test_split\n",
    "from sklearn.preprocessing import StandardScaler\n",
    "from sklearn.model_selection import GridSearchCV\n",
    "from sklearn.model_selection import cross_val_score\n",
    "from sklearn.metrics import mean_absolute_error, mean_squared_error"
   ]
  },
  {
   "cell_type": "code",
   "execution_count": null,
   "metadata": {
    "id": "9b2_SJRKUH1m"
   },
   "outputs": [],
   "source": [
    "from sklearn.ensemble import RandomForestRegressor"
   ]
  },
  {
   "cell_type": "code",
   "execution_count": 3,
   "metadata": {
    "executionInfo": {
     "elapsed": 310,
     "status": "ok",
     "timestamp": 1662686321718,
     "user": {
      "displayName": "Hector Bryan Villegas Barragan",
      "userId": "05189738497377269192"
     },
     "user_tz": 300
    },
    "id": "Toz_0IKrQnMY"
   },
   "outputs": [],
   "source": [
    "import matplotlib.pyplot as plt\n",
    "import seaborn as sns"
   ]
  },
  {
   "cell_type": "code",
   "execution_count": 8,
   "metadata": {
    "executionInfo": {
     "elapsed": 291,
     "status": "ok",
     "timestamp": 1662687100028,
     "user": {
      "displayName": "Hector Bryan Villegas Barragan",
      "userId": "05189738497377269192"
     },
     "user_tz": 300
    },
    "id": "IHRRQW2qAXXO"
   },
   "outputs": [],
   "source": [
    "path = '/content/drive/MyDrive/Proyecto Introduccion a la Ciencia de Datos/output'"
   ]
  },
  {
   "cell_type": "code",
   "execution_count": 9,
   "metadata": {
    "executionInfo": {
     "elapsed": 646,
     "status": "ok",
     "timestamp": 1662687103579,
     "user": {
      "displayName": "Hector Bryan Villegas Barragan",
      "userId": "05189738497377269192"
     },
     "user_tz": 300
    },
    "id": "9Wedj_0_O02j"
   },
   "outputs": [],
   "source": [
    "df = pd.read_csv(f'{path}/dataset.csv')"
   ]
  },
  {
   "cell_type": "code",
   "execution_count": null,
   "metadata": {
    "colab": {
     "base_uri": "https://localhost:8080/",
     "height": 424
    },
    "executionInfo": {
     "elapsed": 285,
     "status": "ok",
     "timestamp": 1662567442582,
     "user": {
      "displayName": "Hector Bryan Villegas Barragan",
      "userId": "05189738497377269192"
     },
     "user_tz": 300
    },
    "id": "qAo4HxexO668",
    "outputId": "0d7da5a8-382e-479f-bc19-92f5a892c979"
   },
   "outputs": [
    {
     "data": {
      "text/html": [
       "\n",
       "  <div id=\"df-120bee7b-5c9c-4aec-8c12-e9cac752c008\">\n",
       "    <div class=\"colab-df-container\">\n",
       "      <div>\n",
       "<style scoped>\n",
       "    .dataframe tbody tr th:only-of-type {\n",
       "        vertical-align: middle;\n",
       "    }\n",
       "\n",
       "    .dataframe tbody tr th {\n",
       "        vertical-align: top;\n",
       "    }\n",
       "\n",
       "    .dataframe thead th {\n",
       "        text-align: right;\n",
       "    }\n",
       "</style>\n",
       "<table border=\"1\" class=\"dataframe\">\n",
       "  <thead>\n",
       "    <tr style=\"text-align: right;\">\n",
       "      <th></th>\n",
       "      <th>sector</th>\n",
       "      <th>pmc</th>\n",
       "      <th>ccmc</th>\n",
       "      <th>ap</th>\n",
       "      <th>bps</th>\n",
       "      <th>ac</th>\n",
       "      <th>ingpc_mean</th>\n",
       "    </tr>\n",
       "  </thead>\n",
       "  <tbody>\n",
       "    <tr>\n",
       "      <th>0</th>\n",
       "      <td>Abel Gilbert</td>\n",
       "      <td>341.420856</td>\n",
       "      <td>0.000000e+00</td>\n",
       "      <td>3000.000000</td>\n",
       "      <td>1.866667</td>\n",
       "      <td>0.0</td>\n",
       "      <td>186.582404</td>\n",
       "    </tr>\n",
       "    <tr>\n",
       "      <th>1</th>\n",
       "      <td>Acacias</td>\n",
       "      <td>507.023203</td>\n",
       "      <td>0.000000e+00</td>\n",
       "      <td>245.000000</td>\n",
       "      <td>2.200000</td>\n",
       "      <td>1.0</td>\n",
       "      <td>297.917603</td>\n",
       "    </tr>\n",
       "    <tr>\n",
       "      <th>2</th>\n",
       "      <td>Alborada</td>\n",
       "      <td>819.085921</td>\n",
       "      <td>4.157044e-06</td>\n",
       "      <td>389.192825</td>\n",
       "      <td>2.066910</td>\n",
       "      <td>113.0</td>\n",
       "      <td>422.237240</td>\n",
       "    </tr>\n",
       "    <tr>\n",
       "      <th>3</th>\n",
       "      <td>Argelia</td>\n",
       "      <td>435.426671</td>\n",
       "      <td>4.232569e-07</td>\n",
       "      <td>1660.279070</td>\n",
       "      <td>2.155340</td>\n",
       "      <td>9.0</td>\n",
       "      <td>191.006255</td>\n",
       "    </tr>\n",
       "    <tr>\n",
       "      <th>4</th>\n",
       "      <td>Atarazana</td>\n",
       "      <td>857.244304</td>\n",
       "      <td>1.251978e-06</td>\n",
       "      <td>617.601790</td>\n",
       "      <td>2.236542</td>\n",
       "      <td>19.0</td>\n",
       "      <td>553.194133</td>\n",
       "    </tr>\n",
       "    <tr>\n",
       "      <th>...</th>\n",
       "      <td>...</td>\n",
       "      <td>...</td>\n",
       "      <td>...</td>\n",
       "      <td>...</td>\n",
       "      <td>...</td>\n",
       "      <td>...</td>\n",
       "      <td>...</td>\n",
       "    </tr>\n",
       "    <tr>\n",
       "      <th>56</th>\n",
       "      <td>Sauces</td>\n",
       "      <td>686.392528</td>\n",
       "      <td>9.823048e-07</td>\n",
       "      <td>295.268797</td>\n",
       "      <td>2.230769</td>\n",
       "      <td>10.0</td>\n",
       "      <td>364.891111</td>\n",
       "    </tr>\n",
       "    <tr>\n",
       "      <th>57</th>\n",
       "      <td>Solanda</td>\n",
       "      <td>517.208887</td>\n",
       "      <td>2.739629e-06</td>\n",
       "      <td>451.052632</td>\n",
       "      <td>2.456140</td>\n",
       "      <td>3.0</td>\n",
       "      <td>234.612433</td>\n",
       "    </tr>\n",
       "    <tr>\n",
       "      <th>58</th>\n",
       "      <td>Turubamba</td>\n",
       "      <td>542.188739</td>\n",
       "      <td>1.692989e-06</td>\n",
       "      <td>540.645161</td>\n",
       "      <td>2.450331</td>\n",
       "      <td>4.0</td>\n",
       "      <td>270.232101</td>\n",
       "    </tr>\n",
       "    <tr>\n",
       "      <th>59</th>\n",
       "      <td>Urdenor</td>\n",
       "      <td>936.585279</td>\n",
       "      <td>7.700748e-06</td>\n",
       "      <td>401.451220</td>\n",
       "      <td>2.317406</td>\n",
       "      <td>12.0</td>\n",
       "      <td>434.587815</td>\n",
       "    </tr>\n",
       "    <tr>\n",
       "      <th>60</th>\n",
       "      <td>Vergeles</td>\n",
       "      <td>735.707143</td>\n",
       "      <td>3.591105e-06</td>\n",
       "      <td>639.761905</td>\n",
       "      <td>2.418269</td>\n",
       "      <td>6.0</td>\n",
       "      <td>190.114522</td>\n",
       "    </tr>\n",
       "  </tbody>\n",
       "</table>\n",
       "<p>61 rows × 7 columns</p>\n",
       "</div>\n",
       "      <button class=\"colab-df-convert\" onclick=\"convertToInteractive('df-120bee7b-5c9c-4aec-8c12-e9cac752c008')\"\n",
       "              title=\"Convert this dataframe to an interactive table.\"\n",
       "              style=\"display:none;\">\n",
       "        \n",
       "  <svg xmlns=\"http://www.w3.org/2000/svg\" height=\"24px\"viewBox=\"0 0 24 24\"\n",
       "       width=\"24px\">\n",
       "    <path d=\"M0 0h24v24H0V0z\" fill=\"none\"/>\n",
       "    <path d=\"M18.56 5.44l.94 2.06.94-2.06 2.06-.94-2.06-.94-.94-2.06-.94 2.06-2.06.94zm-11 1L8.5 8.5l.94-2.06 2.06-.94-2.06-.94L8.5 2.5l-.94 2.06-2.06.94zm10 10l.94 2.06.94-2.06 2.06-.94-2.06-.94-.94-2.06-.94 2.06-2.06.94z\"/><path d=\"M17.41 7.96l-1.37-1.37c-.4-.4-.92-.59-1.43-.59-.52 0-1.04.2-1.43.59L10.3 9.45l-7.72 7.72c-.78.78-.78 2.05 0 2.83L4 21.41c.39.39.9.59 1.41.59.51 0 1.02-.2 1.41-.59l7.78-7.78 2.81-2.81c.8-.78.8-2.07 0-2.86zM5.41 20L4 18.59l7.72-7.72 1.47 1.35L5.41 20z\"/>\n",
       "  </svg>\n",
       "      </button>\n",
       "      \n",
       "  <style>\n",
       "    .colab-df-container {\n",
       "      display:flex;\n",
       "      flex-wrap:wrap;\n",
       "      gap: 12px;\n",
       "    }\n",
       "\n",
       "    .colab-df-convert {\n",
       "      background-color: #E8F0FE;\n",
       "      border: none;\n",
       "      border-radius: 50%;\n",
       "      cursor: pointer;\n",
       "      display: none;\n",
       "      fill: #1967D2;\n",
       "      height: 32px;\n",
       "      padding: 0 0 0 0;\n",
       "      width: 32px;\n",
       "    }\n",
       "\n",
       "    .colab-df-convert:hover {\n",
       "      background-color: #E2EBFA;\n",
       "      box-shadow: 0px 1px 2px rgba(60, 64, 67, 0.3), 0px 1px 3px 1px rgba(60, 64, 67, 0.15);\n",
       "      fill: #174EA6;\n",
       "    }\n",
       "\n",
       "    [theme=dark] .colab-df-convert {\n",
       "      background-color: #3B4455;\n",
       "      fill: #D2E3FC;\n",
       "    }\n",
       "\n",
       "    [theme=dark] .colab-df-convert:hover {\n",
       "      background-color: #434B5C;\n",
       "      box-shadow: 0px 1px 3px 1px rgba(0, 0, 0, 0.15);\n",
       "      filter: drop-shadow(0px 1px 2px rgba(0, 0, 0, 0.3));\n",
       "      fill: #FFFFFF;\n",
       "    }\n",
       "  </style>\n",
       "\n",
       "      <script>\n",
       "        const buttonEl =\n",
       "          document.querySelector('#df-120bee7b-5c9c-4aec-8c12-e9cac752c008 button.colab-df-convert');\n",
       "        buttonEl.style.display =\n",
       "          google.colab.kernel.accessAllowed ? 'block' : 'none';\n",
       "\n",
       "        async function convertToInteractive(key) {\n",
       "          const element = document.querySelector('#df-120bee7b-5c9c-4aec-8c12-e9cac752c008');\n",
       "          const dataTable =\n",
       "            await google.colab.kernel.invokeFunction('convertToInteractive',\n",
       "                                                     [key], {});\n",
       "          if (!dataTable) return;\n",
       "\n",
       "          const docLinkHtml = 'Like what you see? Visit the ' +\n",
       "            '<a target=\"_blank\" href=https://colab.research.google.com/notebooks/data_table.ipynb>data table notebook</a>'\n",
       "            + ' to learn more about interactive tables.';\n",
       "          element.innerHTML = '';\n",
       "          dataTable['output_type'] = 'display_data';\n",
       "          await google.colab.output.renderOutput(dataTable, element);\n",
       "          const docLink = document.createElement('div');\n",
       "          docLink.innerHTML = docLinkHtml;\n",
       "          element.appendChild(docLink);\n",
       "        }\n",
       "      </script>\n",
       "    </div>\n",
       "  </div>\n",
       "  "
      ],
      "text/plain": [
       "          sector         pmc          ccmc           ap       bps     ac  \\\n",
       "0   Abel Gilbert  341.420856  0.000000e+00  3000.000000  1.866667    0.0   \n",
       "1        Acacias  507.023203  0.000000e+00   245.000000  2.200000    1.0   \n",
       "2       Alborada  819.085921  4.157044e-06   389.192825  2.066910  113.0   \n",
       "3        Argelia  435.426671  4.232569e-07  1660.279070  2.155340    9.0   \n",
       "4      Atarazana  857.244304  1.251978e-06   617.601790  2.236542   19.0   \n",
       "..           ...         ...           ...          ...       ...    ...   \n",
       "56        Sauces  686.392528  9.823048e-07   295.268797  2.230769   10.0   \n",
       "57       Solanda  517.208887  2.739629e-06   451.052632  2.456140    3.0   \n",
       "58     Turubamba  542.188739  1.692989e-06   540.645161  2.450331    4.0   \n",
       "59       Urdenor  936.585279  7.700748e-06   401.451220  2.317406   12.0   \n",
       "60      Vergeles  735.707143  3.591105e-06   639.761905  2.418269    6.0   \n",
       "\n",
       "    ingpc_mean  \n",
       "0   186.582404  \n",
       "1   297.917603  \n",
       "2   422.237240  \n",
       "3   191.006255  \n",
       "4   553.194133  \n",
       "..         ...  \n",
       "56  364.891111  \n",
       "57  234.612433  \n",
       "58  270.232101  \n",
       "59  434.587815  \n",
       "60  190.114522  \n",
       "\n",
       "[61 rows x 7 columns]"
      ]
     },
     "execution_count": 7,
     "metadata": {},
     "output_type": "execute_result"
    }
   ],
   "source": [
    "df"
   ]
  },
  {
   "cell_type": "code",
   "execution_count": 10,
   "metadata": {
    "executionInfo": {
     "elapsed": 14,
     "status": "ok",
     "timestamp": 1662687112463,
     "user": {
      "displayName": "Hector Bryan Villegas Barragan",
      "userId": "05189738497377269192"
     },
     "user_tz": 300
    },
    "id": "OfzcDAiPO7vo"
   },
   "outputs": [],
   "source": [
    "corr = df.corr()"
   ]
  },
  {
   "cell_type": "code",
   "execution_count": 11,
   "metadata": {
    "colab": {
     "base_uri": "https://localhost:8080/",
     "height": 238
    },
    "executionInfo": {
     "elapsed": 310,
     "status": "ok",
     "timestamp": 1662687120177,
     "user": {
      "displayName": "Hector Bryan Villegas Barragan",
      "userId": "05189738497377269192"
     },
     "user_tz": 300
    },
    "id": "IHaGtml_3_ei",
    "outputId": "ee1fc1d0-bca1-46e3-c716-bdf21500036b"
   },
   "outputs": [
    {
     "data": {
      "text/html": [
       "\n",
       "  <div id=\"df-f7fae454-2c5f-4f22-a558-8ff6e3b6037a\">\n",
       "    <div class=\"colab-df-container\">\n",
       "      <div>\n",
       "<style scoped>\n",
       "    .dataframe tbody tr th:only-of-type {\n",
       "        vertical-align: middle;\n",
       "    }\n",
       "\n",
       "    .dataframe tbody tr th {\n",
       "        vertical-align: top;\n",
       "    }\n",
       "\n",
       "    .dataframe thead th {\n",
       "        text-align: right;\n",
       "    }\n",
       "</style>\n",
       "<table border=\"1\" class=\"dataframe\">\n",
       "  <thead>\n",
       "    <tr style=\"text-align: right;\">\n",
       "      <th></th>\n",
       "      <th>pmc</th>\n",
       "      <th>ccmc</th>\n",
       "      <th>ap</th>\n",
       "      <th>bps</th>\n",
       "      <th>ac</th>\n",
       "      <th>ingpc_mean</th>\n",
       "    </tr>\n",
       "  </thead>\n",
       "  <tbody>\n",
       "    <tr>\n",
       "      <th>pmc</th>\n",
       "      <td>1.000000</td>\n",
       "      <td>0.413770</td>\n",
       "      <td>-0.249946</td>\n",
       "      <td>-0.353183</td>\n",
       "      <td>0.591354</td>\n",
       "      <td>0.757720</td>\n",
       "    </tr>\n",
       "    <tr>\n",
       "      <th>ccmc</th>\n",
       "      <td>0.413770</td>\n",
       "      <td>1.000000</td>\n",
       "      <td>-0.060039</td>\n",
       "      <td>-0.254357</td>\n",
       "      <td>0.230999</td>\n",
       "      <td>0.399968</td>\n",
       "    </tr>\n",
       "    <tr>\n",
       "      <th>ap</th>\n",
       "      <td>-0.249946</td>\n",
       "      <td>-0.060039</td>\n",
       "      <td>1.000000</td>\n",
       "      <td>0.313386</td>\n",
       "      <td>-0.052119</td>\n",
       "      <td>-0.148670</td>\n",
       "    </tr>\n",
       "    <tr>\n",
       "      <th>bps</th>\n",
       "      <td>-0.353183</td>\n",
       "      <td>-0.254357</td>\n",
       "      <td>0.313386</td>\n",
       "      <td>1.000000</td>\n",
       "      <td>-0.268798</td>\n",
       "      <td>-0.239870</td>\n",
       "    </tr>\n",
       "    <tr>\n",
       "      <th>ac</th>\n",
       "      <td>0.591354</td>\n",
       "      <td>0.230999</td>\n",
       "      <td>-0.052119</td>\n",
       "      <td>-0.268798</td>\n",
       "      <td>1.000000</td>\n",
       "      <td>0.626836</td>\n",
       "    </tr>\n",
       "    <tr>\n",
       "      <th>ingpc_mean</th>\n",
       "      <td>0.757720</td>\n",
       "      <td>0.399968</td>\n",
       "      <td>-0.148670</td>\n",
       "      <td>-0.239870</td>\n",
       "      <td>0.626836</td>\n",
       "      <td>1.000000</td>\n",
       "    </tr>\n",
       "  </tbody>\n",
       "</table>\n",
       "</div>\n",
       "      <button class=\"colab-df-convert\" onclick=\"convertToInteractive('df-f7fae454-2c5f-4f22-a558-8ff6e3b6037a')\"\n",
       "              title=\"Convert this dataframe to an interactive table.\"\n",
       "              style=\"display:none;\">\n",
       "        \n",
       "  <svg xmlns=\"http://www.w3.org/2000/svg\" height=\"24px\"viewBox=\"0 0 24 24\"\n",
       "       width=\"24px\">\n",
       "    <path d=\"M0 0h24v24H0V0z\" fill=\"none\"/>\n",
       "    <path d=\"M18.56 5.44l.94 2.06.94-2.06 2.06-.94-2.06-.94-.94-2.06-.94 2.06-2.06.94zm-11 1L8.5 8.5l.94-2.06 2.06-.94-2.06-.94L8.5 2.5l-.94 2.06-2.06.94zm10 10l.94 2.06.94-2.06 2.06-.94-2.06-.94-.94-2.06-.94 2.06-2.06.94z\"/><path d=\"M17.41 7.96l-1.37-1.37c-.4-.4-.92-.59-1.43-.59-.52 0-1.04.2-1.43.59L10.3 9.45l-7.72 7.72c-.78.78-.78 2.05 0 2.83L4 21.41c.39.39.9.59 1.41.59.51 0 1.02-.2 1.41-.59l7.78-7.78 2.81-2.81c.8-.78.8-2.07 0-2.86zM5.41 20L4 18.59l7.72-7.72 1.47 1.35L5.41 20z\"/>\n",
       "  </svg>\n",
       "      </button>\n",
       "      \n",
       "  <style>\n",
       "    .colab-df-container {\n",
       "      display:flex;\n",
       "      flex-wrap:wrap;\n",
       "      gap: 12px;\n",
       "    }\n",
       "\n",
       "    .colab-df-convert {\n",
       "      background-color: #E8F0FE;\n",
       "      border: none;\n",
       "      border-radius: 50%;\n",
       "      cursor: pointer;\n",
       "      display: none;\n",
       "      fill: #1967D2;\n",
       "      height: 32px;\n",
       "      padding: 0 0 0 0;\n",
       "      width: 32px;\n",
       "    }\n",
       "\n",
       "    .colab-df-convert:hover {\n",
       "      background-color: #E2EBFA;\n",
       "      box-shadow: 0px 1px 2px rgba(60, 64, 67, 0.3), 0px 1px 3px 1px rgba(60, 64, 67, 0.15);\n",
       "      fill: #174EA6;\n",
       "    }\n",
       "\n",
       "    [theme=dark] .colab-df-convert {\n",
       "      background-color: #3B4455;\n",
       "      fill: #D2E3FC;\n",
       "    }\n",
       "\n",
       "    [theme=dark] .colab-df-convert:hover {\n",
       "      background-color: #434B5C;\n",
       "      box-shadow: 0px 1px 3px 1px rgba(0, 0, 0, 0.15);\n",
       "      filter: drop-shadow(0px 1px 2px rgba(0, 0, 0, 0.3));\n",
       "      fill: #FFFFFF;\n",
       "    }\n",
       "  </style>\n",
       "\n",
       "      <script>\n",
       "        const buttonEl =\n",
       "          document.querySelector('#df-f7fae454-2c5f-4f22-a558-8ff6e3b6037a button.colab-df-convert');\n",
       "        buttonEl.style.display =\n",
       "          google.colab.kernel.accessAllowed ? 'block' : 'none';\n",
       "\n",
       "        async function convertToInteractive(key) {\n",
       "          const element = document.querySelector('#df-f7fae454-2c5f-4f22-a558-8ff6e3b6037a');\n",
       "          const dataTable =\n",
       "            await google.colab.kernel.invokeFunction('convertToInteractive',\n",
       "                                                     [key], {});\n",
       "          if (!dataTable) return;\n",
       "\n",
       "          const docLinkHtml = 'Like what you see? Visit the ' +\n",
       "            '<a target=\"_blank\" href=https://colab.research.google.com/notebooks/data_table.ipynb>data table notebook</a>'\n",
       "            + ' to learn more about interactive tables.';\n",
       "          element.innerHTML = '';\n",
       "          dataTable['output_type'] = 'display_data';\n",
       "          await google.colab.output.renderOutput(dataTable, element);\n",
       "          const docLink = document.createElement('div');\n",
       "          docLink.innerHTML = docLinkHtml;\n",
       "          element.appendChild(docLink);\n",
       "        }\n",
       "      </script>\n",
       "    </div>\n",
       "  </div>\n",
       "  "
      ],
      "text/plain": [
       "                 pmc      ccmc        ap       bps        ac  ingpc_mean\n",
       "pmc         1.000000  0.413770 -0.249946 -0.353183  0.591354    0.757720\n",
       "ccmc        0.413770  1.000000 -0.060039 -0.254357  0.230999    0.399968\n",
       "ap         -0.249946 -0.060039  1.000000  0.313386 -0.052119   -0.148670\n",
       "bps        -0.353183 -0.254357  0.313386  1.000000 -0.268798   -0.239870\n",
       "ac          0.591354  0.230999 -0.052119 -0.268798  1.000000    0.626836\n",
       "ingpc_mean  0.757720  0.399968 -0.148670 -0.239870  0.626836    1.000000"
      ]
     },
     "execution_count": 11,
     "metadata": {},
     "output_type": "execute_result"
    }
   ],
   "source": [
    "corr"
   ]
  },
  {
   "cell_type": "code",
   "execution_count": 17,
   "metadata": {
    "executionInfo": {
     "elapsed": 357,
     "status": "ok",
     "timestamp": 1662687436337,
     "user": {
      "displayName": "Hector Bryan Villegas Barragan",
      "userId": "05189738497377269192"
     },
     "user_tz": 300
    },
    "id": "162yE71C5J6p"
   },
   "outputs": [],
   "source": [
    "sns.set_theme(style='darkgrid')"
   ]
  },
  {
   "cell_type": "code",
   "execution_count": 18,
   "metadata": {
    "colab": {
     "base_uri": "https://localhost:8080/",
     "height": 490
    },
    "executionInfo": {
     "elapsed": 824,
     "status": "ok",
     "timestamp": 1662687438598,
     "user": {
      "displayName": "Hector Bryan Villegas Barragan",
      "userId": "05189738497377269192"
     },
     "user_tz": 300
    },
    "id": "n0RvZOKR4CR7",
    "outputId": "942eab54-fb57-4fd6-a276-a3e90e3ccbf6"
   },
   "outputs": [
    {
     "data": {
      "image/png": "[encoded data removed]",
      "text/plain": [
       "<Figure size 720x576 with 2 Axes>"
      ]
     },
     "metadata": {},
     "output_type": "display_data"
    }
   ],
   "source": [
    "fig, ax = plt.subplots(figsize=(10, 8))\n",
    "_ = sns.heatmap(corr, cmap=\"YlGnBu\", annot=True, ax=ax)"
   ]
  },
  {
   "cell_type": "code",
   "execution_count": null,
   "metadata": {
    "id": "YcJr76zLO-l8"
   },
   "outputs": [],
   "source": [
    "X = df[['pmc', 'ac']]\n",
    "y = df['ingpc_mean']"
   ]
  },
  {
   "cell_type": "code",
   "execution_count": null,
   "metadata": {
    "colab": {
     "base_uri": "https://localhost:8080/",
     "height": 370
    },
    "executionInfo": {
     "elapsed": 332,
     "status": "ok",
     "timestamp": 1662567590487,
     "user": {
      "displayName": "Hector Bryan Villegas Barragan",
      "userId": "05189738497377269192"
     },
     "user_tz": 300
    },
    "id": "TtOZXbRrPg91",
    "outputId": "42ef2e01-5671-41ac-f470-207223e69bd7"
   },
   "outputs": [
    {
     "data": {
      "image/png": "[encoded data removed]",
      "text/plain": [
       "<Figure size 360x360 with 1 Axes>"
      ]
     },
     "metadata": {
      "needs_background": "light"
     },
     "output_type": "display_data"
    }
   ],
   "source": [
    "fig, ax = plt.subplots(figsize=(5, 5))\n",
    "_ = sns.scatterplot(data=df, x='pmc', y='ingpc_mean', ax=ax)\n",
    "_ = fig.suptitle('Precio x mt2 vs ingreso per cápita')"
   ]
  },
  {
   "cell_type": "code",
   "execution_count": null,
   "metadata": {
    "colab": {
     "base_uri": "https://localhost:8080/",
     "height": 370
    },
    "executionInfo": {
     "elapsed": 7,
     "status": "ok",
     "timestamp": 1662567591190,
     "user": {
      "displayName": "Hector Bryan Villegas Barragan",
      "userId": "05189738497377269192"
     },
     "user_tz": 300
    },
    "id": "5TAcw24RQyhG",
    "outputId": "c27f1a1f-1e9e-4e19-90bc-e524147c703c"
   },
   "outputs": [
    {
     "data": {
      "image/png": "[encoded data removed]",
      "text/plain": [
       "<Figure size 360x360 with 1 Axes>"
      ]
     },
     "metadata": {
      "needs_background": "light"
     },
     "output_type": "display_data"
    }
   ],
   "source": [
    "fig, ax = plt.subplots(figsize=(5, 5))\n",
    "_ = sns.scatterplot(data=df, x='ac', y='ingpc_mean', ax=ax)\n",
    "_ = fig.suptitle('actividad comercial vs ingreso per cápita')"
   ]
  },
  {
   "cell_type": "code",
   "execution_count": null,
   "metadata": {
    "id": "_n35OiE2RbGo"
   },
   "outputs": [],
   "source": [
    "X_train, X_test, y_train, y_test = train_test_split(X, y, test_size=0.2, random_state=0)"
   ]
  },
  {
   "cell_type": "code",
   "execution_count": null,
   "metadata": {
    "id": "h_qsePHcRsKl"
   },
   "outputs": [],
   "source": [
    "scaler = StandardScaler()"
   ]
  },
  {
   "cell_type": "code",
   "execution_count": null,
   "metadata": {
    "id": "X0CxF8QxRuuv"
   },
   "outputs": [],
   "source": [
    "X_train = scaler.fit_transform(X_train)"
   ]
  },
  {
   "cell_type": "code",
   "execution_count": null,
   "metadata": {
    "id": "-c2-cLs2VNb8"
   },
   "outputs": [],
   "source": [
    "model = RandomForestRegressor(random_state=0)"
   ]
  },
  {
   "cell_type": "code",
   "execution_count": null,
   "metadata": {
    "id": "AtxVeD_CWWxg"
   },
   "outputs": [],
   "source": [
    "param_grid = {\n",
    "    'n_estimators' : [50, 100, 150, 200, 250],\n",
    "    'max_features' : ['auto','sqrt','log2'],\n",
    "    'max_depth' : [10, 50, 100, 150, 200],\n",
    "    'criterion' : [\"squared_error\", \"absolute_error\", \"poisson\"]\n",
    "}"
   ]
  },
  {
   "cell_type": "code",
   "execution_count": null,
   "metadata": {
    "id": "FBom4wvhWYDh"
   },
   "outputs": [],
   "source": [
    "grid = GridSearchCV(model, param_grid, cv=5)"
   ]
  },
  {
   "cell_type": "code",
   "execution_count": null,
   "metadata": {
    "colab": {
     "base_uri": "https://localhost:8080/"
    },
    "executionInfo": {
     "elapsed": 217302,
     "status": "ok",
     "timestamp": 1662527671059,
     "user": {
      "displayName": "Hector Bryan Villegas Barragan",
      "userId": "05189738497377269192"
     },
     "user_tz": 300
    },
    "id": "9cwUe94EWd-X",
    "outputId": "07ccfebb-3d6f-44c2-cf58-88212e53bce7"
   },
   "outputs": [
    {
     "data": {
      "text/plain": [
       "GridSearchCV(cv=5, estimator=RandomForestRegressor(random_state=0),\n",
       "             param_grid={'criterion': ['squared_error', 'absolute_error',\n",
       "                                       'poisson'],\n",
       "                         'max_depth': [10, 50, 100, 150, 200],\n",
       "                         'max_features': ['auto', 'sqrt', 'log2'],\n",
       "                         'n_estimators': [50, 100, 150, 200, 250]})"
      ]
     },
     "execution_count": 40,
     "metadata": {},
     "output_type": "execute_result"
    }
   ],
   "source": [
    "grid.fit(X_train, y_train)"
   ]
  },
  {
   "cell_type": "code",
   "execution_count": null,
   "metadata": {
    "colab": {
     "base_uri": "https://localhost:8080/"
    },
    "executionInfo": {
     "elapsed": 227,
     "status": "ok",
     "timestamp": 1662527684938,
     "user": {
      "displayName": "Hector Bryan Villegas Barragan",
      "userId": "05189738497377269192"
     },
     "user_tz": 300
    },
    "id": "uPj7owLQWjXY",
    "outputId": "2447b2ab-d59b-4308-eded-9cbe732a90d2"
   },
   "outputs": [
    {
     "data": {
      "text/plain": [
       "{'criterion': 'absolute_error',\n",
       " 'max_depth': 50,\n",
       " 'max_features': 'sqrt',\n",
       " 'n_estimators': 250}"
      ]
     },
     "execution_count": 41,
     "metadata": {},
     "output_type": "execute_result"
    }
   ],
   "source": [
    "grid.best_params_"
   ]
  },
  {
   "cell_type": "code",
   "execution_count": null,
   "metadata": {
    "id": "zl4EqO-3Xz6w"
   },
   "outputs": [],
   "source": [
    "model = RandomForestRegressor(criterion = 'absolute_error',\n",
    "                              max_depth = 50,\n",
    "                              max_features = 'sqrt',\n",
    "                              n_estimators = 250)"
   ]
  },
  {
   "cell_type": "code",
   "execution_count": null,
   "metadata": {
    "colab": {
     "base_uri": "https://localhost:8080/"
    },
    "executionInfo": {
     "elapsed": 1821,
     "status": "ok",
     "timestamp": 1662567615137,
     "user": {
      "displayName": "Hector Bryan Villegas Barragan",
      "userId": "05189738497377269192"
     },
     "user_tz": 300
    },
    "id": "fNHAwaTWX2af",
    "outputId": "ea637b55-10a6-44a1-8674-369c02328bee"
   },
   "outputs": [
    {
     "name": "stdout",
     "output_type": "stream",
     "text": [
      "-0.016772870795292327 +- 0.1389273936656724\n"
     ]
    }
   ],
   "source": [
    "results = cross_val_score(model, X_train, y_train, cv=5)\n",
    "print(f'{results.mean()} +- {results.std()}')"
   ]
  },
  {
   "cell_type": "code",
   "execution_count": null,
   "metadata": {
    "colab": {
     "base_uri": "https://localhost:8080/"
    },
    "executionInfo": {
     "elapsed": 545,
     "status": "ok",
     "timestamp": 1662567619254,
     "user": {
      "displayName": "Hector Bryan Villegas Barragan",
      "userId": "05189738497377269192"
     },
     "user_tz": 300
    },
    "id": "mdVF3SGkZBUP",
    "outputId": "5168d671-ce4e-4c08-8a76-3c46677387ea"
   },
   "outputs": [
    {
     "data": {
      "text/plain": [
       "RandomForestRegressor(criterion='absolute_error', max_depth=50,\n",
       "                      max_features='sqrt', n_estimators=250)"
      ]
     },
     "execution_count": 18,
     "metadata": {},
     "output_type": "execute_result"
    }
   ],
   "source": [
    "model.fit(X_train, y_train)"
   ]
  },
  {
   "cell_type": "code",
   "execution_count": null,
   "metadata": {
    "id": "fPxhBKlmYsz-"
   },
   "outputs": [],
   "source": [
    "X_test = scaler.transform(X_test)"
   ]
  },
  {
   "cell_type": "code",
   "execution_count": null,
   "metadata": {
    "colab": {
     "base_uri": "https://localhost:8080/"
    },
    "executionInfo": {
     "elapsed": 287,
     "status": "ok",
     "timestamp": 1662567622219,
     "user": {
      "displayName": "Hector Bryan Villegas Barragan",
      "userId": "05189738497377269192"
     },
     "user_tz": 300
    },
    "id": "jL5bPCvjY4Rb",
    "outputId": "61db137c-dc00-4047-d9a1-9a408a5df3ef"
   },
   "outputs": [
    {
     "data": {
      "text/plain": [
       "0.7343122873763916"
      ]
     },
     "execution_count": 20,
     "metadata": {},
     "output_type": "execute_result"
    }
   ],
   "source": [
    "model.score(X_test, y_test)"
   ]
  },
  {
   "cell_type": "code",
   "execution_count": null,
   "metadata": {
    "id": "FHaVvHYAZaVE"
   },
   "outputs": [],
   "source": [
    "y_predicted = model.predict(X_test)"
   ]
  },
  {
   "cell_type": "code",
   "execution_count": null,
   "metadata": {
    "colab": {
     "base_uri": "https://localhost:8080/"
    },
    "executionInfo": {
     "elapsed": 5,
     "status": "ok",
     "timestamp": 1662567626394,
     "user": {
      "displayName": "Hector Bryan Villegas Barragan",
      "userId": "05189738497377269192"
     },
     "user_tz": 300
    },
    "id": "63YQFM6jZJ2u",
    "outputId": "936f73b0-7a59-44c7-a000-cd7beacfabd4"
   },
   "outputs": [
    {
     "data": {
      "text/plain": [
       "13730.976039429619"
      ]
     },
     "execution_count": 22,
     "metadata": {},
     "output_type": "execute_result"
    }
   ],
   "source": [
    "mean_squared_error(y_test, y_predicted)"
   ]
  },
  {
   "cell_type": "code",
   "execution_count": null,
   "metadata": {
    "colab": {
     "base_uri": "https://localhost:8080/"
    },
    "executionInfo": {
     "elapsed": 225,
     "status": "ok",
     "timestamp": 1662567627824,
     "user": {
      "displayName": "Hector Bryan Villegas Barragan",
      "userId": "05189738497377269192"
     },
     "user_tz": 300
    },
    "id": "CRzl_0CMZiLl",
    "outputId": "7d2dd2b7-34dd-4c83-a97e-ba88040dd4f0"
   },
   "outputs": [
    {
     "data": {
      "text/plain": [
       "93.46838634863272"
      ]
     },
     "execution_count": 23,
     "metadata": {},
     "output_type": "execute_result"
    }
   ],
   "source": [
    "mean_absolute_error(y_test, y_predicted)"
   ]
  },
  {
   "cell_type": "code",
   "execution_count": null,
   "metadata": {
    "colab": {
     "base_uri": "https://localhost:8080/"
    },
    "executionInfo": {
     "elapsed": 205,
     "status": "ok",
     "timestamp": 1662567644700,
     "user": {
      "displayName": "Hector Bryan Villegas Barragan",
      "userId": "05189738497377269192"
     },
     "user_tz": 300
    },
    "id": "8a5b8_BoZnfD",
    "outputId": "b8aee7d7-0afb-46bc-c77d-adbbf81681b3"
   },
   "outputs": [
    {
     "data": {
      "text/plain": [
       "array([0.64358954, 0.35641046])"
      ]
     },
     "execution_count": 24,
     "metadata": {},
     "output_type": "execute_result"
    }
   ],
   "source": [
    "model.feature_importances_"
   ]
  },
  {
   "cell_type": "markdown",
   "metadata": {
    "id": "ZY0z-lB3x09p"
   },
   "source": [
    "¿Cuáles son las características que más influyen en la predicción del ingreso per cápita de un sector?"
   ]
  },
  {
   "cell_type": "code",
   "execution_count": 4,
   "metadata": {
    "executionInfo": {
     "elapsed": 307,
     "status": "ok",
     "timestamp": 1662686753713,
     "user": {
      "displayName": "Hector Bryan Villegas Barragan",
      "userId": "05189738497377269192"
     },
     "user_tz": 300
    },
    "id": "RmVPbevk2QwE"
   },
   "outputs": [],
   "source": [
    "feature_importance = pd.DataFrame({'importance': [0.64358954, 0.35641046],\n",
    "                                  'feature': ['pmc', 'ac']})"
   ]
  },
  {
   "cell_type": "code",
   "execution_count": 5,
   "metadata": {
    "executionInfo": {
     "elapsed": 268,
     "status": "ok",
     "timestamp": 1662686766785,
     "user": {
      "displayName": "Hector Bryan Villegas Barragan",
      "userId": "05189738497377269192"
     },
     "user_tz": 300
    },
    "id": "15IOo_JX2n07"
   },
   "outputs": [],
   "source": [
    "feature_importance.sort_values(by='importance', ascending=False, inplace=True)"
   ]
  },
  {
   "cell_type": "code",
   "execution_count": 6,
   "metadata": {
    "executionInfo": {
     "elapsed": 18,
     "status": "ok",
     "timestamp": 1662686768428,
     "user": {
      "displayName": "Hector Bryan Villegas Barragan",
      "userId": "05189738497377269192"
     },
     "user_tz": 300
    },
    "id": "vFgsmBpo1Af0"
   },
   "outputs": [],
   "source": [
    "sns.set_theme(style='darkgrid')"
   ]
  },
  {
   "cell_type": "code",
   "execution_count": 7,
   "metadata": {
    "colab": {
     "base_uri": "https://localhost:8080/",
     "height": 560
    },
    "executionInfo": {
     "elapsed": 1014,
     "status": "ok",
     "timestamp": 1662686771026,
     "user": {
      "displayName": "Hector Bryan Villegas Barragan",
      "userId": "05189738497377269192"
     },
     "user_tz": 300
    },
    "id": "Azc3YYODshYa",
    "outputId": "9b32e7a1-a30e-467c-f734-48ad5037aa7f"
   },
   "outputs": [
    {
     "data": {
      "image/png": "[encoded data removed]",
      "text/plain": [
       "<Figure size 720x576 with 1 Axes>"
      ]
     },
     "metadata": {},
     "output_type": "display_data"
    }
   ],
   "source": [
    "fig, ax = plt.subplots(figsize=(10, 8))\n",
    "_ = sns.barplot(data=feature_importance, x='feature', y='importance', ax=ax)\n",
    "_ = ax.set_xlabel('Característica')\n",
    "_ = ax.set_ylabel('Importancia')\n",
    "_ = fig.suptitle('Importancia de las características')"
   ]
  },
  {
   "cell_type": "code",
   "execution_count": null,
   "metadata": {
    "id": "adT-jvjV2rDi"
   },
   "outputs": [],
   "source": []
  }
 ],
 "metadata": {
  "colab": {
   "authorship_tag": "ABX9TyO6JD2q+NQXcIbW1phjG3uM",
   "collapsed_sections": [],
   "mount_file_id": "1vYcb2078C3QLfdvX45dDUn-bQzC2JwSK",
   "provenance": []
  },
  "kernelspec": {
   "display_name": "Python 3 (ipykernel)",
   "language": "python",
   "name": "python3"
  },
  "language_info": {
   "codemirror_mode": {
    "name": "ipython",
    "version": 3
   },
   "file_extension": ".py",
   "mimetype": "text/x-python",
   "name": "python",
   "nbconvert_exporter": "python",
   "pygments_lexer": "ipython3",
   "version": "3.10.3"
  }
 },
 "nbformat": 4,
 "nbformat_minor": 1
}
