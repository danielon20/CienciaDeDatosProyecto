{
 "cells": [
  {
   "cell_type": "code",
   "execution_count": 1,
   "metadata": {
    "executionInfo": {
     "elapsed": 681,
     "status": "ok",
     "timestamp": 1662684137277,
     "user": {
      "displayName": "Hector Bryan Villegas Barragan",
      "userId": "05189738497377269192"
     },
     "user_tz": 300
    },
    "id": "2JSzco5NPJ4t"
   },
   "outputs": [],
   "source": [
    "import pandas as pd\n",
    "import numpy as np"
   ]
  },
  {
   "cell_type": "code",
   "execution_count": null,
   "metadata": {
    "id": "6bkGqhUZPkcG"
   },
   "outputs": [],
   "source": [
    "from sklearn.model_selection import train_test_split\n",
    "from sklearn.preprocessing import StandardScaler\n",
    "from sklearn.model_selection import GridSearchCV\n",
    "from sklearn.model_selection import cross_val_score\n",
    "from sklearn.metrics import confusion_matrix, ConfusionMatrixDisplay"
   ]
  },
  {
   "cell_type": "code",
   "execution_count": null,
   "metadata": {
    "id": "_lhklcLmPt_o"
   },
   "outputs": [],
   "source": [
    "from sklearn.ensemble import RandomForestClassifier"
   ]
  },
  {
   "cell_type": "code",
   "execution_count": 2,
   "metadata": {
    "executionInfo": {
     "elapsed": 4,
     "status": "ok",
     "timestamp": 1662684137278,
     "user": {
      "displayName": "Hector Bryan Villegas Barragan",
      "userId": "05189738497377269192"
     },
     "user_tz": 300
    },
    "id": "iVONJaJcPxBP"
   },
   "outputs": [],
   "source": [
    "import matplotlib.pyplot as plt\n",
    "import seaborn as sns"
   ]
  },
  {
   "cell_type": "code",
   "execution_count": null,
   "metadata": {
    "id": "VGy8HtimSsQZ"
   },
   "outputs": [],
   "source": [
    "path = '/content/drive/MyDrive/Proyecto Introduccion a la Ciencia de Datos/output'"
   ]
  },
  {
   "cell_type": "code",
   "execution_count": null,
   "metadata": {
    "id": "YOuQxoCQSvF6"
   },
   "outputs": [],
   "source": [
    "df = pd.read_csv(f'{path}/dataset_with_clusters.csv')"
   ]
  },
  {
   "cell_type": "code",
   "execution_count": null,
   "metadata": {
    "colab": {
     "base_uri": "https://localhost:8080/",
     "height": 424
    },
    "executionInfo": {
     "elapsed": 275,
     "status": "ok",
     "timestamp": 1662610312114,
     "user": {
      "displayName": "Hector Bryan Villegas Barragan",
      "userId": "05189738497377269192"
     },
     "user_tz": 300
    },
    "id": "0kE0RsLvS1m-",
    "outputId": "89b0a229-2c35-4409-e64e-6e0e97be1e16"
   },
   "outputs": [
    {
     "data": {
      "text/html": [
       "\n",
       "  <div id=\"df-d42e0d68-5608-4d79-83cc-09d5258ec493\">\n",
       "    <div class=\"colab-df-container\">\n",
       "      <div>\n",
       "<style scoped>\n",
       "    .dataframe tbody tr th:only-of-type {\n",
       "        vertical-align: middle;\n",
       "    }\n",
       "\n",
       "    .dataframe tbody tr th {\n",
       "        vertical-align: top;\n",
       "    }\n",
       "\n",
       "    .dataframe thead th {\n",
       "        text-align: right;\n",
       "    }\n",
       "</style>\n",
       "<table border=\"1\" class=\"dataframe\">\n",
       "  <thead>\n",
       "    <tr style=\"text-align: right;\">\n",
       "      <th></th>\n",
       "      <th>sector</th>\n",
       "      <th>pmc</th>\n",
       "      <th>ccmc</th>\n",
       "      <th>ap</th>\n",
       "      <th>bps</th>\n",
       "      <th>ac</th>\n",
       "      <th>ingpc_mean</th>\n",
       "      <th>cluster</th>\n",
       "    </tr>\n",
       "  </thead>\n",
       "  <tbody>\n",
       "    <tr>\n",
       "      <th>0</th>\n",
       "      <td>Abel Gilbert</td>\n",
       "      <td>341.420856</td>\n",
       "      <td>0.000000e+00</td>\n",
       "      <td>3000.000000</td>\n",
       "      <td>1.866667</td>\n",
       "      <td>0.0</td>\n",
       "      <td>186.582404</td>\n",
       "      <td>0</td>\n",
       "    </tr>\n",
       "    <tr>\n",
       "      <th>1</th>\n",
       "      <td>Acacias</td>\n",
       "      <td>507.023203</td>\n",
       "      <td>0.000000e+00</td>\n",
       "      <td>245.000000</td>\n",
       "      <td>2.200000</td>\n",
       "      <td>1.0</td>\n",
       "      <td>297.917603</td>\n",
       "      <td>0</td>\n",
       "    </tr>\n",
       "    <tr>\n",
       "      <th>2</th>\n",
       "      <td>Alborada</td>\n",
       "      <td>819.085921</td>\n",
       "      <td>4.157044e-06</td>\n",
       "      <td>389.192825</td>\n",
       "      <td>2.066910</td>\n",
       "      <td>113.0</td>\n",
       "      <td>422.237240</td>\n",
       "      <td>3</td>\n",
       "    </tr>\n",
       "    <tr>\n",
       "      <th>3</th>\n",
       "      <td>Argelia</td>\n",
       "      <td>435.426671</td>\n",
       "      <td>4.232569e-07</td>\n",
       "      <td>1660.279070</td>\n",
       "      <td>2.155340</td>\n",
       "      <td>9.0</td>\n",
       "      <td>191.006255</td>\n",
       "      <td>0</td>\n",
       "    </tr>\n",
       "    <tr>\n",
       "      <th>4</th>\n",
       "      <td>Atarazana</td>\n",
       "      <td>857.244304</td>\n",
       "      <td>1.251978e-06</td>\n",
       "      <td>617.601790</td>\n",
       "      <td>2.236542</td>\n",
       "      <td>19.0</td>\n",
       "      <td>553.194133</td>\n",
       "      <td>0</td>\n",
       "    </tr>\n",
       "    <tr>\n",
       "      <th>...</th>\n",
       "      <td>...</td>\n",
       "      <td>...</td>\n",
       "      <td>...</td>\n",
       "      <td>...</td>\n",
       "      <td>...</td>\n",
       "      <td>...</td>\n",
       "      <td>...</td>\n",
       "      <td>...</td>\n",
       "    </tr>\n",
       "    <tr>\n",
       "      <th>56</th>\n",
       "      <td>Sauces</td>\n",
       "      <td>686.392528</td>\n",
       "      <td>9.823048e-07</td>\n",
       "      <td>295.268797</td>\n",
       "      <td>2.230769</td>\n",
       "      <td>10.0</td>\n",
       "      <td>364.891111</td>\n",
       "      <td>0</td>\n",
       "    </tr>\n",
       "    <tr>\n",
       "      <th>57</th>\n",
       "      <td>Solanda</td>\n",
       "      <td>517.208887</td>\n",
       "      <td>2.739629e-06</td>\n",
       "      <td>451.052632</td>\n",
       "      <td>2.456140</td>\n",
       "      <td>3.0</td>\n",
       "      <td>234.612433</td>\n",
       "      <td>0</td>\n",
       "    </tr>\n",
       "    <tr>\n",
       "      <th>58</th>\n",
       "      <td>Turubamba</td>\n",
       "      <td>542.188739</td>\n",
       "      <td>1.692989e-06</td>\n",
       "      <td>540.645161</td>\n",
       "      <td>2.450331</td>\n",
       "      <td>4.0</td>\n",
       "      <td>270.232101</td>\n",
       "      <td>0</td>\n",
       "    </tr>\n",
       "    <tr>\n",
       "      <th>59</th>\n",
       "      <td>Urdenor</td>\n",
       "      <td>936.585279</td>\n",
       "      <td>7.700748e-06</td>\n",
       "      <td>401.451220</td>\n",
       "      <td>2.317406</td>\n",
       "      <td>12.0</td>\n",
       "      <td>434.587815</td>\n",
       "      <td>3</td>\n",
       "    </tr>\n",
       "    <tr>\n",
       "      <th>60</th>\n",
       "      <td>Vergeles</td>\n",
       "      <td>735.707143</td>\n",
       "      <td>3.591105e-06</td>\n",
       "      <td>639.761905</td>\n",
       "      <td>2.418269</td>\n",
       "      <td>6.0</td>\n",
       "      <td>190.114522</td>\n",
       "      <td>0</td>\n",
       "    </tr>\n",
       "  </tbody>\n",
       "</table>\n",
       "<p>61 rows × 8 columns</p>\n",
       "</div>\n",
       "      <button class=\"colab-df-convert\" onclick=\"convertToInteractive('df-d42e0d68-5608-4d79-83cc-09d5258ec493')\"\n",
       "              title=\"Convert this dataframe to an interactive table.\"\n",
       "              style=\"display:none;\">\n",
       "        \n",
       "  <svg xmlns=\"http://www.w3.org/2000/svg\" height=\"24px\"viewBox=\"0 0 24 24\"\n",
       "       width=\"24px\">\n",
       "    <path d=\"M0 0h24v24H0V0z\" fill=\"none\"/>\n",
       "    <path d=\"M18.56 5.44l.94 2.06.94-2.06 2.06-.94-2.06-.94-.94-2.06-.94 2.06-2.06.94zm-11 1L8.5 8.5l.94-2.06 2.06-.94-2.06-.94L8.5 2.5l-.94 2.06-2.06.94zm10 10l.94 2.06.94-2.06 2.06-.94-2.06-.94-.94-2.06-.94 2.06-2.06.94z\"/><path d=\"M17.41 7.96l-1.37-1.37c-.4-.4-.92-.59-1.43-.59-.52 0-1.04.2-1.43.59L10.3 9.45l-7.72 7.72c-.78.78-.78 2.05 0 2.83L4 21.41c.39.39.9.59 1.41.59.51 0 1.02-.2 1.41-.59l7.78-7.78 2.81-2.81c.8-.78.8-2.07 0-2.86zM5.41 20L4 18.59l7.72-7.72 1.47 1.35L5.41 20z\"/>\n",
       "  </svg>\n",
       "      </button>\n",
       "      \n",
       "  <style>\n",
       "    .colab-df-container {\n",
       "      display:flex;\n",
       "      flex-wrap:wrap;\n",
       "      gap: 12px;\n",
       "    }\n",
       "\n",
       "    .colab-df-convert {\n",
       "      background-color: #E8F0FE;\n",
       "      border: none;\n",
       "      border-radius: 50%;\n",
       "      cursor: pointer;\n",
       "      display: none;\n",
       "      fill: #1967D2;\n",
       "      height: 32px;\n",
       "      padding: 0 0 0 0;\n",
       "      width: 32px;\n",
       "    }\n",
       "\n",
       "    .colab-df-convert:hover {\n",
       "      background-color: #E2EBFA;\n",
       "      box-shadow: 0px 1px 2px rgba(60, 64, 67, 0.3), 0px 1px 3px 1px rgba(60, 64, 67, 0.15);\n",
       "      fill: #174EA6;\n",
       "    }\n",
       "\n",
       "    [theme=dark] .colab-df-convert {\n",
       "      background-color: #3B4455;\n",
       "      fill: #D2E3FC;\n",
       "    }\n",
       "\n",
       "    [theme=dark] .colab-df-convert:hover {\n",
       "      background-color: #434B5C;\n",
       "      box-shadow: 0px 1px 3px 1px rgba(0, 0, 0, 0.15);\n",
       "      filter: drop-shadow(0px 1px 2px rgba(0, 0, 0, 0.3));\n",
       "      fill: #FFFFFF;\n",
       "    }\n",
       "  </style>\n",
       "\n",
       "      <script>\n",
       "        const buttonEl =\n",
       "          document.querySelector('#df-d42e0d68-5608-4d79-83cc-09d5258ec493 button.colab-df-convert');\n",
       "        buttonEl.style.display =\n",
       "          google.colab.kernel.accessAllowed ? 'block' : 'none';\n",
       "\n",
       "        async function convertToInteractive(key) {\n",
       "          const element = document.querySelector('#df-d42e0d68-5608-4d79-83cc-09d5258ec493');\n",
       "          const dataTable =\n",
       "            await google.colab.kernel.invokeFunction('convertToInteractive',\n",
       "                                                     [key], {});\n",
       "          if (!dataTable) return;\n",
       "\n",
       "          const docLinkHtml = 'Like what you see? Visit the ' +\n",
       "            '<a target=\"_blank\" href=https://colab.research.google.com/notebooks/data_table.ipynb>data table notebook</a>'\n",
       "            + ' to learn more about interactive tables.';\n",
       "          element.innerHTML = '';\n",
       "          dataTable['output_type'] = 'display_data';\n",
       "          await google.colab.output.renderOutput(dataTable, element);\n",
       "          const docLink = document.createElement('div');\n",
       "          docLink.innerHTML = docLinkHtml;\n",
       "          element.appendChild(docLink);\n",
       "        }\n",
       "      </script>\n",
       "    </div>\n",
       "  </div>\n",
       "  "
      ],
      "text/plain": [
       "          sector         pmc          ccmc           ap       bps     ac  \\\n",
       "0   Abel Gilbert  341.420856  0.000000e+00  3000.000000  1.866667    0.0   \n",
       "1        Acacias  507.023203  0.000000e+00   245.000000  2.200000    1.0   \n",
       "2       Alborada  819.085921  4.157044e-06   389.192825  2.066910  113.0   \n",
       "3        Argelia  435.426671  4.232569e-07  1660.279070  2.155340    9.0   \n",
       "4      Atarazana  857.244304  1.251978e-06   617.601790  2.236542   19.0   \n",
       "..           ...         ...           ...          ...       ...    ...   \n",
       "56        Sauces  686.392528  9.823048e-07   295.268797  2.230769   10.0   \n",
       "57       Solanda  517.208887  2.739629e-06   451.052632  2.456140    3.0   \n",
       "58     Turubamba  542.188739  1.692989e-06   540.645161  2.450331    4.0   \n",
       "59       Urdenor  936.585279  7.700748e-06   401.451220  2.317406   12.0   \n",
       "60      Vergeles  735.707143  3.591105e-06   639.761905  2.418269    6.0   \n",
       "\n",
       "    ingpc_mean  cluster  \n",
       "0   186.582404        0  \n",
       "1   297.917603        0  \n",
       "2   422.237240        3  \n",
       "3   191.006255        0  \n",
       "4   553.194133        0  \n",
       "..         ...      ...  \n",
       "56  364.891111        0  \n",
       "57  234.612433        0  \n",
       "58  270.232101        0  \n",
       "59  434.587815        3  \n",
       "60  190.114522        0  \n",
       "\n",
       "[61 rows x 8 columns]"
      ]
     },
     "execution_count": 9,
     "metadata": {},
     "output_type": "execute_result"
    }
   ],
   "source": [
    "df"
   ]
  },
  {
   "cell_type": "code",
   "execution_count": null,
   "metadata": {
    "id": "1iW6q7vPT3bK"
   },
   "outputs": [],
   "source": [
    "X = df.drop(columns=['sector', 'cluster'])\n",
    "y = df['cluster']"
   ]
  },
  {
   "cell_type": "code",
   "execution_count": null,
   "metadata": {
    "id": "zh-h25foUoDW"
   },
   "outputs": [],
   "source": [
    "X_train, X_test, y_train, y_test = train_test_split(X, y, test_size=0.2, random_state=0)"
   ]
  },
  {
   "cell_type": "code",
   "execution_count": null,
   "metadata": {
    "colab": {
     "base_uri": "https://localhost:8080/"
    },
    "executionInfo": {
     "elapsed": 228,
     "status": "ok",
     "timestamp": 1662612901670,
     "user": {
      "displayName": "Hector Bryan Villegas Barragan",
      "userId": "05189738497377269192"
     },
     "user_tz": 300
    },
    "id": "WKkxKuoWc1VL",
    "outputId": "58c9b196-55e7-4565-d7e5-665e1218f47d"
   },
   "outputs": [
    {
     "data": {
      "text/plain": [
       "0    43\n",
       "3     3\n",
       "2     2\n",
       "Name: cluster, dtype: int64"
      ]
     },
     "execution_count": 47,
     "metadata": {},
     "output_type": "execute_result"
    }
   ],
   "source": [
    "y_train.value_counts()"
   ]
  },
  {
   "cell_type": "code",
   "execution_count": null,
   "metadata": {
    "colab": {
     "base_uri": "https://localhost:8080/"
    },
    "executionInfo": {
     "elapsed": 332,
     "status": "ok",
     "timestamp": 1662612919569,
     "user": {
      "displayName": "Hector Bryan Villegas Barragan",
      "userId": "05189738497377269192"
     },
     "user_tz": 300
    },
    "id": "4WkVRJeEc5t2",
    "outputId": "edb27570-73dc-42c6-b83f-1289eb49ae4c"
   },
   "outputs": [
    {
     "data": {
      "text/plain": [
       "0    8\n",
       "3    4\n",
       "1    1\n",
       "Name: cluster, dtype: int64"
      ]
     },
     "execution_count": 48,
     "metadata": {},
     "output_type": "execute_result"
    }
   ],
   "source": [
    "y_test.value_counts()"
   ]
  },
  {
   "cell_type": "code",
   "execution_count": null,
   "metadata": {
    "id": "UoP6UlEMVNG4"
   },
   "outputs": [],
   "source": [
    "scaler = StandardScaler()"
   ]
  },
  {
   "cell_type": "code",
   "execution_count": null,
   "metadata": {
    "id": "x3XmyPwyVPus"
   },
   "outputs": [],
   "source": [
    "X_train = scaler.fit_transform(X_train)"
   ]
  },
  {
   "cell_type": "code",
   "execution_count": null,
   "metadata": {
    "id": "Ki2UWef_VSQW"
   },
   "outputs": [],
   "source": [
    "model = RandomForestClassifier(random_state=0)"
   ]
  },
  {
   "cell_type": "code",
   "execution_count": null,
   "metadata": {
    "id": "KpT9hnQyVm7-"
   },
   "outputs": [],
   "source": [
    "param_grid = {\n",
    "    'n_estimators' : [50, 100, 150, 200, 250],\n",
    "    'max_features' : ['auto','sqrt','log2'],\n",
    "    'max_depth' : [10, 50, 100, 150, 200],\n",
    "    'criterion' : [\"gini\", \"entropy\"]\n",
    "}"
   ]
  },
  {
   "cell_type": "code",
   "execution_count": null,
   "metadata": {
    "id": "94I2dBQvWy16"
   },
   "outputs": [],
   "source": [
    "grid = GridSearchCV(model, param_grid, cv=5)"
   ]
  },
  {
   "cell_type": "code",
   "execution_count": null,
   "metadata": {
    "colab": {
     "base_uri": "https://localhost:8080/"
    },
    "executionInfo": {
     "elapsed": 153910,
     "status": "ok",
     "timestamp": 1662611482198,
     "user": {
      "displayName": "Hector Bryan Villegas Barragan",
      "userId": "05189738497377269192"
     },
     "user_tz": 300
    },
    "id": "MX4l7FxyW2Tc",
    "outputId": "81eff76e-2039-4a5e-8f69-a5b5fcd8df4e"
   },
   "outputs": [
    {
     "name": "stderr",
     "output_type": "stream",
     "text": [
      "/usr/local/lib/python3.7/dist-packages/sklearn/model_selection/_split.py:680: UserWarning: The least populated class in y has only 2 members, which is less than n_splits=5.\n",
      "  UserWarning,\n"
     ]
    },
    {
     "data": {
      "text/plain": [
       "GridSearchCV(cv=5, estimator=RandomForestClassifier(random_state=0),\n",
       "             param_grid={'criterion': ['gini', 'entropy'],\n",
       "                         'max_depth': [10, 50, 100, 150, 200],\n",
       "                         'max_features': ['auto', 'sqrt', 'log2'],\n",
       "                         'n_estimators': [50, 100, 150, 200, 250]})"
      ]
     },
     "execution_count": 26,
     "metadata": {},
     "output_type": "execute_result"
    }
   ],
   "source": [
    "grid.fit(X_train, y_train)"
   ]
  },
  {
   "cell_type": "code",
   "execution_count": null,
   "metadata": {
    "colab": {
     "base_uri": "https://localhost:8080/"
    },
    "executionInfo": {
     "elapsed": 290,
     "status": "ok",
     "timestamp": 1662611621029,
     "user": {
      "displayName": "Hector Bryan Villegas Barragan",
      "userId": "05189738497377269192"
     },
     "user_tz": 300
    },
    "id": "-8bkrOudW4sr",
    "outputId": "b2175a49-025f-4b2d-a2cf-840af29942ca"
   },
   "outputs": [
    {
     "data": {
      "text/plain": [
       "{'criterion': 'gini',\n",
       " 'max_depth': 10,\n",
       " 'max_features': 'auto',\n",
       " 'n_estimators': 50}"
      ]
     },
     "execution_count": 27,
     "metadata": {},
     "output_type": "execute_result"
    }
   ],
   "source": [
    "grid.best_params_"
   ]
  },
  {
   "cell_type": "code",
   "execution_count": null,
   "metadata": {
    "id": "xw61UrDyYAFo"
   },
   "outputs": [],
   "source": [
    "model = RandomForestClassifier(criterion = 'gini',\n",
    "                              max_depth = 10,\n",
    "                              max_features = 'auto',\n",
    "                              n_estimators = 50,\n",
    "                              random_state=0)"
   ]
  },
  {
   "cell_type": "code",
   "execution_count": null,
   "metadata": {
    "colab": {
     "base_uri": "https://localhost:8080/"
    },
    "executionInfo": {
     "elapsed": 1228,
     "status": "ok",
     "timestamp": 1662612161443,
     "user": {
      "displayName": "Hector Bryan Villegas Barragan",
      "userId": "05189738497377269192"
     },
     "user_tz": 300
    },
    "id": "3ok6VYQdZ5BA",
    "outputId": "3827ace2-0bb1-46c2-e364-ab343acebbb9"
   },
   "outputs": [
    {
     "name": "stderr",
     "output_type": "stream",
     "text": [
      "/usr/local/lib/python3.7/dist-packages/sklearn/model_selection/_split.py:680: UserWarning: The least populated class in y has only 2 members, which is less than n_splits=5.\n",
      "  UserWarning,\n"
     ]
    },
    {
     "name": "stdout",
     "output_type": "stream",
     "text": [
      "0.9177777777777777 +- 0.0413357227505295\n"
     ]
    }
   ],
   "source": [
    "results = cross_val_score(model, X_train, y_train, cv=5)\n",
    "print(f'{results.mean()} +- {results.std()}')"
   ]
  },
  {
   "cell_type": "code",
   "execution_count": null,
   "metadata": {
    "colab": {
     "base_uri": "https://localhost:8080/"
    },
    "executionInfo": {
     "elapsed": 256,
     "status": "ok",
     "timestamp": 1662612176000,
     "user": {
      "displayName": "Hector Bryan Villegas Barragan",
      "userId": "05189738497377269192"
     },
     "user_tz": 300
    },
    "id": "PCwJBOXqaDza",
    "outputId": "721dce41-54b8-4253-84fa-fd680261ac5b"
   },
   "outputs": [
    {
     "data": {
      "text/plain": [
       "RandomForestClassifier(max_depth=10, n_estimators=50, random_state=0)"
      ]
     },
     "execution_count": 31,
     "metadata": {},
     "output_type": "execute_result"
    }
   ],
   "source": [
    "model.fit(X_train, y_train)"
   ]
  },
  {
   "cell_type": "code",
   "execution_count": null,
   "metadata": {
    "id": "HgwNjrQRaHmC"
   },
   "outputs": [],
   "source": [
    "X_test = scaler.transform(X_test)"
   ]
  },
  {
   "cell_type": "code",
   "execution_count": null,
   "metadata": {
    "colab": {
     "base_uri": "https://localhost:8080/"
    },
    "executionInfo": {
     "elapsed": 231,
     "status": "ok",
     "timestamp": 1662612196806,
     "user": {
      "displayName": "Hector Bryan Villegas Barragan",
      "userId": "05189738497377269192"
     },
     "user_tz": 300
    },
    "id": "X6zrV6K6aKLh",
    "outputId": "dd20a8f5-3429-4a27-cd20-2c60c2f43d51"
   },
   "outputs": [
    {
     "data": {
      "text/plain": [
       "0.9230769230769231"
      ]
     },
     "execution_count": 33,
     "metadata": {},
     "output_type": "execute_result"
    }
   ],
   "source": [
    "model.score(X_test, y_test)"
   ]
  },
  {
   "cell_type": "code",
   "execution_count": null,
   "metadata": {
    "id": "tRlzHL7faMrL"
   },
   "outputs": [],
   "source": [
    "y_predicted = model.predict(X_test)"
   ]
  },
  {
   "cell_type": "code",
   "execution_count": null,
   "metadata": {
    "id": "lkcGXH9laQLT"
   },
   "outputs": [],
   "source": [
    "matrix = confusion_matrix(y_test, y_predicted)"
   ]
  },
  {
   "cell_type": "code",
   "execution_count": null,
   "metadata": {
    "colab": {
     "base_uri": "https://localhost:8080/"
    },
    "executionInfo": {
     "elapsed": 16,
     "status": "ok",
     "timestamp": 1662612398519,
     "user": {
      "displayName": "Hector Bryan Villegas Barragan",
      "userId": "05189738497377269192"
     },
     "user_tz": 300
    },
    "id": "cfT09duBaz-M",
    "outputId": "8ad2f7a9-6e2d-460f-c656-17e6a867dbb7"
   },
   "outputs": [
    {
     "data": {
      "text/plain": [
       "array([0.12008507, 0.4089983 , 0.21893037, 0.07694832, 0.06182954,\n",
       "       0.11320839])"
      ]
     },
     "execution_count": 38,
     "metadata": {},
     "output_type": "execute_result"
    }
   ],
   "source": [
    "model.feature_importances_"
   ]
  },
  {
   "cell_type": "code",
   "execution_count": null,
   "metadata": {
    "colab": {
     "base_uri": "https://localhost:8080/",
     "height": 434
    },
    "executionInfo": {
     "elapsed": 813,
     "status": "ok",
     "timestamp": 1662612723021,
     "user": {
      "displayName": "Hector Bryan Villegas Barragan",
      "userId": "05189738497377269192"
     },
     "user_tz": 300
    },
    "id": "PG7DetirbO-l",
    "outputId": "4f21fa7d-c412-4890-95d3-abb2052fc362"
   },
   "outputs": [
    {
     "data": {
      "image/png": "[encoded data removed]",
      "text/plain": [
       "<Figure size 576x432 with 2 Axes>"
      ]
     },
     "metadata": {
      "needs_background": "light"
     },
     "output_type": "display_data"
    }
   ],
   "source": [
    "fig, ax = plt.subplots(figsize=(8,6))\n",
    "_ = sns.heatmap(matrix, annot=True, fmt='d', cmap=\"YlGnBu\", ax=ax)\n",
    "_ = ax.set_ylabel('Valor real', fontsize=13)\n",
    "_ = ax.set_xlabel('Valor predicho', fontsize=13)\n",
    "_ = fig.suptitle('Matriz de confusión', fontsize=15)"
   ]
  },
  {
   "cell_type": "code",
   "execution_count": 4,
   "metadata": {
    "executionInfo": {
     "elapsed": 273,
     "status": "ok",
     "timestamp": 1662684923339,
     "user": {
      "displayName": "Hector Bryan Villegas Barragan",
      "userId": "05189738497377269192"
     },
     "user_tz": 300
    },
    "id": "djZaI4cDu1lf"
   },
   "outputs": [],
   "source": [
    "feature_importance = pd.DataFrame({'importance': [0.12008507, 0.4089983 , 0.21893037, 0.07694832, 0.06182954, 0.11320839],\n",
    "                                  'feature': ['pmc', 'ccmc', 'ap', 'bps', 'ac', 'ingpc_mean']})"
   ]
  },
  {
   "cell_type": "code",
   "execution_count": 9,
   "metadata": {
    "executionInfo": {
     "elapsed": 3,
     "status": "ok",
     "timestamp": 1662684990911,
     "user": {
      "displayName": "Hector Bryan Villegas Barragan",
      "userId": "05189738497377269192"
     },
     "user_tz": 300
    },
    "id": "YtBmV2uvcAsR"
   },
   "outputs": [],
   "source": [
    "feature_importance.sort_values(by='importance', ascending=False, inplace=True)"
   ]
  },
  {
   "cell_type": "code",
   "execution_count": 12,
   "metadata": {
    "executionInfo": {
     "elapsed": 305,
     "status": "ok",
     "timestamp": 1662685212707,
     "user": {
      "displayName": "Hector Bryan Villegas Barragan",
      "userId": "05189738497377269192"
     },
     "user_tz": 300
    },
    "id": "ucsILnwewq3h"
   },
   "outputs": [],
   "source": [
    "sns.set_theme(style='darkgrid')"
   ]
  },
  {
   "cell_type": "code",
   "execution_count": 14,
   "metadata": {
    "colab": {
     "base_uri": "https://localhost:8080/",
     "height": 561
    },
    "executionInfo": {
     "elapsed": 678,
     "status": "ok",
     "timestamp": 1662685631914,
     "user": {
      "displayName": "Hector Bryan Villegas Barragan",
      "userId": "05189738497377269192"
     },
     "user_tz": 300
    },
    "id": "Ax11SPp2vp1k",
    "outputId": "5856ddd6-e30f-4ac4-efb0-0b04e149c9d7"
   },
   "outputs": [
    {
     "data": {
      "image/png": "[encoded data removed]",
      "text/plain": [
       "<Figure size 720x576 with 1 Axes>"
      ]
     },
     "metadata": {},
     "output_type": "display_data"
    }
   ],
   "source": [
    "fig, ax = plt.subplots(figsize=(10, 8))\n",
    "_ = sns.barplot(data=feature_importance, x='feature', y='importance', ax=ax)\n",
    "_ = ax.set_xlabel('Característica')\n",
    "_ = ax.set_ylabel('Importancia')\n",
    "_ = fig.suptitle('Importancia de las características')"
   ]
  },
  {
   "cell_type": "code",
   "execution_count": null,
   "metadata": {
    "id": "Fsc09XGVwmkH"
   },
   "outputs": [],
   "source": []
  }
 ],
 "metadata": {
  "colab": {
   "authorship_tag": "ABX9TyO2l+6uwApZbewXLLUDqjZJ",
   "mount_file_id": "1iAH5IZDJZkILYOSYWLYqNA1zN5L8o9-V",
   "provenance": []
  },
  "kernelspec": {
   "display_name": "Python 3 (ipykernel)",
   "language": "python",
   "name": "python3"
  },
  "language_info": {
   "codemirror_mode": {
    "name": "ipython",
    "version": 3
   },
   "file_extension": ".py",
   "mimetype": "text/x-python",
   "name": "python",
   "nbconvert_exporter": "python",
   "pygments_lexer": "ipython3",
   "version": "3.10.3"
  }
 },
 "nbformat": 4,
 "nbformat_minor": 1
}
