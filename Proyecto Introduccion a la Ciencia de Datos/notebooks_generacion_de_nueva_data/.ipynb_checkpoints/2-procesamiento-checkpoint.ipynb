{
 "cells": [
  {
   "cell_type": "markdown",
   "metadata": {
    "id": "YIlpP-tGmner"
   },
   "source": [
    "## rutas"
   ]
  },
  {
   "cell_type": "code",
   "execution_count": 2,
   "metadata": {
    "colab": {
     "base_uri": "https://localhost:8080/"
    },
    "executionInfo": {
     "elapsed": 105267,
     "status": "ok",
     "timestamp": 1659131035206,
     "user": {
      "displayName": "Hector Bryan Villegas Barragan",
      "userId": "05189738497377269192"
     },
     "user_tz": 300
    },
    "id": "90um61lVg2Yb",
    "outputId": "e3e1a4e7-9ef6-4c2f-863e-0d67026f542c"
   },
   "outputs": [
    {
     "name": "stdout",
     "output_type": "stream",
     "text": [
      "Mounted at /content/drive\n"
     ]
    }
   ],
   "source": [
    "from google.colab import drive\n",
    "drive.mount('/content/drive')"
   ]
  },
  {
   "cell_type": "code",
   "execution_count": 3,
   "metadata": {
    "executionInfo": {
     "elapsed": 228,
     "status": "ok",
     "timestamp": 1659131038807,
     "user": {
      "displayName": "Hector Bryan Villegas Barragan",
      "userId": "05189738497377269192"
     },
     "user_tz": 300
    },
    "id": "a4PzjjqZDvk2"
   },
   "outputs": [],
   "source": [
    "hv_path = '/content/drive/MyDrive/Proyecto Introduccion a la Ciencia de Datos/data/datos_con_sector.csv'\n",
    "dv_path = '/content/drive/MyDrive/Proyecto Introduccion a la Ciencia de Datos/data/datos_con_sector.csv'"
   ]
  },
  {
   "cell_type": "markdown",
   "metadata": {
    "id": "erNAN9F5nSqA"
   },
   "source": [
    "## liberías"
   ]
  },
  {
   "cell_type": "code",
   "execution_count": 4,
   "metadata": {
    "executionInfo": {
     "elapsed": 566,
     "status": "ok",
     "timestamp": 1659131042222,
     "user": {
      "displayName": "Hector Bryan Villegas Barragan",
      "userId": "05189738497377269192"
     },
     "user_tz": 300
    },
    "id": "vo9AELIeED53"
   },
   "outputs": [],
   "source": [
    "import pandas as pd"
   ]
  },
  {
   "cell_type": "code",
   "execution_count": 5,
   "metadata": {
    "executionInfo": {
     "elapsed": 6,
     "status": "ok",
     "timestamp": 1659131042224,
     "user": {
      "displayName": "Hector Bryan Villegas Barragan",
      "userId": "05189738497377269192"
     },
     "user_tz": 300
    },
    "id": "bwrCheMli-sO"
   },
   "outputs": [],
   "source": [
    "import numpy as np"
   ]
  },
  {
   "cell_type": "code",
   "execution_count": 6,
   "metadata": {
    "executionInfo": {
     "elapsed": 426,
     "status": "ok",
     "timestamp": 1659131042645,
     "user": {
      "displayName": "Hector Bryan Villegas Barragan",
      "userId": "05189738497377269192"
     },
     "user_tz": 300
    },
    "id": "_zI4Q8CMO5Wo"
   },
   "outputs": [],
   "source": [
    "import matplotlib.pyplot as plt\n",
    "import seaborn as sns"
   ]
  },
  {
   "cell_type": "markdown",
   "metadata": {
    "id": "hI4xySZBnaee"
   },
   "source": [
    "## carga del dataset con sectores"
   ]
  },
  {
   "cell_type": "code",
   "execution_count": 7,
   "metadata": {
    "executionInfo": {
     "elapsed": 4,
     "status": "ok",
     "timestamp": 1659131045246,
     "user": {
      "displayName": "Hector Bryan Villegas Barragan",
      "userId": "05189738497377269192"
     },
     "user_tz": 300
    },
    "id": "613hh8K9EJrC"
   },
   "outputs": [],
   "source": [
    "path = hv_path\n",
    "#path = dv_path"
   ]
  },
  {
   "cell_type": "code",
   "execution_count": 8,
   "metadata": {
    "executionInfo": {
     "elapsed": 3099,
     "status": "ok",
     "timestamp": 1659131048634,
     "user": {
      "displayName": "Hector Bryan Villegas Barragan",
      "userId": "05189738497377269192"
     },
     "user_tz": 300
    },
    "id": "JccgJevAEFAs"
   },
   "outputs": [],
   "source": [
    "df = pd.read_csv(path)"
   ]
  },
  {
   "cell_type": "code",
   "execution_count": 9,
   "metadata": {
    "executionInfo": {
     "elapsed": 18,
     "status": "ok",
     "timestamp": 1659131048634,
     "user": {
      "displayName": "Hector Bryan Villegas Barragan",
      "userId": "05189738497377269192"
     },
     "user_tz": 300
    },
    "id": "2Ms4eM7FEUHp"
   },
   "outputs": [],
   "source": [
    "df.drop(columns=['Unnamed: 0'], inplace =True)"
   ]
  },
  {
   "cell_type": "code",
   "execution_count": 10,
   "metadata": {
    "colab": {
     "base_uri": "https://localhost:8080/",
     "height": 0
    },
    "executionInfo": {
     "elapsed": 18,
     "status": "ok",
     "timestamp": 1659131048635,
     "user": {
      "displayName": "Hector Bryan Villegas Barragan",
      "userId": "05189738497377269192"
     },
     "user_tz": 300
    },
    "id": "kiHvizEjEVHq",
    "outputId": "e5684fe4-b0d6-47d3-c047-5c3685851cc6"
   },
   "outputs": [
    {
     "data": {
      "text/html": [
       "\n",
       "  <div id=\"df-9c908544-ae0d-489f-ba85-36389a2ec043\">\n",
       "    <div class=\"colab-df-container\">\n",
       "      <div>\n",
       "<style scoped>\n",
       "    .dataframe tbody tr th:only-of-type {\n",
       "        vertical-align: middle;\n",
       "    }\n",
       "\n",
       "    .dataframe tbody tr th {\n",
       "        vertical-align: top;\n",
       "    }\n",
       "\n",
       "    .dataframe thead th {\n",
       "        text-align: right;\n",
       "    }\n",
       "</style>\n",
       "<table border=\"1\" class=\"dataframe\">\n",
       "  <thead>\n",
       "    <tr style=\"text-align: right;\">\n",
       "      <th></th>\n",
       "      <th>id</th>\n",
       "      <th>ad_type</th>\n",
       "      <th>start_date</th>\n",
       "      <th>end_date</th>\n",
       "      <th>created_on</th>\n",
       "      <th>lat</th>\n",
       "      <th>lon</th>\n",
       "      <th>l1</th>\n",
       "      <th>l2</th>\n",
       "      <th>l3</th>\n",
       "      <th>...</th>\n",
       "      <th>surface_total</th>\n",
       "      <th>surface_covered</th>\n",
       "      <th>price</th>\n",
       "      <th>currency</th>\n",
       "      <th>price_period</th>\n",
       "      <th>title</th>\n",
       "      <th>description</th>\n",
       "      <th>property_type</th>\n",
       "      <th>operation_type</th>\n",
       "      <th>Nombre_sector</th>\n",
       "    </tr>\n",
       "  </thead>\n",
       "  <tbody>\n",
       "    <tr>\n",
       "      <th>0</th>\n",
       "      <td>iUkBsXP6XTav/ZnDJHEd3A==</td>\n",
       "      <td>Propiedad</td>\n",
       "      <td>2020-12-18</td>\n",
       "      <td>2021-02-17</td>\n",
       "      <td>2020-12-18</td>\n",
       "      <td>-2.033523</td>\n",
       "      <td>-79.893292</td>\n",
       "      <td>Ecuador</td>\n",
       "      <td>Guayas</td>\n",
       "      <td>Guayaquil</td>\n",
       "      <td>...</td>\n",
       "      <td>NaN</td>\n",
       "      <td>NaN</td>\n",
       "      <td>145000.0</td>\n",
       "      <td>USD</td>\n",
       "      <td>NaN</td>\n",
       "      <td>Sector (Norte Guayaquil -  Villa Club) - Propi...</td>\n",
       "      <td>TRAVI BIENES RAICES - REALTOR.\\nPROPIEDAD (CAS...</td>\n",
       "      <td>Casa</td>\n",
       "      <td>Venta</td>\n",
       "      <td>Villa Club</td>\n",
       "    </tr>\n",
       "    <tr>\n",
       "      <th>1</th>\n",
       "      <td>Il0K8hDYRkTRIzV0mo5jgQ==</td>\n",
       "      <td>Propiedad</td>\n",
       "      <td>2020-12-18</td>\n",
       "      <td>2020-12-18</td>\n",
       "      <td>2020-12-18</td>\n",
       "      <td>-2.055185</td>\n",
       "      <td>-79.930277</td>\n",
       "      <td>Ecuador</td>\n",
       "      <td>Guayas</td>\n",
       "      <td>Guayaquil</td>\n",
       "      <td>...</td>\n",
       "      <td>NaN</td>\n",
       "      <td>NaN</td>\n",
       "      <td>125000.0</td>\n",
       "      <td>USD</td>\n",
       "      <td>NaN</td>\n",
       "      <td>Almería ubicada en (URB LA RIOJA) venta de casa.</td>\n",
       "      <td>Travi Bienes Raíces – Elite pone en disposició...</td>\n",
       "      <td>Casa</td>\n",
       "      <td>Venta</td>\n",
       "      <td>La Rioja</td>\n",
       "    </tr>\n",
       "    <tr>\n",
       "      <th>2</th>\n",
       "      <td>N9GeHO202POeU5iK7gvxAA==</td>\n",
       "      <td>Propiedad</td>\n",
       "      <td>2020-12-18</td>\n",
       "      <td>2021-01-08</td>\n",
       "      <td>2020-12-18</td>\n",
       "      <td>-2.023776</td>\n",
       "      <td>-79.917871</td>\n",
       "      <td>Ecuador</td>\n",
       "      <td>Guayas</td>\n",
       "      <td>Guayaquil</td>\n",
       "      <td>...</td>\n",
       "      <td>NaN</td>\n",
       "      <td>NaN</td>\n",
       "      <td>380.0</td>\n",
       "      <td>USD</td>\n",
       "      <td>NaN</td>\n",
       "      <td>Alquiler de casa en Villa del Rey, primeras Et...</td>\n",
       "      <td>Casa de dos plantas parcialmente amoblada  con...</td>\n",
       "      <td>Casa</td>\n",
       "      <td>Alquiler</td>\n",
       "      <td>Villas del Rey</td>\n",
       "    </tr>\n",
       "    <tr>\n",
       "      <th>3</th>\n",
       "      <td>0RxX2VngJ4h6uM8zRMgnjw==</td>\n",
       "      <td>Propiedad</td>\n",
       "      <td>2020-12-18</td>\n",
       "      <td>2021-01-05</td>\n",
       "      <td>2020-12-18</td>\n",
       "      <td>-2.059427</td>\n",
       "      <td>-79.928693</td>\n",
       "      <td>Ecuador</td>\n",
       "      <td>Guayas</td>\n",
       "      <td>Guayaquil</td>\n",
       "      <td>...</td>\n",
       "      <td>NaN</td>\n",
       "      <td>NaN</td>\n",
       "      <td>96500.0</td>\n",
       "      <td>USD</td>\n",
       "      <td>NaN</td>\n",
       "      <td>Al inicio de la vía a La Aurora en villa Itali...</td>\n",
       "      <td>Travi Bienes Raíces - Élite pone a su disposic...</td>\n",
       "      <td>Casa</td>\n",
       "      <td>Venta</td>\n",
       "      <td>Villa Italia</td>\n",
       "    </tr>\n",
       "    <tr>\n",
       "      <th>4</th>\n",
       "      <td>japZaqdp3BZUCMEZRv2/kw==</td>\n",
       "      <td>Propiedad</td>\n",
       "      <td>2020-12-18</td>\n",
       "      <td>2021-02-17</td>\n",
       "      <td>2020-12-18</td>\n",
       "      <td>-2.055185</td>\n",
       "      <td>-79.930277</td>\n",
       "      <td>Ecuador</td>\n",
       "      <td>Guayas</td>\n",
       "      <td>Guayaquil</td>\n",
       "      <td>...</td>\n",
       "      <td>NaN</td>\n",
       "      <td>NaN</td>\n",
       "      <td>125000.0</td>\n",
       "      <td>USD</td>\n",
       "      <td>NaN</td>\n",
       "      <td>PROPIEDAD-VENDO-Urbn. RIOJA A LA ALTURA DE LA ...</td>\n",
       "      <td>FRANQUICIA-Elite pone en disposición de Venta ...</td>\n",
       "      <td>Casa</td>\n",
       "      <td>Venta</td>\n",
       "      <td>La Rioja</td>\n",
       "    </tr>\n",
       "  </tbody>\n",
       "</table>\n",
       "<p>5 rows × 26 columns</p>\n",
       "</div>\n",
       "      <button class=\"colab-df-convert\" onclick=\"convertToInteractive('df-9c908544-ae0d-489f-ba85-36389a2ec043')\"\n",
       "              title=\"Convert this dataframe to an interactive table.\"\n",
       "              style=\"display:none;\">\n",
       "        \n",
       "  <svg xmlns=\"http://www.w3.org/2000/svg\" height=\"24px\"viewBox=\"0 0 24 24\"\n",
       "       width=\"24px\">\n",
       "    <path d=\"M0 0h24v24H0V0z\" fill=\"none\"/>\n",
       "    <path d=\"M18.56 5.44l.94 2.06.94-2.06 2.06-.94-2.06-.94-.94-2.06-.94 2.06-2.06.94zm-11 1L8.5 8.5l.94-2.06 2.06-.94-2.06-.94L8.5 2.5l-.94 2.06-2.06.94zm10 10l.94 2.06.94-2.06 2.06-.94-2.06-.94-.94-2.06-.94 2.06-2.06.94z\"/><path d=\"M17.41 7.96l-1.37-1.37c-.4-.4-.92-.59-1.43-.59-.52 0-1.04.2-1.43.59L10.3 9.45l-7.72 7.72c-.78.78-.78 2.05 0 2.83L4 21.41c.39.39.9.59 1.41.59.51 0 1.02-.2 1.41-.59l7.78-7.78 2.81-2.81c.8-.78.8-2.07 0-2.86zM5.41 20L4 18.59l7.72-7.72 1.47 1.35L5.41 20z\"/>\n",
       "  </svg>\n",
       "      </button>\n",
       "      \n",
       "  <style>\n",
       "    .colab-df-container {\n",
       "      display:flex;\n",
       "      flex-wrap:wrap;\n",
       "      gap: 12px;\n",
       "    }\n",
       "\n",
       "    .colab-df-convert {\n",
       "      background-color: #E8F0FE;\n",
       "      border: none;\n",
       "      border-radius: 50%;\n",
       "      cursor: pointer;\n",
       "      display: none;\n",
       "      fill: #1967D2;\n",
       "      height: 32px;\n",
       "      padding: 0 0 0 0;\n",
       "      width: 32px;\n",
       "    }\n",
       "\n",
       "    .colab-df-convert:hover {\n",
       "      background-color: #E2EBFA;\n",
       "      box-shadow: 0px 1px 2px rgba(60, 64, 67, 0.3), 0px 1px 3px 1px rgba(60, 64, 67, 0.15);\n",
       "      fill: #174EA6;\n",
       "    }\n",
       "\n",
       "    [theme=dark] .colab-df-convert {\n",
       "      background-color: #3B4455;\n",
       "      fill: #D2E3FC;\n",
       "    }\n",
       "\n",
       "    [theme=dark] .colab-df-convert:hover {\n",
       "      background-color: #434B5C;\n",
       "      box-shadow: 0px 1px 3px 1px rgba(0, 0, 0, 0.15);\n",
       "      filter: drop-shadow(0px 1px 2px rgba(0, 0, 0, 0.3));\n",
       "      fill: #FFFFFF;\n",
       "    }\n",
       "  </style>\n",
       "\n",
       "      <script>\n",
       "        const buttonEl =\n",
       "          document.querySelector('#df-9c908544-ae0d-489f-ba85-36389a2ec043 button.colab-df-convert');\n",
       "        buttonEl.style.display =\n",
       "          google.colab.kernel.accessAllowed ? 'block' : 'none';\n",
       "\n",
       "        async function convertToInteractive(key) {\n",
       "          const element = document.querySelector('#df-9c908544-ae0d-489f-ba85-36389a2ec043');\n",
       "          const dataTable =\n",
       "            await google.colab.kernel.invokeFunction('convertToInteractive',\n",
       "                                                     [key], {});\n",
       "          if (!dataTable) return;\n",
       "\n",
       "          const docLinkHtml = 'Like what you see? Visit the ' +\n",
       "            '<a target=\"_blank\" href=https://colab.research.google.com/notebooks/data_table.ipynb>data table notebook</a>'\n",
       "            + ' to learn more about interactive tables.';\n",
       "          element.innerHTML = '';\n",
       "          dataTable['output_type'] = 'display_data';\n",
       "          await google.colab.output.renderOutput(dataTable, element);\n",
       "          const docLink = document.createElement('div');\n",
       "          docLink.innerHTML = docLinkHtml;\n",
       "          element.appendChild(docLink);\n",
       "        }\n",
       "      </script>\n",
       "    </div>\n",
       "  </div>\n",
       "  "
      ],
      "text/plain": [
       "                         id    ad_type  start_date    end_date  created_on  \\\n",
       "0  iUkBsXP6XTav/ZnDJHEd3A==  Propiedad  2020-12-18  2021-02-17  2020-12-18   \n",
       "1  Il0K8hDYRkTRIzV0mo5jgQ==  Propiedad  2020-12-18  2020-12-18  2020-12-18   \n",
       "2  N9GeHO202POeU5iK7gvxAA==  Propiedad  2020-12-18  2021-01-08  2020-12-18   \n",
       "3  0RxX2VngJ4h6uM8zRMgnjw==  Propiedad  2020-12-18  2021-01-05  2020-12-18   \n",
       "4  japZaqdp3BZUCMEZRv2/kw==  Propiedad  2020-12-18  2021-02-17  2020-12-18   \n",
       "\n",
       "        lat        lon       l1      l2         l3  ... surface_total  \\\n",
       "0 -2.033523 -79.893292  Ecuador  Guayas  Guayaquil  ...           NaN   \n",
       "1 -2.055185 -79.930277  Ecuador  Guayas  Guayaquil  ...           NaN   \n",
       "2 -2.023776 -79.917871  Ecuador  Guayas  Guayaquil  ...           NaN   \n",
       "3 -2.059427 -79.928693  Ecuador  Guayas  Guayaquil  ...           NaN   \n",
       "4 -2.055185 -79.930277  Ecuador  Guayas  Guayaquil  ...           NaN   \n",
       "\n",
       "  surface_covered     price  currency  price_period  \\\n",
       "0             NaN  145000.0       USD           NaN   \n",
       "1             NaN  125000.0       USD           NaN   \n",
       "2             NaN     380.0       USD           NaN   \n",
       "3             NaN   96500.0       USD           NaN   \n",
       "4             NaN  125000.0       USD           NaN   \n",
       "\n",
       "                                               title  \\\n",
       "0  Sector (Norte Guayaquil -  Villa Club) - Propi...   \n",
       "1   Almería ubicada en (URB LA RIOJA) venta de casa.   \n",
       "2  Alquiler de casa en Villa del Rey, primeras Et...   \n",
       "3  Al inicio de la vía a La Aurora en villa Itali...   \n",
       "4  PROPIEDAD-VENDO-Urbn. RIOJA A LA ALTURA DE LA ...   \n",
       "\n",
       "                                         description  property_type  \\\n",
       "0  TRAVI BIENES RAICES - REALTOR.\\nPROPIEDAD (CAS...           Casa   \n",
       "1  Travi Bienes Raíces – Elite pone en disposició...           Casa   \n",
       "2  Casa de dos plantas parcialmente amoblada  con...           Casa   \n",
       "3  Travi Bienes Raíces - Élite pone a su disposic...           Casa   \n",
       "4  FRANQUICIA-Elite pone en disposición de Venta ...           Casa   \n",
       "\n",
       "   operation_type   Nombre_sector  \n",
       "0           Venta      Villa Club  \n",
       "1           Venta        La Rioja  \n",
       "2        Alquiler  Villas del Rey  \n",
       "3           Venta    Villa Italia  \n",
       "4           Venta        La Rioja  \n",
       "\n",
       "[5 rows x 26 columns]"
      ]
     },
     "execution_count": 10,
     "metadata": {},
     "output_type": "execute_result"
    }
   ],
   "source": [
    "df.head()"
   ]
  },
  {
   "cell_type": "code",
   "execution_count": 11,
   "metadata": {
    "colab": {
     "base_uri": "https://localhost:8080/"
    },
    "executionInfo": {
     "elapsed": 15,
     "status": "ok",
     "timestamp": 1659131048635,
     "user": {
      "displayName": "Hector Bryan Villegas Barragan",
      "userId": "05189738497377269192"
     },
     "user_tz": 300
    },
    "id": "_DY95xKQoVAt",
    "outputId": "2d394361-66e4-48d7-9d99-979a945ac8b6"
   },
   "outputs": [
    {
     "data": {
      "text/plain": [
       "100895"
      ]
     },
     "execution_count": 11,
     "metadata": {},
     "output_type": "execute_result"
    }
   ],
   "source": [
    "FILAS_P2 = df.shape[0]\n",
    "FILAS_P2"
   ]
  },
  {
   "cell_type": "markdown",
   "metadata": {
    "id": "Fg21-_M-p_GO"
   },
   "source": [
    "## limpieza"
   ]
  },
  {
   "cell_type": "code",
   "execution_count": null,
   "metadata": {
    "colab": {
     "base_uri": "https://localhost:8080/"
    },
    "executionInfo": {
     "elapsed": 256,
     "status": "ok",
     "timestamp": 1657482630961,
     "user": {
      "displayName": "Hector Bryan Villegas Barragan",
      "userId": "05189738497377269192"
     },
     "user_tz": 300
    },
    "id": "W5CFl6opqHdF",
    "outputId": "abbb4325-ccbd-46c4-dbba-014aeb0ebd58"
   },
   "outputs": [
    {
     "name": "stdout",
     "output_type": "stream",
     "text": [
      "<class 'pandas.core.frame.DataFrame'>\n",
      "RangeIndex: 100895 entries, 0 to 100894\n",
      "Data columns (total 26 columns):\n",
      " #   Column           Non-Null Count   Dtype  \n",
      "---  ------           --------------   -----  \n",
      " 0   id               100895 non-null  object \n",
      " 1   ad_type          100895 non-null  object \n",
      " 2   start_date       100895 non-null  object \n",
      " 3   end_date         100895 non-null  object \n",
      " 4   created_on       100895 non-null  object \n",
      " 5   lat              100895 non-null  float64\n",
      " 6   lon              100895 non-null  float64\n",
      " 7   l1               100895 non-null  object \n",
      " 8   l2               100895 non-null  object \n",
      " 9   l3               98681 non-null   object \n",
      " 10  l4               91446 non-null   object \n",
      " 11  l5               43648 non-null   object \n",
      " 12  l6               8045 non-null    object \n",
      " 13  rooms            3175 non-null    float64\n",
      " 14  bedrooms         23307 non-null   float64\n",
      " 15  bathrooms        88420 non-null   float64\n",
      " 16  surface_total    352 non-null     float64\n",
      " 17  surface_covered  249 non-null     float64\n",
      " 18  price            100728 non-null  float64\n",
      " 19  currency         100702 non-null  object \n",
      " 20  price_period     352 non-null     object \n",
      " 21  title            100895 non-null  object \n",
      " 22  description      100891 non-null  object \n",
      " 23  property_type    100895 non-null  object \n",
      " 24  operation_type   100895 non-null  object \n",
      " 25  Nombre_sector    100895 non-null  object \n",
      "dtypes: float64(8), object(18)\n",
      "memory usage: 20.0+ MB\n"
     ]
    }
   ],
   "source": [
    "df.info()"
   ]
  },
  {
   "cell_type": "markdown",
   "metadata": {
    "id": "mMWaGRXsqd_H"
   },
   "source": [
    "### únicamente se trabajará con registros de Quito y Guayaquil"
   ]
  },
  {
   "cell_type": "code",
   "execution_count": null,
   "metadata": {
    "id": "vFcRXAUoG_BO"
   },
   "outputs": [],
   "source": [
    "df = df.loc[(df['l3'] == 'Guayaquil') | (df['l3'] == 'Quito')]"
   ]
  },
  {
   "cell_type": "code",
   "execution_count": null,
   "metadata": {
    "colab": {
     "base_uri": "https://localhost:8080/"
    },
    "executionInfo": {
     "elapsed": 17,
     "status": "ok",
     "timestamp": 1657482631319,
     "user": {
      "displayName": "Hector Bryan Villegas Barragan",
      "userId": "05189738497377269192"
     },
     "user_tz": 300
    },
    "id": "FWHEqwupqp5h",
    "outputId": "8653866c-da3a-4f27-b328-69e5ea728a85"
   },
   "outputs": [
    {
     "name": "stdout",
     "output_type": "stream",
     "text": [
      "se convervan 97065 registros\n"
     ]
    }
   ],
   "source": [
    "FILAS_P3 = df.shape[0]\n",
    "print(f'se convervan {FILAS_P3} registros')"
   ]
  },
  {
   "cell_type": "markdown",
   "metadata": {
    "id": "2NKQrKFvq8KP"
   },
   "source": [
    "### se descartan las columnas que no son relevantes para el análisis"
   ]
  },
  {
   "cell_type": "code",
   "execution_count": null,
   "metadata": {
    "colab": {
     "base_uri": "https://localhost:8080/"
    },
    "executionInfo": {
     "elapsed": 16,
     "status": "ok",
     "timestamp": 1657482631320,
     "user": {
      "displayName": "Hector Bryan Villegas Barragan",
      "userId": "05189738497377269192"
     },
     "user_tz": 300
    },
    "id": "KbUMLtRprRev",
    "outputId": "81a1f609-aad3-4641-ae27-436ca57c2ec8"
   },
   "outputs": [
    {
     "data": {
      "text/plain": [
       "array(['USD', nan], dtype=object)"
      ]
     },
     "execution_count": 14,
     "metadata": {},
     "output_type": "execute_result"
    }
   ],
   "source": [
    "#contenido de la colummna \"currency\"\n",
    "df['currency'].unique()"
   ]
  },
  {
   "cell_type": "code",
   "execution_count": null,
   "metadata": {
    "colab": {
     "base_uri": "https://localhost:8080/"
    },
    "executionInfo": {
     "elapsed": 16,
     "status": "ok",
     "timestamp": 1657482631322,
     "user": {
      "displayName": "Hector Bryan Villegas Barragan",
      "userId": "05189738497377269192"
     },
     "user_tz": 300
    },
    "id": "Mw9ne8Czrbrg",
    "outputId": "741d02e5-fdc5-418e-c537-5709a30bfe40"
   },
   "outputs": [
    {
     "data": {
      "text/plain": [
       "array([nan, 'Samborondon', 'Centro Norte', 'Sur De Quito',\n",
       "       'Norte De Quito', 'Via A La Costa', 'Centro Colonial',\n",
       "       'Sur De Guayaquil', 'Norte De Guayaquil', 'Centro De Guayaquil',\n",
       "       'Valle Los Chillos', 'Malecon 2000', '12 de octubre'], dtype=object)"
      ]
     },
     "execution_count": 15,
     "metadata": {},
     "output_type": "execute_result"
    }
   ],
   "source": [
    "#contenido de la colummna \"l4\"\n",
    "df['l4'].unique()"
   ]
  },
  {
   "cell_type": "code",
   "execution_count": null,
   "metadata": {
    "colab": {
     "base_uri": "https://localhost:8080/"
    },
    "executionInfo": {
     "elapsed": 16,
     "status": "ok",
     "timestamp": 1657482631323,
     "user": {
      "displayName": "Hector Bryan Villegas Barragan",
      "userId": "05189738497377269192"
     },
     "user_tz": 300
    },
    "id": "ptsNK1TMr6vL",
    "outputId": "1e8d311c-ff88-4d15-af32-e4a552faa80e"
   },
   "outputs": [
    {
     "data": {
      "text/plain": [
       "array([nan, 'San Isidro del Inca', 'Mariscal Sucre', 'Cochapamba',\n",
       "       'Jipijapa', 'Kennedy', 'Iñaquito', 'Comité del Pueblo',\n",
       "       'Rumipamba', 'Belisario Quevedo', 'La Ferroviaria', 'La Mena',\n",
       "       'La Ecuatoriana', 'La Argelia', 'Carcelen', 'El Condado',\n",
       "       'Cotocollao', 'Ponceano', 'Itchimbía', 'San Juan',\n",
       "       'Centro De Quito', 'Concepción', 'Turubamba', 'Solanda',\n",
       "       'Chillogallo', 'Alborada', 'Urdesa central', 'Guamaní', 'Quitumbe',\n",
       "       'Vía a Daule', 'La Magdalena', 'Chimbacalle', 'Kennedy Norte',\n",
       "       'Garzota', 'San Bartolo', 'Francisco de Orellana', 'Chilibulo',\n",
       "       'Samanes', 'San Martín', 'Conocoto', 'Bellavista',\n",
       "       'Terminal Terrestre', 'Sangolqui', 'Ciudad Celeste', 'Sauces',\n",
       "       'Samborondon', 'Ceibos', 'Centro Sur', 'Vía Salitre',\n",
       "       'Puerto Santa Ana', 'Miraflores', 'Calderón', 'Amagasi Del Inca',\n",
       "       'Isla Mocolí', 'La Merced', 'Vía La Aurora', 'Las Cumbres',\n",
       "       'Santa Cecilia', 'Caupicho', 'Quito Tenis', 'Inmaconsa'],\n",
       "      dtype=object)"
      ]
     },
     "execution_count": 16,
     "metadata": {},
     "output_type": "execute_result"
    }
   ],
   "source": [
    "#contenido de la colummna \"l5\"\n",
    "df['l5'].unique()"
   ]
  },
  {
   "cell_type": "code",
   "execution_count": null,
   "metadata": {
    "colab": {
     "base_uri": "https://localhost:8080/"
    },
    "executionInfo": {
     "elapsed": 16,
     "status": "ok",
     "timestamp": 1657482631324,
     "user": {
      "displayName": "Hector Bryan Villegas Barragan",
      "userId": "05189738497377269192"
     },
     "user_tz": 300
    },
    "id": "XwqsiOhjWPER",
    "outputId": "0fa7d2f7-d0de-4b76-ee33-2d50b26bc14e"
   },
   "outputs": [
    {
     "data": {
      "text/plain": [
       "array([nan, 'El Batan', 'Gonzalez Suarez', 'El Inca', 'Las Casas',\n",
       "       'La Carolina', 'La Luz', 'La Floresta', 'Álamos Norte',\n",
       "       'Santa Prisca', 'San Carlos', 'Monteserrin', 'El Pinar',\n",
       "       'Bellavista', 'Bellavista de Carretas', 'Santa Lucía', 'El Recreo',\n",
       "       'Colinas del Pichincha', 'Villaflora'], dtype=object)"
      ]
     },
     "execution_count": 17,
     "metadata": {},
     "output_type": "execute_result"
    }
   ],
   "source": [
    "#contenido de la colummna \"l6\"\n",
    "df['l6'].unique()"
   ]
  },
  {
   "cell_type": "code",
   "execution_count": null,
   "metadata": {
    "colab": {
     "base_uri": "https://localhost:8080/"
    },
    "executionInfo": {
     "elapsed": 15,
     "status": "ok",
     "timestamp": 1657482631325,
     "user": {
      "displayName": "Hector Bryan Villegas Barragan",
      "userId": "05189738497377269192"
     },
     "user_tz": 300
    },
    "id": "BWvKMLF7sjIj",
    "outputId": "36c10fa5-957a-4d59-f9df-dcc396ec3c84"
   },
   "outputs": [
    {
     "data": {
      "text/plain": [
       "0"
      ]
     },
     "execution_count": 18,
     "metadata": {},
     "output_type": "execute_result"
    }
   ],
   "source": [
    "#las columnas \"created_on\" y \"start_date\" tienen la misma información por lo que se puede eliminar una de ellas\n",
    "idx = df['created_on'] != df['start_date']\n",
    "idx.sum()"
   ]
  },
  {
   "cell_type": "code",
   "execution_count": null,
   "metadata": {
    "colab": {
     "base_uri": "https://localhost:8080/"
    },
    "executionInfo": {
     "elapsed": 15,
     "status": "ok",
     "timestamp": 1657482631326,
     "user": {
      "displayName": "Hector Bryan Villegas Barragan",
      "userId": "05189738497377269192"
     },
     "user_tz": 300
    },
    "id": "MI6xd0tAtLGP",
    "outputId": "0035f64f-e898-4a9e-b652-3d7c879e38d5"
   },
   "outputs": [
    {
     "data": {
      "text/plain": [
       "array([nan, 'Mensual'], dtype=object)"
      ]
     },
     "execution_count": 19,
     "metadata": {},
     "output_type": "execute_result"
    }
   ],
   "source": [
    "#contenido de la colummna \"price_period\"\n",
    "df['price_period'].unique()"
   ]
  },
  {
   "cell_type": "code",
   "execution_count": null,
   "metadata": {
    "id": "7Y77AsT-WnzU"
   },
   "outputs": [],
   "source": [
    "#\"title\" y \"description\" también se pueden descartar\n",
    "\n",
    "df.drop(columns=['title', 'description', 'ad_type', 'price_period', 'created_on', 'currency', 'l4', 'l5', 'l6'], inplace=True)"
   ]
  },
  {
   "cell_type": "code",
   "execution_count": null,
   "metadata": {
    "colab": {
     "base_uri": "https://localhost:8080/"
    },
    "executionInfo": {
     "elapsed": 16,
     "status": "ok",
     "timestamp": 1657482631523,
     "user": {
      "displayName": "Hector Bryan Villegas Barragan",
      "userId": "05189738497377269192"
     },
     "user_tz": 300
    },
    "id": "kxeD6heHHD6c",
    "outputId": "7f025a69-e49e-475d-daf0-14555207b74d"
   },
   "outputs": [
    {
     "data": {
      "text/plain": [
       "id                     0\n",
       "start_date             0\n",
       "end_date               0\n",
       "lat                    0\n",
       "lon                    0\n",
       "l1                     0\n",
       "l2                     0\n",
       "l3                     0\n",
       "rooms              95299\n",
       "bedrooms           76268\n",
       "bathrooms          11620\n",
       "surface_total      96719\n",
       "surface_covered    96821\n",
       "price                164\n",
       "property_type          0\n",
       "operation_type         0\n",
       "Nombre_sector          0\n",
       "dtype: int64"
      ]
     },
     "execution_count": 21,
     "metadata": {},
     "output_type": "execute_result"
    }
   ],
   "source": [
    "df.isna().sum()"
   ]
  },
  {
   "cell_type": "code",
   "execution_count": null,
   "metadata": {
    "colab": {
     "base_uri": "https://localhost:8080/"
    },
    "executionInfo": {
     "elapsed": 14,
     "status": "ok",
     "timestamp": 1657482631523,
     "user": {
      "displayName": "Hector Bryan Villegas Barragan",
      "userId": "05189738497377269192"
     },
     "user_tz": 300
    },
    "id": "_bnRJ4MsHwx9",
    "outputId": "3cdedcf8-8961-41f8-922e-64e430dfb552"
   },
   "outputs": [
    {
     "data": {
      "text/plain": [
       "array(['Venta', 'Alquiler', 'Alquiler temporal'], dtype=object)"
      ]
     },
     "execution_count": 22,
     "metadata": {},
     "output_type": "execute_result"
    }
   ],
   "source": [
    "df['operation_type'].unique()"
   ]
  },
  {
   "cell_type": "code",
   "execution_count": null,
   "metadata": {
    "colab": {
     "base_uri": "https://localhost:8080/"
    },
    "executionInfo": {
     "elapsed": 13,
     "status": "ok",
     "timestamp": 1657482631523,
     "user": {
      "displayName": "Hector Bryan Villegas Barragan",
      "userId": "05189738497377269192"
     },
     "user_tz": 300
    },
    "id": "6YWqwz1xFMmo",
    "outputId": "3d83d34c-517c-44e2-dd09-8b8b1b3e7ca1"
   },
   "outputs": [
    {
     "data": {
      "text/plain": [
       "array(['Casa', 'Lote', 'Otro', 'Departamento', 'Oficina',\n",
       "       'Local comercial', 'Depósito', 'PH', 'Garaje', 'Casa de campo'],\n",
       "      dtype=object)"
      ]
     },
     "execution_count": 23,
     "metadata": {},
     "output_type": "execute_result"
    }
   ],
   "source": [
    "df['property_type'].unique()"
   ]
  },
  {
   "cell_type": "markdown",
   "metadata": {
    "id": "kxS7VYtFvROp"
   },
   "source": [
    "### cálculo de la media de precios por sector"
   ]
  },
  {
   "cell_type": "code",
   "execution_count": null,
   "metadata": {
    "id": "lEzjWUOPOeF_"
   },
   "outputs": [],
   "source": [
    "price_means = df.groupby('Nombre_sector')['price'].mean()"
   ]
  },
  {
   "cell_type": "code",
   "execution_count": null,
   "metadata": {
    "colab": {
     "base_uri": "https://localhost:8080/"
    },
    "executionInfo": {
     "elapsed": 12,
     "status": "ok",
     "timestamp": 1657482631524,
     "user": {
      "displayName": "Hector Bryan Villegas Barragan",
      "userId": "05189738497377269192"
     },
     "user_tz": 300
    },
    "id": "hPy211oIxE_D",
    "outputId": "ef3cec20-f3da-4f2b-e00d-f8cc5843a5c6"
   },
   "outputs": [
    {
     "data": {
      "text/plain": [
       "Nombre_sector\n",
       "Abel Gilbert          36951.081081\n",
       "Acacias               64152.745098\n",
       "Academia Logos       238319.356098\n",
       "Acuarela              68883.659649\n",
       "Alborada              50869.529170\n",
       "                         ...      \n",
       "Villas del Bosque     49281.742424\n",
       "Villas del Rey        77545.881679\n",
       "Vista Sol            305970.172414\n",
       "Vista al Rio         136773.333333\n",
       "Volare                91293.846154\n",
       "Name: price, Length: 233, dtype: float64"
      ]
     },
     "execution_count": 25,
     "metadata": {},
     "output_type": "execute_result"
    }
   ],
   "source": [
    "price_means"
   ]
  },
  {
   "cell_type": "markdown",
   "metadata": {
    "id": "u_wAVLCZxqNB"
   },
   "source": [
    "### se imputan los precios nulos con la media del sector correspondiente"
   ]
  },
  {
   "cell_type": "code",
   "execution_count": null,
   "metadata": {
    "id": "_ORyGaAHxYkU"
   },
   "outputs": [],
   "source": [
    "def impute_price(x):\n",
    "  if pd.isna(x['price']):\n",
    "    sector = x['Nombre_sector']\n",
    "    price = price_means[sector]\n",
    "    return price\n",
    "  else:\n",
    "    return x['price']"
   ]
  },
  {
   "cell_type": "code",
   "execution_count": null,
   "metadata": {
    "id": "roz5afH7zVbG"
   },
   "outputs": [],
   "source": [
    "df['price'] = df.apply(impute_price, axis=1)"
   ]
  },
  {
   "cell_type": "code",
   "execution_count": null,
   "metadata": {
    "colab": {
     "base_uri": "https://localhost:8080/"
    },
    "executionInfo": {
     "elapsed": 18,
     "status": "ok",
     "timestamp": 1657482633225,
     "user": {
      "displayName": "Hector Bryan Villegas Barragan",
      "userId": "05189738497377269192"
     },
     "user_tz": 300
    },
    "id": "5gnX7Fsv1dHu",
    "outputId": "600bfcdb-bfd9-450a-c625-a356ebcda046"
   },
   "outputs": [
    {
     "data": {
      "text/plain": [
       "id                     0\n",
       "start_date             0\n",
       "end_date               0\n",
       "lat                    0\n",
       "lon                    0\n",
       "l1                     0\n",
       "l2                     0\n",
       "l3                     0\n",
       "rooms              95299\n",
       "bedrooms           76268\n",
       "bathrooms          11620\n",
       "surface_total      96719\n",
       "surface_covered    96821\n",
       "price                  0\n",
       "property_type          0\n",
       "operation_type         0\n",
       "Nombre_sector          0\n",
       "dtype: int64"
      ]
     },
     "execution_count": 28,
     "metadata": {},
     "output_type": "execute_result"
    }
   ],
   "source": [
    "df.isna().sum()"
   ]
  },
  {
   "cell_type": "markdown",
   "metadata": {
    "id": "oOYr5J3v7Rmh"
   },
   "source": [
    "### imputación de \"surfaced_total\""
   ]
  },
  {
   "cell_type": "code",
   "execution_count": null,
   "metadata": {
    "id": "8H5eHIRwJLP7"
   },
   "outputs": [],
   "source": [
    "#nses -> ventas\n",
    "#renta promedio -> alquiler\n",
    "#actividad_comercial(oficinas, locales comerciales, precios)\n",
    "#promedio(numero_de_cuartos/propiedad)"
   ]
  },
  {
   "cell_type": "code",
   "execution_count": null,
   "metadata": {
    "id": "aEHp-n7rwTXa"
   },
   "outputs": [],
   "source": [
    "idx = df['surface_total'].notnull()\n",
    "notnull_sectores = df[idx].groupby('Nombre_sector')['id'].count().index"
   ]
  },
  {
   "cell_type": "code",
   "execution_count": null,
   "metadata": {
    "id": "_FyOKKFU6Ilv"
   },
   "outputs": [],
   "source": [
    "all_sectores = df['Nombre_sector'].unique()"
   ]
  },
  {
   "cell_type": "code",
   "execution_count": null,
   "metadata": {
    "colab": {
     "base_uri": "https://localhost:8080/"
    },
    "executionInfo": {
     "elapsed": 16,
     "status": "ok",
     "timestamp": 1657482633228,
     "user": {
      "displayName": "Hector Bryan Villegas Barragan",
      "userId": "05189738497377269192"
     },
     "user_tz": 300
    },
    "id": "AqSInO316W_u",
    "outputId": "9baedbe0-566e-4c34-d510-03c2ee34a203"
   },
   "outputs": [
    {
     "data": {
      "text/plain": [
       "70"
      ]
     },
     "execution_count": 32,
     "metadata": {},
     "output_type": "execute_result"
    }
   ],
   "source": [
    "len(notnull_sectores)"
   ]
  },
  {
   "cell_type": "code",
   "execution_count": null,
   "metadata": {
    "colab": {
     "base_uri": "https://localhost:8080/"
    },
    "executionInfo": {
     "elapsed": 15,
     "status": "ok",
     "timestamp": 1657482633228,
     "user": {
      "displayName": "Hector Bryan Villegas Barragan",
      "userId": "05189738497377269192"
     },
     "user_tz": 300
    },
    "id": "0Bu_zjhH6aZL",
    "outputId": "d1c8d7bd-7eaa-4e34-afa7-0b3ac3925f15"
   },
   "outputs": [
    {
     "data": {
      "text/plain": [
       "233"
      ]
     },
     "execution_count": 33,
     "metadata": {},
     "output_type": "execute_result"
    }
   ],
   "source": [
    "len(all_sectores)"
   ]
  },
  {
   "cell_type": "markdown",
   "metadata": {
    "id": "Oe5BQLDx_BHb"
   },
   "source": [
    "<p>Dado que tan solo 70 de 233 sectores tienen propiedades con área total no nula no es viable calcular la media por sector</p>\n",
    "<p>La imputación se realizará calculando la media por ciudad</p>"
   ]
  },
  {
   "cell_type": "code",
   "execution_count": null,
   "metadata": {
    "id": "QW6Xpmmp6cnf"
   },
   "outputs": [],
   "source": [
    "surface_means = df.groupby('l3')['surface_total'].mean()"
   ]
  },
  {
   "cell_type": "code",
   "execution_count": null,
   "metadata": {
    "colab": {
     "base_uri": "https://localhost:8080/"
    },
    "executionInfo": {
     "elapsed": 14,
     "status": "ok",
     "timestamp": 1657482633229,
     "user": {
      "displayName": "Hector Bryan Villegas Barragan",
      "userId": "05189738497377269192"
     },
     "user_tz": 300
    },
    "id": "C2je8nKE68FM",
    "outputId": "f24a43cf-aac1-4b8d-b046-ac6e16697a24"
   },
   "outputs": [
    {
     "data": {
      "text/plain": [
       "l3\n",
       "Guayaquil    1736.045045\n",
       "Quito         221.638298\n",
       "Name: surface_total, dtype: float64"
      ]
     },
     "execution_count": 35,
     "metadata": {},
     "output_type": "execute_result"
    }
   ],
   "source": [
    "surface_means"
   ]
  },
  {
   "cell_type": "code",
   "execution_count": null,
   "metadata": {
    "id": "6hzrRdF1Bnj7"
   },
   "outputs": [],
   "source": [
    "def impute_surfacetotal(x):\n",
    "  if pd.isna(x['surface_total']):\n",
    "    ciudad = x['l3']\n",
    "    surface = surface_means[ciudad]\n",
    "    return surface\n",
    "  else:\n",
    "    return x['surface_total']"
   ]
  },
  {
   "cell_type": "code",
   "execution_count": null,
   "metadata": {
    "id": "ZeHcx9haCUqP"
   },
   "outputs": [],
   "source": [
    "df['surface_total'] = df.apply(impute_surfacetotal, axis=1)"
   ]
  },
  {
   "cell_type": "code",
   "execution_count": null,
   "metadata": {
    "colab": {
     "base_uri": "https://localhost:8080/"
    },
    "executionInfo": {
     "elapsed": 46,
     "status": "ok",
     "timestamp": 1657482635248,
     "user": {
      "displayName": "Hector Bryan Villegas Barragan",
      "userId": "05189738497377269192"
     },
     "user_tz": 300
    },
    "id": "5nFvG6BpD8ZV",
    "outputId": "086611e5-f998-41fd-b487-0895d1bbef68"
   },
   "outputs": [
    {
     "data": {
      "text/plain": [
       "id                     0\n",
       "start_date             0\n",
       "end_date               0\n",
       "lat                    0\n",
       "lon                    0\n",
       "l1                     0\n",
       "l2                     0\n",
       "l3                     0\n",
       "rooms              95299\n",
       "bedrooms           76268\n",
       "bathrooms          11620\n",
       "surface_total          0\n",
       "surface_covered    96821\n",
       "price                  0\n",
       "property_type          0\n",
       "operation_type         0\n",
       "Nombre_sector          0\n",
       "dtype: int64"
      ]
     },
     "execution_count": 38,
     "metadata": {},
     "output_type": "execute_result"
    }
   ],
   "source": [
    "df.isna().sum()"
   ]
  },
  {
   "cell_type": "markdown",
   "metadata": {
    "id": "J2sFUNrhD63M"
   },
   "source": [
    "### imputación de \"surface_covered\""
   ]
  },
  {
   "cell_type": "code",
   "execution_count": null,
   "metadata": {
    "id": "Cnxctmx3DNJ3"
   },
   "outputs": [],
   "source": [
    "surface_means = df.groupby('l3')['surface_covered'].mean()"
   ]
  },
  {
   "cell_type": "code",
   "execution_count": null,
   "metadata": {
    "colab": {
     "base_uri": "https://localhost:8080/"
    },
    "executionInfo": {
     "elapsed": 36,
     "status": "ok",
     "timestamp": 1657482635249,
     "user": {
      "displayName": "Hector Bryan Villegas Barragan",
      "userId": "05189738497377269192"
     },
     "user_tz": 300
    },
    "id": "sRegFLMGGrkn",
    "outputId": "7072659f-a12e-4c3c-da22-07c46f893d8c"
   },
   "outputs": [
    {
     "data": {
      "text/plain": [
       "l3\n",
       "Guayaquil    525.809524\n",
       "Quito        166.981250\n",
       "Name: surface_covered, dtype: float64"
      ]
     },
     "execution_count": 40,
     "metadata": {},
     "output_type": "execute_result"
    }
   ],
   "source": [
    "surface_means"
   ]
  },
  {
   "cell_type": "code",
   "execution_count": null,
   "metadata": {
    "id": "Zq17rn8OGtBR"
   },
   "outputs": [],
   "source": [
    "def impute_surfacecovered(x):\n",
    "  if pd.isna(x['surface_covered']):\n",
    "    ciudad = x['l3']\n",
    "    surface = surface_means[ciudad]\n",
    "    return surface\n",
    "  else:\n",
    "    return x['price']"
   ]
  },
  {
   "cell_type": "code",
   "execution_count": null,
   "metadata": {
    "id": "MUSyl4PNIETH"
   },
   "outputs": [],
   "source": [
    "df['surface_covered'] =  df.apply(impute_surfacecovered, axis=1)"
   ]
  },
  {
   "cell_type": "code",
   "execution_count": null,
   "metadata": {
    "colab": {
     "base_uri": "https://localhost:8080/"
    },
    "executionInfo": {
     "elapsed": 27,
     "status": "ok",
     "timestamp": 1657482637228,
     "user": {
      "displayName": "Hector Bryan Villegas Barragan",
      "userId": "05189738497377269192"
     },
     "user_tz": 300
    },
    "id": "4airJl_4IN5S",
    "outputId": "b7f42762-88e2-4dd8-f538-488e7425d6d8"
   },
   "outputs": [
    {
     "data": {
      "text/plain": [
       "id                     0\n",
       "start_date             0\n",
       "end_date               0\n",
       "lat                    0\n",
       "lon                    0\n",
       "l1                     0\n",
       "l2                     0\n",
       "l3                     0\n",
       "rooms              95299\n",
       "bedrooms           76268\n",
       "bathrooms          11620\n",
       "surface_total          0\n",
       "surface_covered        0\n",
       "price                  0\n",
       "property_type          0\n",
       "operation_type         0\n",
       "Nombre_sector          0\n",
       "dtype: int64"
      ]
     },
     "execution_count": 43,
     "metadata": {},
     "output_type": "execute_result"
    }
   ],
   "source": [
    "df.isna().sum()"
   ]
  },
  {
   "cell_type": "markdown",
   "metadata": {
    "id": "4yJB5i85Jvo-"
   },
   "source": [
    "### eliminar repetidos"
   ]
  },
  {
   "cell_type": "code",
   "execution_count": null,
   "metadata": {
    "id": "WhPIvv8cIbdB"
   },
   "outputs": [],
   "source": [
    "df = df.drop_duplicates(subset=['lat', 'lon', 'start_date', 'end_date', 'Nombre_sector', 'surface_total', 'surface_covered'])"
   ]
  },
  {
   "cell_type": "code",
   "execution_count": null,
   "metadata": {
    "colab": {
     "base_uri": "https://localhost:8080/"
    },
    "executionInfo": {
     "elapsed": 19,
     "status": "ok",
     "timestamp": 1657482637231,
     "user": {
      "displayName": "Hector Bryan Villegas Barragan",
      "userId": "05189738497377269192"
     },
     "user_tz": 300
    },
    "id": "iEkYsy5iOey5",
    "outputId": "03ccf4ec-155d-4b47-d45d-2e30e81ccb57"
   },
   "outputs": [
    {
     "name": "stdout",
     "output_type": "stream",
     "text": [
      "se convervan 78085 registros\n"
     ]
    }
   ],
   "source": [
    "FILAS_P4 = df.shape[0]\n",
    "print(f'se convervan {FILAS_P4} registros')"
   ]
  },
  {
   "cell_type": "markdown",
   "metadata": {
    "id": "qQ3TZj7ZPBRg"
   },
   "source": [
    "## outliers"
   ]
  },
  {
   "cell_type": "code",
   "execution_count": null,
   "metadata": {
    "colab": {
     "base_uri": "https://localhost:8080/"
    },
    "executionInfo": {
     "elapsed": 204,
     "status": "ok",
     "timestamp": 1657482643112,
     "user": {
      "displayName": "Hector Bryan Villegas Barragan",
      "userId": "05189738497377269192"
     },
     "user_tz": 300
    },
    "id": "pmySRHB_mRc-",
    "outputId": "e097c8f2-9d00-4869-c2c8-688e04a6cece"
   },
   "outputs": [
    {
     "name": "stdout",
     "output_type": "stream",
     "text": [
      "38803 propiedades en venta\n",
      "39282 propiedades en alquiler\n"
     ]
    }
   ],
   "source": [
    "idx = df['operation_type'] == 'Venta'\n",
    "print(f'{idx.sum()} propiedades en venta\\n{(~idx).sum()} propiedades en alquiler')"
   ]
  },
  {
   "cell_type": "code",
   "execution_count": null,
   "metadata": {
    "id": "cOzK6uLpmezn"
   },
   "outputs": [],
   "source": [
    "df_venta = df[idx]\n",
    "df_alquiler = df[~idx]"
   ]
  },
  {
   "cell_type": "code",
   "execution_count": null,
   "metadata": {
    "id": "16WWi_BEJL89"
   },
   "outputs": [],
   "source": [
    "sns.set_theme(style='darkgrid')"
   ]
  },
  {
   "cell_type": "code",
   "execution_count": null,
   "metadata": {
    "id": "HwQgYnekr-8i"
   },
   "outputs": [],
   "source": [
    "def q1(x):\n",
    "  return np.quantile(x, 0.25)\n",
    "\n",
    "def q3(x):\n",
    "  return np.quantile(x, 0.75)"
   ]
  },
  {
   "cell_type": "markdown",
   "metadata": {
    "id": "nfRTuvkIq7Ha"
   },
   "source": [
    "### precioxmt2 propiedades en venta"
   ]
  },
  {
   "cell_type": "code",
   "execution_count": null,
   "metadata": {
    "colab": {
     "base_uri": "https://localhost:8080/"
    },
    "executionInfo": {
     "elapsed": 193,
     "status": "ok",
     "timestamp": 1657482813447,
     "user": {
      "displayName": "Hector Bryan Villegas Barragan",
      "userId": "05189738497377269192"
     },
     "user_tz": 300
    },
    "id": "yD6bC3Mrq6jc",
    "outputId": "c0f38e99-6d92-472d-c610-358bd976de8f"
   },
   "outputs": [
    {
     "name": "stderr",
     "output_type": "stream",
     "text": [
      "/usr/local/lib/python3.7/dist-packages/ipykernel_launcher.py:1: SettingWithCopyWarning: \n",
      "A value is trying to be set on a copy of a slice from a DataFrame.\n",
      "Try using .loc[row_indexer,col_indexer] = value instead\n",
      "\n",
      "See the caveats in the documentation: https://pandas.pydata.org/pandas-docs/stable/user_guide/indexing.html#returning-a-view-versus-a-copy\n",
      "  \"\"\"Entry point for launching an IPython kernel.\n"
     ]
    }
   ],
   "source": [
    "df_venta['precioxmt2'] = df_venta['price']/df_venta['surface_total']"
   ]
  },
  {
   "cell_type": "code",
   "execution_count": null,
   "metadata": {
    "colab": {
     "base_uri": "https://localhost:8080/"
    },
    "executionInfo": {
     "elapsed": 196,
     "status": "ok",
     "timestamp": 1657482895219,
     "user": {
      "displayName": "Hector Bryan Villegas Barragan",
      "userId": "05189738497377269192"
     },
     "user_tz": 300
    },
    "id": "M-hrdds3rLIK",
    "outputId": "1f82386a-cb9d-49ad-e7b1-e8380639e8fa"
   },
   "outputs": [
    {
     "data": {
      "text/plain": [
       "0"
      ]
     },
     "execution_count": 54,
     "metadata": {},
     "output_type": "execute_result"
    }
   ],
   "source": [
    "(df_venta['surface_total'] == np.inf).sum()"
   ]
  },
  {
   "cell_type": "code",
   "execution_count": null,
   "metadata": {
    "colab": {
     "base_uri": "https://localhost:8080/",
     "height": 611
    },
    "executionInfo": {
     "elapsed": 1086,
     "status": "ok",
     "timestamp": 1657483630516,
     "user": {
      "displayName": "Hector Bryan Villegas Barragan",
      "userId": "05189738497377269192"
     },
     "user_tz": 300
    },
    "id": "B8eUZgU9rfCz",
    "outputId": "7620b392-52ed-497c-bd40-e41a3d7a1d58"
   },
   "outputs": [
    {
     "data": {
      "image/png": "[encoded data removed]",
      "text/plain": [
       "<Figure size 720x720 with 1 Axes>"
      ]
     },
     "metadata": {},
     "output_type": "display_data"
    }
   ],
   "source": [
    "fig, ax = plt.subplots(figsize=(10, 10))\n",
    "_ = sns.boxplot(data=df_venta, y='precioxmt2', x='l3', ax=ax)\n",
    "_ = ax.set_xlabel('Ciudades')\n",
    "_ = ax.set_ylabel('Precio por mt2')"
   ]
  },
  {
   "cell_type": "code",
   "execution_count": null,
   "metadata": {
    "id": "J6BehdaFrjk8"
   },
   "outputs": [],
   "source": [
    "pxmt2_q = df_venta.groupby('Nombre_sector').agg({'precioxmt2': [q1, q3]})"
   ]
  },
  {
   "cell_type": "code",
   "execution_count": null,
   "metadata": {
    "colab": {
     "base_uri": "https://localhost:8080/",
     "height": 455
    },
    "executionInfo": {
     "elapsed": 250,
     "status": "ok",
     "timestamp": 1657483146648,
     "user": {
      "displayName": "Hector Bryan Villegas Barragan",
      "userId": "05189738497377269192"
     },
     "user_tz": 300
    },
    "id": "7ZZTEkBLrzDP",
    "outputId": "a1204f94-6fb0-43eb-958f-28652e985243"
   },
   "outputs": [
    {
     "data": {
      "text/html": [
       "\n",
       "  <div id=\"df-78c27df6-1798-436e-ac2f-7da14db08ab1\">\n",
       "    <div class=\"colab-df-container\">\n",
       "      <div>\n",
       "<style scoped>\n",
       "    .dataframe tbody tr th:only-of-type {\n",
       "        vertical-align: middle;\n",
       "    }\n",
       "\n",
       "    .dataframe tbody tr th {\n",
       "        vertical-align: top;\n",
       "    }\n",
       "\n",
       "    .dataframe thead th {\n",
       "        text-align: right;\n",
       "    }\n",
       "</style>\n",
       "<table border=\"1\" class=\"dataframe\">\n",
       "  <thead>\n",
       "    <tr style=\"text-align: right;\">\n",
       "      <th></th>\n",
       "      <th>q1</th>\n",
       "      <th>q3</th>\n",
       "    </tr>\n",
       "    <tr>\n",
       "      <th>Nombre_sector</th>\n",
       "      <th></th>\n",
       "      <th></th>\n",
       "    </tr>\n",
       "  </thead>\n",
       "  <tbody>\n",
       "    <tr>\n",
       "      <th>Abel Gilbert</th>\n",
       "      <td>31.681206</td>\n",
       "      <td>64.514455</td>\n",
       "    </tr>\n",
       "    <tr>\n",
       "      <th>Acacias</th>\n",
       "      <td>25.056954</td>\n",
       "      <td>69.410641</td>\n",
       "    </tr>\n",
       "    <tr>\n",
       "      <th>Academia Logos</th>\n",
       "      <td>62.642384</td>\n",
       "      <td>109.444165</td>\n",
       "    </tr>\n",
       "    <tr>\n",
       "      <th>Acuarela</th>\n",
       "      <td>43.849669</td>\n",
       "      <td>87.123315</td>\n",
       "    </tr>\n",
       "    <tr>\n",
       "      <th>Alborada</th>\n",
       "      <td>40.321534</td>\n",
       "      <td>91.587485</td>\n",
       "    </tr>\n",
       "    <tr>\n",
       "      <th>...</th>\n",
       "      <td>...</td>\n",
       "      <td>...</td>\n",
       "    </tr>\n",
       "    <tr>\n",
       "      <th>Villas del Bosque</th>\n",
       "      <td>72.002740</td>\n",
       "      <td>83.523178</td>\n",
       "    </tr>\n",
       "    <tr>\n",
       "      <th>Villas del Rey</th>\n",
       "      <td>32.257228</td>\n",
       "      <td>39.745512</td>\n",
       "    </tr>\n",
       "    <tr>\n",
       "      <th>Vista Sol</th>\n",
       "      <td>103.251929</td>\n",
       "      <td>272.170357</td>\n",
       "    </tr>\n",
       "    <tr>\n",
       "      <th>Vista al Rio</th>\n",
       "      <td>112.324274</td>\n",
       "      <td>123.844713</td>\n",
       "    </tr>\n",
       "    <tr>\n",
       "      <th>Volare</th>\n",
       "      <td>56.450148</td>\n",
       "      <td>69.122630</td>\n",
       "    </tr>\n",
       "  </tbody>\n",
       "</table>\n",
       "<p>229 rows × 2 columns</p>\n",
       "</div>\n",
       "      <button class=\"colab-df-convert\" onclick=\"convertToInteractive('df-78c27df6-1798-436e-ac2f-7da14db08ab1')\"\n",
       "              title=\"Convert this dataframe to an interactive table.\"\n",
       "              style=\"display:none;\">\n",
       "        \n",
       "  <svg xmlns=\"http://www.w3.org/2000/svg\" height=\"24px\"viewBox=\"0 0 24 24\"\n",
       "       width=\"24px\">\n",
       "    <path d=\"M0 0h24v24H0V0z\" fill=\"none\"/>\n",
       "    <path d=\"M18.56 5.44l.94 2.06.94-2.06 2.06-.94-2.06-.94-.94-2.06-.94 2.06-2.06.94zm-11 1L8.5 8.5l.94-2.06 2.06-.94-2.06-.94L8.5 2.5l-.94 2.06-2.06.94zm10 10l.94 2.06.94-2.06 2.06-.94-2.06-.94-.94-2.06-.94 2.06-2.06.94z\"/><path d=\"M17.41 7.96l-1.37-1.37c-.4-.4-.92-.59-1.43-.59-.52 0-1.04.2-1.43.59L10.3 9.45l-7.72 7.72c-.78.78-.78 2.05 0 2.83L4 21.41c.39.39.9.59 1.41.59.51 0 1.02-.2 1.41-.59l7.78-7.78 2.81-2.81c.8-.78.8-2.07 0-2.86zM5.41 20L4 18.59l7.72-7.72 1.47 1.35L5.41 20z\"/>\n",
       "  </svg>\n",
       "      </button>\n",
       "      \n",
       "  <style>\n",
       "    .colab-df-container {\n",
       "      display:flex;\n",
       "      flex-wrap:wrap;\n",
       "      gap: 12px;\n",
       "    }\n",
       "\n",
       "    .colab-df-convert {\n",
       "      background-color: #E8F0FE;\n",
       "      border: none;\n",
       "      border-radius: 50%;\n",
       "      cursor: pointer;\n",
       "      display: none;\n",
       "      fill: #1967D2;\n",
       "      height: 32px;\n",
       "      padding: 0 0 0 0;\n",
       "      width: 32px;\n",
       "    }\n",
       "\n",
       "    .colab-df-convert:hover {\n",
       "      background-color: #E2EBFA;\n",
       "      box-shadow: 0px 1px 2px rgba(60, 64, 67, 0.3), 0px 1px 3px 1px rgba(60, 64, 67, 0.15);\n",
       "      fill: #174EA6;\n",
       "    }\n",
       "\n",
       "    [theme=dark] .colab-df-convert {\n",
       "      background-color: #3B4455;\n",
       "      fill: #D2E3FC;\n",
       "    }\n",
       "\n",
       "    [theme=dark] .colab-df-convert:hover {\n",
       "      background-color: #434B5C;\n",
       "      box-shadow: 0px 1px 3px 1px rgba(0, 0, 0, 0.15);\n",
       "      filter: drop-shadow(0px 1px 2px rgba(0, 0, 0, 0.3));\n",
       "      fill: #FFFFFF;\n",
       "    }\n",
       "  </style>\n",
       "\n",
       "      <script>\n",
       "        const buttonEl =\n",
       "          document.querySelector('#df-78c27df6-1798-436e-ac2f-7da14db08ab1 button.colab-df-convert');\n",
       "        buttonEl.style.display =\n",
       "          google.colab.kernel.accessAllowed ? 'block' : 'none';\n",
       "\n",
       "        async function convertToInteractive(key) {\n",
       "          const element = document.querySelector('#df-78c27df6-1798-436e-ac2f-7da14db08ab1');\n",
       "          const dataTable =\n",
       "            await google.colab.kernel.invokeFunction('convertToInteractive',\n",
       "                                                     [key], {});\n",
       "          if (!dataTable) return;\n",
       "\n",
       "          const docLinkHtml = 'Like what you see? Visit the ' +\n",
       "            '<a target=\"_blank\" href=https://colab.research.google.com/notebooks/data_table.ipynb>data table notebook</a>'\n",
       "            + ' to learn more about interactive tables.';\n",
       "          element.innerHTML = '';\n",
       "          dataTable['output_type'] = 'display_data';\n",
       "          await google.colab.output.renderOutput(dataTable, element);\n",
       "          const docLink = document.createElement('div');\n",
       "          docLink.innerHTML = docLinkHtml;\n",
       "          element.appendChild(docLink);\n",
       "        }\n",
       "      </script>\n",
       "    </div>\n",
       "  </div>\n",
       "  "
      ],
      "text/plain": [
       "                           q1          q3\n",
       "Nombre_sector                            \n",
       "Abel Gilbert        31.681206   64.514455\n",
       "Acacias             25.056954   69.410641\n",
       "Academia Logos      62.642384  109.444165\n",
       "Acuarela            43.849669   87.123315\n",
       "Alborada            40.321534   91.587485\n",
       "...                       ...         ...\n",
       "Villas del Bosque   72.002740   83.523178\n",
       "Villas del Rey      32.257228   39.745512\n",
       "Vista Sol          103.251929  272.170357\n",
       "Vista al Rio       112.324274  123.844713\n",
       "Volare              56.450148   69.122630\n",
       "\n",
       "[229 rows x 2 columns]"
      ]
     },
     "execution_count": 64,
     "metadata": {},
     "output_type": "execute_result"
    }
   ],
   "source": [
    "pxmt2_q.columns = ['q1', 'q3']\n",
    "pxmt2_q"
   ]
  },
  {
   "cell_type": "code",
   "execution_count": null,
   "metadata": {
    "id": "Fb2yOWc7ry04"
   },
   "outputs": [],
   "source": [
    "def notOutlier(x):\n",
    "  v = x['precioxmt2']\n",
    "  sector = x['Nombre_sector']\n",
    "  q1 = pxmt2_q.loc[sector, 'q1']\n",
    "  q3 = pxmt2_q.loc[sector, 'q3']\n",
    "  iqr = q3-q1\n",
    "  op = (v >= q1-1.5*iqr) and (v <= q3+1.5*iqr)\n",
    "  return op"
   ]
  },
  {
   "cell_type": "code",
   "execution_count": null,
   "metadata": {
    "id": "hACGx1xhtErV"
   },
   "outputs": [],
   "source": [
    "idx_pxmt2 = df_venta.apply(notOutlier, axis=1)"
   ]
  },
  {
   "cell_type": "code",
   "execution_count": null,
   "metadata": {
    "colab": {
     "base_uri": "https://localhost:8080/",
     "height": 611
    },
    "executionInfo": {
     "elapsed": 907,
     "status": "ok",
     "timestamp": 1657483852294,
     "user": {
      "displayName": "Hector Bryan Villegas Barragan",
      "userId": "05189738497377269192"
     },
     "user_tz": 300
    },
    "id": "OSrzkPzltXRX",
    "outputId": "0f727582-256c-4728-c2f9-7b8a5cec048e"
   },
   "outputs": [
    {
     "data": {
      "image/png": "[encoded data removed]",
      "text/plain": [
       "<Figure size 576x720 with 1 Axes>"
      ]
     },
     "metadata": {},
     "output_type": "display_data"
    }
   ],
   "source": [
    "fig, ax = plt.subplots(figsize=(8, 10))\n",
    "_ = sns.boxplot(data=df_venta[idx_pxmt2], y='precioxmt2', x='l3', ax=ax)\n",
    "_ = ax.set_xlabel('Ciudades')\n",
    "_ = ax.set_ylabel('Precio por mt2')"
   ]
  },
  {
   "cell_type": "code",
   "execution_count": null,
   "metadata": {
    "colab": {
     "base_uri": "https://localhost:8080/"
    },
    "executionInfo": {
     "elapsed": 200,
     "status": "ok",
     "timestamp": 1657488339332,
     "user": {
      "displayName": "Hector Bryan Villegas Barragan",
      "userId": "05189738497377269192"
     },
     "user_tz": 300
    },
    "id": "VyBXiEZ_vp_I",
    "outputId": "e4f717d5-c584-4378-854d-2761f2b97f57"
   },
   "outputs": [
    {
     "data": {
      "text/plain": [
       "35116"
      ]
     },
     "execution_count": 147,
     "metadata": {},
     "output_type": "execute_result"
    }
   ],
   "source": [
    "idx_pxmt2.sum()"
   ]
  },
  {
   "cell_type": "markdown",
   "metadata": {
    "id": "2ezXcaVmQzY4"
   },
   "source": [
    "### precios de alquiler"
   ]
  },
  {
   "cell_type": "code",
   "execution_count": null,
   "metadata": {
    "colab": {
     "base_uri": "https://localhost:8080/",
     "height": 611
    },
    "executionInfo": {
     "elapsed": 889,
     "status": "ok",
     "timestamp": 1657485631908,
     "user": {
      "displayName": "Hector Bryan Villegas Barragan",
      "userId": "05189738497377269192"
     },
     "user_tz": 300
    },
    "id": "lORyP30LMFLR",
    "outputId": "8b468090-6efb-430f-9d2d-79538e26506f"
   },
   "outputs": [
    {
     "data": {
      "image/png": "[encoded data removed]",
      "text/plain": [
       "<Figure size 576x720 with 1 Axes>"
      ]
     },
     "metadata": {},
     "output_type": "display_data"
    }
   ],
   "source": [
    "fig, ax = plt.subplots(figsize=(8, 10))\n",
    "_ = sns.boxplot(data=df_alquiler, y='price', x='l3', ax=ax)\n",
    "_ = ax.set_xlabel('Ciudades')\n",
    "_ = ax.set_ylabel('Precio')"
   ]
  },
  {
   "cell_type": "code",
   "execution_count": null,
   "metadata": {
    "id": "HTZdGySK1-3_"
   },
   "outputs": [],
   "source": [
    "palq_q = df_alquiler.groupby('Nombre_sector').agg({'price': [q1, q3]})"
   ]
  },
  {
   "cell_type": "code",
   "execution_count": null,
   "metadata": {
    "colab": {
     "base_uri": "https://localhost:8080/",
     "height": 455
    },
    "executionInfo": {
     "elapsed": 221,
     "status": "ok",
     "timestamp": 1657485825615,
     "user": {
      "displayName": "Hector Bryan Villegas Barragan",
      "userId": "05189738497377269192"
     },
     "user_tz": 300
    },
    "id": "BwiAQMD92RuX",
    "outputId": "1b32553a-01f0-42cb-95de-4dc72cb02a55"
   },
   "outputs": [
    {
     "data": {
      "text/html": [
       "\n",
       "  <div id=\"df-1a71ab56-8e1a-45c2-bbab-2df681108ca6\">\n",
       "    <div class=\"colab-df-container\">\n",
       "      <div>\n",
       "<style scoped>\n",
       "    .dataframe tbody tr th:only-of-type {\n",
       "        vertical-align: middle;\n",
       "    }\n",
       "\n",
       "    .dataframe tbody tr th {\n",
       "        vertical-align: top;\n",
       "    }\n",
       "\n",
       "    .dataframe thead th {\n",
       "        text-align: right;\n",
       "    }\n",
       "</style>\n",
       "<table border=\"1\" class=\"dataframe\">\n",
       "  <thead>\n",
       "    <tr style=\"text-align: right;\">\n",
       "      <th></th>\n",
       "      <th>q1</th>\n",
       "      <th>q3</th>\n",
       "    </tr>\n",
       "    <tr>\n",
       "      <th>Nombre_sector</th>\n",
       "      <th></th>\n",
       "      <th></th>\n",
       "    </tr>\n",
       "  </thead>\n",
       "  <tbody>\n",
       "    <tr>\n",
       "      <th>Abel Gilbert</th>\n",
       "      <td>3000.0</td>\n",
       "      <td>3000.0</td>\n",
       "    </tr>\n",
       "    <tr>\n",
       "      <th>Acacias</th>\n",
       "      <td>245.0</td>\n",
       "      <td>300.0</td>\n",
       "    </tr>\n",
       "    <tr>\n",
       "      <th>Academia Logos</th>\n",
       "      <td>500.0</td>\n",
       "      <td>850.0</td>\n",
       "    </tr>\n",
       "    <tr>\n",
       "      <th>Acuarela</th>\n",
       "      <td>310.0</td>\n",
       "      <td>450.0</td>\n",
       "    </tr>\n",
       "    <tr>\n",
       "      <th>Alborada</th>\n",
       "      <td>300.0</td>\n",
       "      <td>572.5</td>\n",
       "    </tr>\n",
       "    <tr>\n",
       "      <th>...</th>\n",
       "      <td>...</td>\n",
       "      <td>...</td>\n",
       "    </tr>\n",
       "    <tr>\n",
       "      <th>Villas del Bosque</th>\n",
       "      <td>650.0</td>\n",
       "      <td>850.0</td>\n",
       "    </tr>\n",
       "    <tr>\n",
       "      <th>Villas del Rey</th>\n",
       "      <td>300.0</td>\n",
       "      <td>365.0</td>\n",
       "    </tr>\n",
       "    <tr>\n",
       "      <th>Vista Sol</th>\n",
       "      <td>500.0</td>\n",
       "      <td>1225.0</td>\n",
       "    </tr>\n",
       "    <tr>\n",
       "      <th>Vista al Rio</th>\n",
       "      <td>320.0</td>\n",
       "      <td>320.0</td>\n",
       "    </tr>\n",
       "    <tr>\n",
       "      <th>Volare</th>\n",
       "      <td>530.0</td>\n",
       "      <td>550.0</td>\n",
       "    </tr>\n",
       "  </tbody>\n",
       "</table>\n",
       "<p>207 rows × 2 columns</p>\n",
       "</div>\n",
       "      <button class=\"colab-df-convert\" onclick=\"convertToInteractive('df-1a71ab56-8e1a-45c2-bbab-2df681108ca6')\"\n",
       "              title=\"Convert this dataframe to an interactive table.\"\n",
       "              style=\"display:none;\">\n",
       "        \n",
       "  <svg xmlns=\"http://www.w3.org/2000/svg\" height=\"24px\"viewBox=\"0 0 24 24\"\n",
       "       width=\"24px\">\n",
       "    <path d=\"M0 0h24v24H0V0z\" fill=\"none\"/>\n",
       "    <path d=\"M18.56 5.44l.94 2.06.94-2.06 2.06-.94-2.06-.94-.94-2.06-.94 2.06-2.06.94zm-11 1L8.5 8.5l.94-2.06 2.06-.94-2.06-.94L8.5 2.5l-.94 2.06-2.06.94zm10 10l.94 2.06.94-2.06 2.06-.94-2.06-.94-.94-2.06-.94 2.06-2.06.94z\"/><path d=\"M17.41 7.96l-1.37-1.37c-.4-.4-.92-.59-1.43-.59-.52 0-1.04.2-1.43.59L10.3 9.45l-7.72 7.72c-.78.78-.78 2.05 0 2.83L4 21.41c.39.39.9.59 1.41.59.51 0 1.02-.2 1.41-.59l7.78-7.78 2.81-2.81c.8-.78.8-2.07 0-2.86zM5.41 20L4 18.59l7.72-7.72 1.47 1.35L5.41 20z\"/>\n",
       "  </svg>\n",
       "      </button>\n",
       "      \n",
       "  <style>\n",
       "    .colab-df-container {\n",
       "      display:flex;\n",
       "      flex-wrap:wrap;\n",
       "      gap: 12px;\n",
       "    }\n",
       "\n",
       "    .colab-df-convert {\n",
       "      background-color: #E8F0FE;\n",
       "      border: none;\n",
       "      border-radius: 50%;\n",
       "      cursor: pointer;\n",
       "      display: none;\n",
       "      fill: #1967D2;\n",
       "      height: 32px;\n",
       "      padding: 0 0 0 0;\n",
       "      width: 32px;\n",
       "    }\n",
       "\n",
       "    .colab-df-convert:hover {\n",
       "      background-color: #E2EBFA;\n",
       "      box-shadow: 0px 1px 2px rgba(60, 64, 67, 0.3), 0px 1px 3px 1px rgba(60, 64, 67, 0.15);\n",
       "      fill: #174EA6;\n",
       "    }\n",
       "\n",
       "    [theme=dark] .colab-df-convert {\n",
       "      background-color: #3B4455;\n",
       "      fill: #D2E3FC;\n",
       "    }\n",
       "\n",
       "    [theme=dark] .colab-df-convert:hover {\n",
       "      background-color: #434B5C;\n",
       "      box-shadow: 0px 1px 3px 1px rgba(0, 0, 0, 0.15);\n",
       "      filter: drop-shadow(0px 1px 2px rgba(0, 0, 0, 0.3));\n",
       "      fill: #FFFFFF;\n",
       "    }\n",
       "  </style>\n",
       "\n",
       "      <script>\n",
       "        const buttonEl =\n",
       "          document.querySelector('#df-1a71ab56-8e1a-45c2-bbab-2df681108ca6 button.colab-df-convert');\n",
       "        buttonEl.style.display =\n",
       "          google.colab.kernel.accessAllowed ? 'block' : 'none';\n",
       "\n",
       "        async function convertToInteractive(key) {\n",
       "          const element = document.querySelector('#df-1a71ab56-8e1a-45c2-bbab-2df681108ca6');\n",
       "          const dataTable =\n",
       "            await google.colab.kernel.invokeFunction('convertToInteractive',\n",
       "                                                     [key], {});\n",
       "          if (!dataTable) return;\n",
       "\n",
       "          const docLinkHtml = 'Like what you see? Visit the ' +\n",
       "            '<a target=\"_blank\" href=https://colab.research.google.com/notebooks/data_table.ipynb>data table notebook</a>'\n",
       "            + ' to learn more about interactive tables.';\n",
       "          element.innerHTML = '';\n",
       "          dataTable['output_type'] = 'display_data';\n",
       "          await google.colab.output.renderOutput(dataTable, element);\n",
       "          const docLink = document.createElement('div');\n",
       "          docLink.innerHTML = docLinkHtml;\n",
       "          element.appendChild(docLink);\n",
       "        }\n",
       "      </script>\n",
       "    </div>\n",
       "  </div>\n",
       "  "
      ],
      "text/plain": [
       "                       q1      q3\n",
       "Nombre_sector                    \n",
       "Abel Gilbert       3000.0  3000.0\n",
       "Acacias             245.0   300.0\n",
       "Academia Logos      500.0   850.0\n",
       "Acuarela            310.0   450.0\n",
       "Alborada            300.0   572.5\n",
       "...                   ...     ...\n",
       "Villas del Bosque   650.0   850.0\n",
       "Villas del Rey      300.0   365.0\n",
       "Vista Sol           500.0  1225.0\n",
       "Vista al Rio        320.0   320.0\n",
       "Volare              530.0   550.0\n",
       "\n",
       "[207 rows x 2 columns]"
      ]
     },
     "execution_count": 89,
     "metadata": {},
     "output_type": "execute_result"
    }
   ],
   "source": [
    "palq_q.columns = ['q1', 'q3']\n",
    "palq_q"
   ]
  },
  {
   "cell_type": "code",
   "execution_count": null,
   "metadata": {
    "id": "SNzSvmsh3FhV"
   },
   "outputs": [],
   "source": [
    "def notOutlier(x):\n",
    "  price = x['price']\n",
    "  sector = x['Nombre_sector']\n",
    "  q1 = palq_q.loc[sector, 'q1']\n",
    "  q3 = palq_q.loc[sector, 'q3']\n",
    "  iqr = q3-q1\n",
    "  op = (price >= q1-1.5*iqr) and (price <= q3+1.5*iqr)\n",
    "  return op"
   ]
  },
  {
   "cell_type": "code",
   "execution_count": null,
   "metadata": {
    "id": "FJQvIo5y1-KM"
   },
   "outputs": [],
   "source": [
    "idx_alquiler = df_alquiler.apply(notOutlier, axis=1)"
   ]
  },
  {
   "cell_type": "code",
   "execution_count": null,
   "metadata": {
    "colab": {
     "base_uri": "https://localhost:8080/",
     "height": 611
    },
    "executionInfo": {
     "elapsed": 570,
     "status": "ok",
     "timestamp": 1657486402787,
     "user": {
      "displayName": "Hector Bryan Villegas Barragan",
      "userId": "05189738497377269192"
     },
     "user_tz": 300
    },
    "id": "_ROsKVXl3z1w",
    "outputId": "ba619c93-cd91-4eac-f0f1-e53a211caf24"
   },
   "outputs": [
    {
     "data": {
      "image/png": "[encoded data removed]",
      "text/plain": [
       "<Figure size 576x720 with 1 Axes>"
      ]
     },
     "metadata": {},
     "output_type": "display_data"
    }
   ],
   "source": [
    "fig, ax = plt.subplots(figsize=(8, 10))\n",
    "_ = sns.boxplot(data=df_alquiler[idx_alquiler], y='price', x='l3', ax=ax)\n",
    "_ = ax.set_xlabel('Ciudades')\n",
    "_ = ax.set_ylabel('Precio')"
   ]
  },
  {
   "cell_type": "code",
   "execution_count": null,
   "metadata": {
    "colab": {
     "base_uri": "https://localhost:8080/"
    },
    "executionInfo": {
     "elapsed": 191,
     "status": "ok",
     "timestamp": 1657488290393,
     "user": {
      "displayName": "Hector Bryan Villegas Barragan",
      "userId": "05189738497377269192"
     },
     "user_tz": 300
    },
    "id": "YUQRutaQ3b1z",
    "outputId": "fa95201b-a259-4cf5-a24d-71dc5c3c2610"
   },
   "outputs": [
    {
     "data": {
      "text/plain": [
       "35273"
      ]
     },
     "execution_count": 144,
     "metadata": {},
     "output_type": "execute_result"
    }
   ],
   "source": [
    "idx_alquiler.sum()"
   ]
  },
  {
   "cell_type": "markdown",
   "metadata": {
    "id": "_kfCCf66qjaB"
   },
   "source": [
    "### áreas de propiedades en alquiler"
   ]
  },
  {
   "cell_type": "code",
   "execution_count": null,
   "metadata": {
    "colab": {
     "base_uri": "https://localhost:8080/",
     "height": 611
    },
    "executionInfo": {
     "elapsed": 704,
     "status": "ok",
     "timestamp": 1657486489050,
     "user": {
      "displayName": "Hector Bryan Villegas Barragan",
      "userId": "05189738497377269192"
     },
     "user_tz": 300
    },
    "id": "dBKTO-ZoqiKf",
    "outputId": "f029ee1d-298b-476a-efa1-bd0735c8fb65"
   },
   "outputs": [
    {
     "data": {
      "image/png": "[encoded data removed]",
      "text/plain": [
       "<Figure size 576x720 with 1 Axes>"
      ]
     },
     "metadata": {},
     "output_type": "display_data"
    }
   ],
   "source": [
    "fig, ax = plt.subplots(figsize=(8, 10))\n",
    "_ = sns.boxplot(data=df_alquiler, y='surface_total', x='l3', ax=ax)\n",
    "_ = ax.set_xlabel('Ciudades')\n",
    "_ = ax.set_ylabel('Área')"
   ]
  },
  {
   "cell_type": "code",
   "execution_count": null,
   "metadata": {
    "id": "Zmb1doD9qsRr"
   },
   "outputs": [],
   "source": [
    "area_q = df_alquiler.groupby('l3').agg({'surface_total': [q1, q3]})\n",
    "area_q.columns = ['q1', 'q3']"
   ]
  },
  {
   "cell_type": "code",
   "execution_count": null,
   "metadata": {
    "colab": {
     "base_uri": "https://localhost:8080/",
     "height": 143
    },
    "executionInfo": {
     "elapsed": 259,
     "status": "ok",
     "timestamp": 1657486622169,
     "user": {
      "displayName": "Hector Bryan Villegas Barragan",
      "userId": "05189738497377269192"
     },
     "user_tz": 300
    },
    "id": "CmxBEJnZ5mZn",
    "outputId": "4aad3ef2-4d80-45de-b600-59a837592546"
   },
   "outputs": [
    {
     "data": {
      "text/html": [
       "\n",
       "  <div id=\"df-334ed103-c07d-4eff-b968-6b11ea5e84fb\">\n",
       "    <div class=\"colab-df-container\">\n",
       "      <div>\n",
       "<style scoped>\n",
       "    .dataframe tbody tr th:only-of-type {\n",
       "        vertical-align: middle;\n",
       "    }\n",
       "\n",
       "    .dataframe tbody tr th {\n",
       "        vertical-align: top;\n",
       "    }\n",
       "\n",
       "    .dataframe thead th {\n",
       "        text-align: right;\n",
       "    }\n",
       "</style>\n",
       "<table border=\"1\" class=\"dataframe\">\n",
       "  <thead>\n",
       "    <tr style=\"text-align: right;\">\n",
       "      <th></th>\n",
       "      <th>q1</th>\n",
       "      <th>q3</th>\n",
       "    </tr>\n",
       "    <tr>\n",
       "      <th>l3</th>\n",
       "      <th></th>\n",
       "      <th></th>\n",
       "    </tr>\n",
       "  </thead>\n",
       "  <tbody>\n",
       "    <tr>\n",
       "      <th>Guayaquil</th>\n",
       "      <td>1736.045045</td>\n",
       "      <td>1736.045045</td>\n",
       "    </tr>\n",
       "    <tr>\n",
       "      <th>Quito</th>\n",
       "      <td>221.638298</td>\n",
       "      <td>221.638298</td>\n",
       "    </tr>\n",
       "  </tbody>\n",
       "</table>\n",
       "</div>\n",
       "      <button class=\"colab-df-convert\" onclick=\"convertToInteractive('df-334ed103-c07d-4eff-b968-6b11ea5e84fb')\"\n",
       "              title=\"Convert this dataframe to an interactive table.\"\n",
       "              style=\"display:none;\">\n",
       "        \n",
       "  <svg xmlns=\"http://www.w3.org/2000/svg\" height=\"24px\"viewBox=\"0 0 24 24\"\n",
       "       width=\"24px\">\n",
       "    <path d=\"M0 0h24v24H0V0z\" fill=\"none\"/>\n",
       "    <path d=\"M18.56 5.44l.94 2.06.94-2.06 2.06-.94-2.06-.94-.94-2.06-.94 2.06-2.06.94zm-11 1L8.5 8.5l.94-2.06 2.06-.94-2.06-.94L8.5 2.5l-.94 2.06-2.06.94zm10 10l.94 2.06.94-2.06 2.06-.94-2.06-.94-.94-2.06-.94 2.06-2.06.94z\"/><path d=\"M17.41 7.96l-1.37-1.37c-.4-.4-.92-.59-1.43-.59-.52 0-1.04.2-1.43.59L10.3 9.45l-7.72 7.72c-.78.78-.78 2.05 0 2.83L4 21.41c.39.39.9.59 1.41.59.51 0 1.02-.2 1.41-.59l7.78-7.78 2.81-2.81c.8-.78.8-2.07 0-2.86zM5.41 20L4 18.59l7.72-7.72 1.47 1.35L5.41 20z\"/>\n",
       "  </svg>\n",
       "      </button>\n",
       "      \n",
       "  <style>\n",
       "    .colab-df-container {\n",
       "      display:flex;\n",
       "      flex-wrap:wrap;\n",
       "      gap: 12px;\n",
       "    }\n",
       "\n",
       "    .colab-df-convert {\n",
       "      background-color: #E8F0FE;\n",
       "      border: none;\n",
       "      border-radius: 50%;\n",
       "      cursor: pointer;\n",
       "      display: none;\n",
       "      fill: #1967D2;\n",
       "      height: 32px;\n",
       "      padding: 0 0 0 0;\n",
       "      width: 32px;\n",
       "    }\n",
       "\n",
       "    .colab-df-convert:hover {\n",
       "      background-color: #E2EBFA;\n",
       "      box-shadow: 0px 1px 2px rgba(60, 64, 67, 0.3), 0px 1px 3px 1px rgba(60, 64, 67, 0.15);\n",
       "      fill: #174EA6;\n",
       "    }\n",
       "\n",
       "    [theme=dark] .colab-df-convert {\n",
       "      background-color: #3B4455;\n",
       "      fill: #D2E3FC;\n",
       "    }\n",
       "\n",
       "    [theme=dark] .colab-df-convert:hover {\n",
       "      background-color: #434B5C;\n",
       "      box-shadow: 0px 1px 3px 1px rgba(0, 0, 0, 0.15);\n",
       "      filter: drop-shadow(0px 1px 2px rgba(0, 0, 0, 0.3));\n",
       "      fill: #FFFFFF;\n",
       "    }\n",
       "  </style>\n",
       "\n",
       "      <script>\n",
       "        const buttonEl =\n",
       "          document.querySelector('#df-334ed103-c07d-4eff-b968-6b11ea5e84fb button.colab-df-convert');\n",
       "        buttonEl.style.display =\n",
       "          google.colab.kernel.accessAllowed ? 'block' : 'none';\n",
       "\n",
       "        async function convertToInteractive(key) {\n",
       "          const element = document.querySelector('#df-334ed103-c07d-4eff-b968-6b11ea5e84fb');\n",
       "          const dataTable =\n",
       "            await google.colab.kernel.invokeFunction('convertToInteractive',\n",
       "                                                     [key], {});\n",
       "          if (!dataTable) return;\n",
       "\n",
       "          const docLinkHtml = 'Like what you see? Visit the ' +\n",
       "            '<a target=\"_blank\" href=https://colab.research.google.com/notebooks/data_table.ipynb>data table notebook</a>'\n",
       "            + ' to learn more about interactive tables.';\n",
       "          element.innerHTML = '';\n",
       "          dataTable['output_type'] = 'display_data';\n",
       "          await google.colab.output.renderOutput(dataTable, element);\n",
       "          const docLink = document.createElement('div');\n",
       "          docLink.innerHTML = docLinkHtml;\n",
       "          element.appendChild(docLink);\n",
       "        }\n",
       "      </script>\n",
       "    </div>\n",
       "  </div>\n",
       "  "
      ],
      "text/plain": [
       "                    q1           q3\n",
       "l3                                 \n",
       "Guayaquil  1736.045045  1736.045045\n",
       "Quito       221.638298   221.638298"
      ]
     },
     "execution_count": 111,
     "metadata": {},
     "output_type": "execute_result"
    }
   ],
   "source": [
    "area_q"
   ]
  },
  {
   "cell_type": "code",
   "execution_count": null,
   "metadata": {
    "id": "ebteU2wx5ruP"
   },
   "outputs": [],
   "source": [
    "def notOutlier(x):\n",
    "  v = x['surface_total']\n",
    "  sector = x['l3']\n",
    "  q1 = area_q.loc[sector, 'q1']\n",
    "  q3 = area_q.loc[sector, 'q3']\n",
    "  iqr = q3-q1\n",
    "  op = (v >= q1-1.5*iqr) and (v <= q3+1.5*iqr)\n",
    "  return op"
   ]
  },
  {
   "cell_type": "code",
   "execution_count": null,
   "metadata": {
    "id": "4bCdszsG7aNv"
   },
   "outputs": [],
   "source": [
    "idx_area = df_alquiler.apply(notOutlier, axis=1)"
   ]
  },
  {
   "cell_type": "code",
   "execution_count": null,
   "metadata": {
    "colab": {
     "base_uri": "https://localhost:8080/",
     "height": 611
    },
    "executionInfo": {
     "elapsed": 747,
     "status": "ok",
     "timestamp": 1657488019582,
     "user": {
      "displayName": "Hector Bryan Villegas Barragan",
      "userId": "05189738497377269192"
     },
     "user_tz": 300
    },
    "id": "B09yeMRo-yGP",
    "outputId": "324b6e31-2fb7-4050-e092-8191c6778471"
   },
   "outputs": [
    {
     "data": {
      "image/png": "[encoded data removed]",
      "text/plain": [
       "<Figure size 576x720 with 1 Axes>"
      ]
     },
     "metadata": {},
     "output_type": "display_data"
    }
   ],
   "source": [
    "fig, ax = plt.subplots(figsize=(8, 10))\n",
    "_ = sns.boxplot(data=df_alquiler[idx_area], y='surface_total', x='l3', ax=ax)\n",
    "_ = ax.set_xlabel('Ciudades')\n",
    "_ = ax.set_ylabel('Área')"
   ]
  },
  {
   "cell_type": "code",
   "execution_count": null,
   "metadata": {
    "colab": {
     "base_uri": "https://localhost:8080/"
    },
    "executionInfo": {
     "elapsed": 210,
     "status": "ok",
     "timestamp": 1657488179192,
     "user": {
      "displayName": "Hector Bryan Villegas Barragan",
      "userId": "05189738497377269192"
     },
     "user_tz": 300
    },
    "id": "JBeZ0pVG79Sg",
    "outputId": "e5bb1805-e07d-4ace-b4f8-175ce4d7bb18"
   },
   "outputs": [
    {
     "data": {
      "text/plain": [
       "39126"
      ]
     },
     "execution_count": 139,
     "metadata": {},
     "output_type": "execute_result"
    }
   ],
   "source": [
    "idx_area.sum()"
   ]
  },
  {
   "cell_type": "markdown",
   "metadata": {
    "id": "hzTw4KTTB_GL"
   },
   "source": [
    "### resultados de análisis de outliers"
   ]
  },
  {
   "cell_type": "code",
   "execution_count": null,
   "metadata": {
    "id": "gjMjbSCQAhfb"
   },
   "outputs": [],
   "source": [
    "df_alquiler = df_alquiler[(idx_area & idx_alquiler)]"
   ]
  },
  {
   "cell_type": "code",
   "execution_count": null,
   "metadata": {
    "id": "lvhX4ncUCGB2"
   },
   "outputs": [],
   "source": [
    "df_venta = df_venta[idx_pxmt2]"
   ]
  },
  {
   "cell_type": "code",
   "execution_count": null,
   "metadata": {
    "id": "8Cb5t2Rn_SN6"
   },
   "outputs": [],
   "source": [
    "FILAS_P5 = df_alquiler.shape[0] + df_venta.shape[0]"
   ]
  },
  {
   "cell_type": "code",
   "execution_count": null,
   "metadata": {
    "colab": {
     "base_uri": "https://localhost:8080/"
    },
    "executionInfo": {
     "elapsed": 209,
     "status": "ok",
     "timestamp": 1657488556493,
     "user": {
      "displayName": "Hector Bryan Villegas Barragan",
      "userId": "05189738497377269192"
     },
     "user_tz": 300
    },
    "id": "7xXnYSY2BAIy",
    "outputId": "cb487328-8904-43e1-aa3e-8da04098330f"
   },
   "outputs": [
    {
     "data": {
      "text/plain": [
       "78085"
      ]
     },
     "execution_count": 150,
     "metadata": {},
     "output_type": "execute_result"
    }
   ],
   "source": [
    "FILAS_P4"
   ]
  },
  {
   "cell_type": "code",
   "execution_count": null,
   "metadata": {
    "colab": {
     "base_uri": "https://localhost:8080/"
    },
    "executionInfo": {
     "elapsed": 205,
     "status": "ok",
     "timestamp": 1657488887276,
     "user": {
      "displayName": "Hector Bryan Villegas Barragan",
      "userId": "05189738497377269192"
     },
     "user_tz": 300
    },
    "id": "wdrGxX9ZCSy9",
    "outputId": "f6a8bd34-376c-4e5a-b82e-f8918aae960a"
   },
   "outputs": [
    {
     "data": {
      "text/plain": [
       "70243"
      ]
     },
     "execution_count": 154,
     "metadata": {},
     "output_type": "execute_result"
    }
   ],
   "source": [
    "FILAS_P5"
   ]
  },
  {
   "cell_type": "code",
   "execution_count": null,
   "metadata": {
    "colab": {
     "base_uri": "https://localhost:8080/"
    },
    "executionInfo": {
     "elapsed": 203,
     "status": "ok",
     "timestamp": 1657489149972,
     "user": {
      "displayName": "Hector Bryan Villegas Barragan",
      "userId": "05189738497377269192"
     },
     "user_tz": 300
    },
    "id": "hzg_VAaGCduh",
    "outputId": "26c4d769-1adb-478d-f112-2bb9ede002e7"
   },
   "outputs": [
    {
     "name": "stdout",
     "output_type": "stream",
     "text": [
      "Se eliminaron 7842 filas con el análisis de outliers\n",
      "4165 propiedades de alquiler y 3687 propiedades en venta\n"
     ]
    }
   ],
   "source": [
    "print(f'Se eliminaron {FILAS_P4 - FILAS_P5} filas con el análisis de outliers\\n{(~idx_alquiler).sum() + (~idx_area).sum()} propiedades de alquiler y {(~idx_pxmt2).sum()} propiedades en venta')"
   ]
  },
  {
   "cell_type": "markdown",
   "metadata": {
    "id": "y3AzO4P3F_bD"
   },
   "source": [
    "## análisis de ruido"
   ]
  },
  {
   "cell_type": "code",
   "execution_count": null,
   "metadata": {
    "id": "CKtRHgZeGMMy"
   },
   "outputs": [],
   "source": [
    "FILAS_INICIALES = 288984"
   ]
  },
  {
   "cell_type": "code",
   "execution_count": null,
   "metadata": {
    "colab": {
     "base_uri": "https://localhost:8080/"
    },
    "executionInfo": {
     "elapsed": 260,
     "status": "ok",
     "timestamp": 1657491424841,
     "user": {
      "displayName": "Hector Bryan Villegas Barragan",
      "userId": "05189738497377269192"
     },
     "user_tz": 300
    },
    "id": "Rd2RWOvlGbPu",
    "outputId": "169c0fa6-94b2-41ea-de6d-e2765a68d7b5"
   },
   "outputs": [
    {
     "data": {
      "text/plain": [
       "218741"
      ]
     },
     "execution_count": 171,
     "metadata": {},
     "output_type": "execute_result"
    }
   ],
   "source": [
    "ruido = (FILAS_INICIALES-FILAS_P5)\n",
    "ruido"
   ]
  },
  {
   "cell_type": "code",
   "execution_count": null,
   "metadata": {
    "colab": {
     "base_uri": "https://localhost:8080/"
    },
    "executionInfo": {
     "elapsed": 215,
     "status": "ok",
     "timestamp": 1657491357385,
     "user": {
      "displayName": "Hector Bryan Villegas Barragan",
      "userId": "05189738497377269192"
     },
     "user_tz": 300
    },
    "id": "C2nMxz2xGpFw",
    "outputId": "3d7c74fc-5f91-4a92-b535-1647fb54f769"
   },
   "outputs": [
    {
     "data": {
      "text/plain": [
       "75.69311795808764"
      ]
     },
     "execution_count": 170,
     "metadata": {},
     "output_type": "execute_result"
    }
   ],
   "source": [
    "100*ruido/FILAS_INICIALES"
   ]
  },
  {
   "cell_type": "markdown",
   "metadata": {
    "id": "PIjGQaUNGz4F"
   },
   "source": [
    "El 75.7% de los datos se descartaron"
   ]
  },
  {
   "cell_type": "markdown",
   "metadata": {
    "id": "m2ViX_qeF8rv"
   },
   "source": [
    "## exportación de datasets"
   ]
  },
  {
   "cell_type": "code",
   "execution_count": null,
   "metadata": {
    "id": "lA90k70nDt1C"
   },
   "outputs": [],
   "source": [
    "hv_output = '/content/drive/MyDrive/Proyecto Introduccion a la Ciencia de Datos/output'"
   ]
  },
  {
   "cell_type": "code",
   "execution_count": null,
   "metadata": {
    "id": "KKQZ9T74ErSg"
   },
   "outputs": [],
   "source": [
    "alquiler_fn = 'propiedades_en_alquiler.csv'\n",
    "ventas_fn = 'propiedades_en_venta.csv'"
   ]
  },
  {
   "cell_type": "code",
   "execution_count": null,
   "metadata": {
    "id": "To664pr_Cm31"
   },
   "outputs": [],
   "source": [
    "df_venta.to_csv(f'{hv_output}/{ventas_fn}',index=False)"
   ]
  },
  {
   "cell_type": "code",
   "execution_count": null,
   "metadata": {
    "id": "LdALPHMuEQHo"
   },
   "outputs": [],
   "source": [
    "df_alquiler.to_csv(f'{hv_output}/{alquiler_fn}',index=False)"
   ]
  }
 ],
 "metadata": {
  "colab": {
   "name": "2-procesamiento.ipynb",
   "provenance": []
  },
  "kernelspec": {
   "display_name": "Python 3 (ipykernel)",
   "language": "python",
   "name": "python3"
  },
  "language_info": {
   "codemirror_mode": {
    "name": "ipython",
    "version": 3
   },
   "file_extension": ".py",
   "mimetype": "text/x-python",
   "name": "python",
   "nbconvert_exporter": "python",
   "pygments_lexer": "ipython3",
   "version": "3.10.3"
  }
 },
 "nbformat": 4,
 "nbformat_minor": 1
}
