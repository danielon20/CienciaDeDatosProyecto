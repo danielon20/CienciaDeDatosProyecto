{
 "cells": [
  {
   "cell_type": "code",
   "execution_count": 1,
   "metadata": {
    "executionInfo": {
     "elapsed": 563,
     "status": "ok",
     "timestamp": 1659142331089,
     "user": {
      "displayName": "Hector Bryan Villegas Barragan",
      "userId": "05189738497377269192"
     },
     "user_tz": 300
    },
    "id": "YqX2QrXQQfAo"
   },
   "outputs": [],
   "source": [
    "import pandas as pd\n",
    "import numpy as np"
   ]
  },
  {
   "cell_type": "code",
   "execution_count": 2,
   "metadata": {
    "executionInfo": {
     "elapsed": 6,
     "status": "ok",
     "timestamp": 1659142331090,
     "user": {
      "displayName": "Hector Bryan Villegas Barragan",
      "userId": "05189738497377269192"
     },
     "user_tz": 300
    },
    "id": "yr8ja9IBQr7l"
   },
   "outputs": [],
   "source": [
    "hvpath = '/content/drive/MyDrive/Proyecto Introduccion a la Ciencia de Datos/data'"
   ]
  },
  {
   "cell_type": "code",
   "execution_count": 3,
   "metadata": {
    "executionInfo": {
     "elapsed": 2029,
     "status": "ok",
     "timestamp": 1659142342678,
     "user": {
      "displayName": "Hector Bryan Villegas Barragan",
      "userId": "05189738497377269192"
     },
     "user_tz": 300
    },
    "id": "-U28aky-Qz-c"
   },
   "outputs": [],
   "source": [
    "ipc1 = pd.read_csv(f'{hvpath}/neighborhood_2017_ingpc_new_1.csv')\n",
    "ipc2 = pd.read_csv(f'{hvpath}/neighborhood_2017_ingpc_new_2.csv')\n",
    "ipc3 = pd.read_csv(f'{hvpath}/neighborhood_2017_ingpc_new_3.csv')\n",
    "ipc4 = pd.read_csv(f'{hvpath}/neighborhood_2017_ingpc_new_4.csv')"
   ]
  },
  {
   "cell_type": "code",
   "execution_count": 4,
   "metadata": {
    "executionInfo": {
     "elapsed": 242,
     "status": "ok",
     "timestamp": 1659142346835,
     "user": {
      "displayName": "Hector Bryan Villegas Barragan",
      "userId": "05189738497377269192"
     },
     "user_tz": 300
    },
    "id": "7dZCwrDZQ98Y"
   },
   "outputs": [],
   "source": [
    "ipc_all = pd.concat([ipc1, ipc2, ipc3, ipc4]).groupby('neighborhood').agg({'ingpc_mean': np.mean, 'gini': np.mean, 'ingpc_median': np.median, 'iqr': np.mean})"
   ]
  },
  {
   "cell_type": "code",
   "execution_count": 5,
   "metadata": {
    "colab": {
     "base_uri": "https://localhost:8080/",
     "height": 238
    },
    "executionInfo": {
     "elapsed": 205,
     "status": "ok",
     "timestamp": 1659142348232,
     "user": {
      "displayName": "Hector Bryan Villegas Barragan",
      "userId": "05189738497377269192"
     },
     "user_tz": 300
    },
    "id": "beMoP66TRKc6",
    "outputId": "d215ce64-9b80-408d-b5dc-84df9d79a46c"
   },
   "outputs": [
    {
     "data": {
      "text/html": [
       "\n",
       "  <div id=\"df-e00efa2d-60b7-42c1-b8a1-1bb3f22db42b\">\n",
       "    <div class=\"colab-df-container\">\n",
       "      <div>\n",
       "<style scoped>\n",
       "    .dataframe tbody tr th:only-of-type {\n",
       "        vertical-align: middle;\n",
       "    }\n",
       "\n",
       "    .dataframe tbody tr th {\n",
       "        vertical-align: top;\n",
       "    }\n",
       "\n",
       "    .dataframe thead th {\n",
       "        text-align: right;\n",
       "    }\n",
       "</style>\n",
       "<table border=\"1\" class=\"dataframe\">\n",
       "  <thead>\n",
       "    <tr style=\"text-align: right;\">\n",
       "      <th></th>\n",
       "      <th>ingpc_mean</th>\n",
       "      <th>gini</th>\n",
       "      <th>ingpc_median</th>\n",
       "      <th>iqr</th>\n",
       "    </tr>\n",
       "    <tr>\n",
       "      <th>neighborhood</th>\n",
       "      <th></th>\n",
       "      <th></th>\n",
       "      <th></th>\n",
       "      <th></th>\n",
       "    </tr>\n",
       "  </thead>\n",
       "  <tbody>\n",
       "    <tr>\n",
       "      <th>Abel Gilbert</th>\n",
       "      <td>186.582404</td>\n",
       "      <td>0.249501</td>\n",
       "      <td>165.375</td>\n",
       "      <td>117.555283</td>\n",
       "    </tr>\n",
       "    <tr>\n",
       "      <th>Acacias</th>\n",
       "      <td>297.917603</td>\n",
       "      <td>0.297507</td>\n",
       "      <td>220.250</td>\n",
       "      <td>289.375000</td>\n",
       "    </tr>\n",
       "    <tr>\n",
       "      <th>Academia Logos</th>\n",
       "      <td>786.931579</td>\n",
       "      <td>0.293687</td>\n",
       "      <td>755.000</td>\n",
       "      <td>543.075000</td>\n",
       "    </tr>\n",
       "    <tr>\n",
       "      <th>Alborada</th>\n",
       "      <td>422.237240</td>\n",
       "      <td>0.300916</td>\n",
       "      <td>380.000</td>\n",
       "      <td>352.372917</td>\n",
       "    </tr>\n",
       "    <tr>\n",
       "      <th>Arcadia</th>\n",
       "      <td>786.931579</td>\n",
       "      <td>0.293687</td>\n",
       "      <td>755.000</td>\n",
       "      <td>543.075000</td>\n",
       "    </tr>\n",
       "  </tbody>\n",
       "</table>\n",
       "</div>\n",
       "      <button class=\"colab-df-convert\" onclick=\"convertToInteractive('df-e00efa2d-60b7-42c1-b8a1-1bb3f22db42b')\"\n",
       "              title=\"Convert this dataframe to an interactive table.\"\n",
       "              style=\"display:none;\">\n",
       "        \n",
       "  <svg xmlns=\"http://www.w3.org/2000/svg\" height=\"24px\"viewBox=\"0 0 24 24\"\n",
       "       width=\"24px\">\n",
       "    <path d=\"M0 0h24v24H0V0z\" fill=\"none\"/>\n",
       "    <path d=\"M18.56 5.44l.94 2.06.94-2.06 2.06-.94-2.06-.94-.94-2.06-.94 2.06-2.06.94zm-11 1L8.5 8.5l.94-2.06 2.06-.94-2.06-.94L8.5 2.5l-.94 2.06-2.06.94zm10 10l.94 2.06.94-2.06 2.06-.94-2.06-.94-.94-2.06-.94 2.06-2.06.94z\"/><path d=\"M17.41 7.96l-1.37-1.37c-.4-.4-.92-.59-1.43-.59-.52 0-1.04.2-1.43.59L10.3 9.45l-7.72 7.72c-.78.78-.78 2.05 0 2.83L4 21.41c.39.39.9.59 1.41.59.51 0 1.02-.2 1.41-.59l7.78-7.78 2.81-2.81c.8-.78.8-2.07 0-2.86zM5.41 20L4 18.59l7.72-7.72 1.47 1.35L5.41 20z\"/>\n",
       "  </svg>\n",
       "      </button>\n",
       "      \n",
       "  <style>\n",
       "    .colab-df-container {\n",
       "      display:flex;\n",
       "      flex-wrap:wrap;\n",
       "      gap: 12px;\n",
       "    }\n",
       "\n",
       "    .colab-df-convert {\n",
       "      background-color: #E8F0FE;\n",
       "      border: none;\n",
       "      border-radius: 50%;\n",
       "      cursor: pointer;\n",
       "      display: none;\n",
       "      fill: #1967D2;\n",
       "      height: 32px;\n",
       "      padding: 0 0 0 0;\n",
       "      width: 32px;\n",
       "    }\n",
       "\n",
       "    .colab-df-convert:hover {\n",
       "      background-color: #E2EBFA;\n",
       "      box-shadow: 0px 1px 2px rgba(60, 64, 67, 0.3), 0px 1px 3px 1px rgba(60, 64, 67, 0.15);\n",
       "      fill: #174EA6;\n",
       "    }\n",
       "\n",
       "    [theme=dark] .colab-df-convert {\n",
       "      background-color: #3B4455;\n",
       "      fill: #D2E3FC;\n",
       "    }\n",
       "\n",
       "    [theme=dark] .colab-df-convert:hover {\n",
       "      background-color: #434B5C;\n",
       "      box-shadow: 0px 1px 3px 1px rgba(0, 0, 0, 0.15);\n",
       "      filter: drop-shadow(0px 1px 2px rgba(0, 0, 0, 0.3));\n",
       "      fill: #FFFFFF;\n",
       "    }\n",
       "  </style>\n",
       "\n",
       "      <script>\n",
       "        const buttonEl =\n",
       "          document.querySelector('#df-e00efa2d-60b7-42c1-b8a1-1bb3f22db42b button.colab-df-convert');\n",
       "        buttonEl.style.display =\n",
       "          google.colab.kernel.accessAllowed ? 'block' : 'none';\n",
       "\n",
       "        async function convertToInteractive(key) {\n",
       "          const element = document.querySelector('#df-e00efa2d-60b7-42c1-b8a1-1bb3f22db42b');\n",
       "          const dataTable =\n",
       "            await google.colab.kernel.invokeFunction('convertToInteractive',\n",
       "                                                     [key], {});\n",
       "          if (!dataTable) return;\n",
       "\n",
       "          const docLinkHtml = 'Like what you see? Visit the ' +\n",
       "            '<a target=\"_blank\" href=https://colab.research.google.com/notebooks/data_table.ipynb>data table notebook</a>'\n",
       "            + ' to learn more about interactive tables.';\n",
       "          element.innerHTML = '';\n",
       "          dataTable['output_type'] = 'display_data';\n",
       "          await google.colab.output.renderOutput(dataTable, element);\n",
       "          const docLink = document.createElement('div');\n",
       "          docLink.innerHTML = docLinkHtml;\n",
       "          element.appendChild(docLink);\n",
       "        }\n",
       "      </script>\n",
       "    </div>\n",
       "  </div>\n",
       "  "
      ],
      "text/plain": [
       "                ingpc_mean      gini  ingpc_median         iqr\n",
       "neighborhood                                                  \n",
       "Abel Gilbert    186.582404  0.249501       165.375  117.555283\n",
       "Acacias         297.917603  0.297507       220.250  289.375000\n",
       "Academia Logos  786.931579  0.293687       755.000  543.075000\n",
       "Alborada        422.237240  0.300916       380.000  352.372917\n",
       "Arcadia         786.931579  0.293687       755.000  543.075000"
      ]
     },
     "execution_count": 5,
     "metadata": {},
     "output_type": "execute_result"
    }
   ],
   "source": [
    "ipc_all.head()"
   ]
  },
  {
   "cell_type": "code",
   "execution_count": 8,
   "metadata": {
    "colab": {
     "base_uri": "https://localhost:8080/"
    },
    "executionInfo": {
     "elapsed": 200,
     "status": "ok",
     "timestamp": 1659142406852,
     "user": {
      "displayName": "Hector Bryan Villegas Barragan",
      "userId": "05189738497377269192"
     },
     "user_tz": 300
    },
    "id": "AUF7hW45l4sg",
    "outputId": "b79d3e4e-3693-4d4f-9717-6023a11c9923"
   },
   "outputs": [
    {
     "data": {
      "text/plain": [
       "Index(['Abel Gilbert', 'Acacias', 'Academia Logos', 'Alborada', 'Arcadia',\n",
       "       'Argelia', 'Atahualpa', 'Atarazana', 'Balerio Estacio', 'Barrio Lindo',\n",
       "       'Bastion Popular', 'Batallon del Suburbio', 'Belisario Quevedo',\n",
       "       'Bellavista', 'Carcelen', 'Centro Historico', 'Cerro San Eduardo',\n",
       "       'Cerro del Carmen', 'Chillogallo', 'Chimbacalle',\n",
       "       'Ciudadela 9 de Octubre', 'Colinas de la Florida', 'Comite del Pueblo',\n",
       "       'Condor', 'Cooperativa 5 de Diciembre', 'Cotocollao',\n",
       "       'Cristo del Consuelo', 'El Fortin', 'El Inca', 'El Pintado', 'El Rio',\n",
       "       'El condado', 'Estero Salado', 'Febres Cordero', 'Flor de Bastion',\n",
       "       'Floresta', 'Florida', 'Garzota', 'Guamani', 'Guanguala',\n",
       "       'Guasmo Norte - Rio Guayas', 'Guasmo Oeste', 'Guasmo Sur',\n",
       "       'Guasmo Sur - La Union', 'Guayacanes', 'Huancavilca Norte',\n",
       "       'Isla Trinitaria', 'Iñaquito', 'Juan Montalvo', 'La Ecuatoriana',\n",
       "       'La Ferroviaria', 'La Luz', 'La Mena', 'La Paz', 'La Tola',\n",
       "       'La Vicentina', 'Las Americas', 'Los Esteros',\n",
       "       'Lotizacion Industrial Pascuales', 'Luz del Guayas', 'Mapasingue',\n",
       "       'MarcoPamba', 'Mariscal Sucre', 'Monte Sinai', 'Mucho Lote',\n",
       "       'Nueva Prosperina', 'Orquideas', 'Parroquia Garcia Moreno',\n",
       "       'Parroquia Letamendi', 'Parroquia Sucre', 'Parroquia Urdaneta',\n",
       "       'Pascuales', 'Ponceano', 'Pradera', 'Prosperina', 'Puerto Lisa',\n",
       "       'Quitumbe', 'Rosales', 'Samanes', 'San Bartolo', 'San Carlos',\n",
       "       'San Francisco', 'San Isidro del Inca', 'San Juan', 'Santa Anita',\n",
       "       'Santa Isabel', 'Santa Maria de Cotocollao', 'Santa Rita', 'Sauces',\n",
       "       'Sergio Toral', 'Solanda', 'TerraNostra', 'Turubamba', 'Urbanor',\n",
       "       'Urdenor', 'Vergeles', 'Vista Sol'],\n",
       "      dtype='object', name='neighborhood')"
      ]
     },
     "execution_count": 8,
     "metadata": {},
     "output_type": "execute_result"
    }
   ],
   "source": [
    "ipc_all.index"
   ]
  },
  {
   "cell_type": "code",
   "execution_count": 6,
   "metadata": {
    "colab": {
     "base_uri": "https://localhost:8080/"
    },
    "executionInfo": {
     "elapsed": 213,
     "status": "ok",
     "timestamp": 1659142351611,
     "user": {
      "displayName": "Hector Bryan Villegas Barragan",
      "userId": "05189738497377269192"
     },
     "user_tz": 300
    },
    "id": "akJS7Cm0RYCY",
    "outputId": "2f387119-b7c5-4220-dab9-94479b4b9328"
   },
   "outputs": [
    {
     "data": {
      "text/plain": [
       "ingpc_mean      297.917603\n",
       "gini              0.297507\n",
       "ingpc_median    220.250000\n",
       "iqr             289.375000\n",
       "Name: Acacias, dtype: float64"
      ]
     },
     "execution_count": 6,
     "metadata": {},
     "output_type": "execute_result"
    }
   ],
   "source": [
    "ipc_all.loc['Acacias']"
   ]
  },
  {
   "cell_type": "code",
   "execution_count": null,
   "metadata": {
    "id": "7sjCzOLPRMK6"
   },
   "outputs": [],
   "source": [
    "import matplotlib.pyplot as plt\n",
    "import seaborn as sns"
   ]
  },
  {
   "cell_type": "code",
   "execution_count": null,
   "metadata": {
    "colab": {
     "base_uri": "https://localhost:8080/",
     "height": 486
    },
    "executionInfo": {
     "elapsed": 568,
     "status": "ok",
     "timestamp": 1657743655345,
     "user": {
      "displayName": "Hector Bryan Villegas Barragan",
      "userId": "05189738497377269192"
     },
     "user_tz": 300
    },
    "id": "yrLZNfgDRyuU",
    "outputId": "2c59be18-6a0a-44a7-a0af-ec41e2d52394"
   },
   "outputs": [
    {
     "data": {
      "text/plain": [
       "<matplotlib.axes._subplots.AxesSubplot at 0x7feff43fedd0>"
      ]
     },
     "execution_count": 9,
     "metadata": {},
     "output_type": "execute_result"
    },
    {
     "data": {
      "image/png": "[encoded data removed]",
      "text/plain": [
       "<Figure size 720x576 with 1 Axes>"
      ]
     },
     "metadata": {
      "needs_background": "light"
     },
     "output_type": "display_data"
    }
   ],
   "source": [
    "fig, ax = plt.subplots(figsize=(10, 8))\n",
    "sns.boxplot(data=ipc_all, y='ingpc_mean', ax=ax)"
   ]
  },
  {
   "cell_type": "code",
   "execution_count": null,
   "metadata": {
    "id": "GjhO0WVMSTAa"
   },
   "outputs": [],
   "source": [
    "std = ipc_all['ingpc_mean'].std()\n",
    "mean = ipc_all['ingpc_mean'].mean()"
   ]
  },
  {
   "cell_type": "code",
   "execution_count": null,
   "metadata": {
    "id": "RwNGBzqWScHA"
   },
   "outputs": [],
   "source": [
    "zscore = (ipc_all['ingpc_mean'] - mean)/std"
   ]
  },
  {
   "cell_type": "code",
   "execution_count": null,
   "metadata": {
    "colab": {
     "base_uri": "https://localhost:8080/"
    },
    "executionInfo": {
     "elapsed": 249,
     "status": "ok",
     "timestamp": 1657743663436,
     "user": {
      "displayName": "Hector Bryan Villegas Barragan",
      "userId": "05189738497377269192"
     },
     "user_tz": 300
    },
    "id": "PgE_XxyzSjhd",
    "outputId": "1f30f7cf-b1ba-4509-c890-d98e4b44891f"
   },
   "outputs": [
    {
     "data": {
      "text/plain": [
       "neighborhood\n",
       "Abel Gilbert     -0.681727\n",
       "Acacias          -0.152131\n",
       "Academia Logos    2.173995\n",
       "Alborada          0.439228\n",
       "Arcadia           2.173995\n",
       "                    ...   \n",
       "Turubamba        -0.283825\n",
       "Urbanor           0.134450\n",
       "Urdenor           0.497977\n",
       "Vergeles         -0.664925\n",
       "Vista Sol         3.541758\n",
       "Name: ingpc_mean, Length: 97, dtype: float64"
      ]
     },
     "execution_count": 12,
     "metadata": {},
     "output_type": "execute_result"
    }
   ],
   "source": [
    "zscore"
   ]
  },
  {
   "cell_type": "code",
   "execution_count": null,
   "metadata": {
    "colab": {
     "base_uri": "https://localhost:8080/",
     "height": 282
    },
    "executionInfo": {
     "elapsed": 657,
     "status": "ok",
     "timestamp": 1657743666835,
     "user": {
      "displayName": "Hector Bryan Villegas Barragan",
      "userId": "05189738497377269192"
     },
     "user_tz": 300
    },
    "id": "bmwhK7NuSkap",
    "outputId": "9b635273-e68d-4b24-fbae-6dfa3e4c572d"
   },
   "outputs": [
    {
     "data": {
      "text/plain": [
       "<matplotlib.axes._subplots.AxesSubplot at 0x7fefe7c194d0>"
      ]
     },
     "execution_count": 13,
     "metadata": {},
     "output_type": "execute_result"
    },
    {
     "data": {
      "image/png": "[encoded data removed]",
      "text/plain": [
       "<Figure size 432x288 with 1 Axes>"
      ]
     },
     "metadata": {
      "needs_background": "light"
     },
     "output_type": "display_data"
    }
   ],
   "source": [
    "ipc_all['ingpc_mean'].hist()"
   ]
  },
  {
   "cell_type": "code",
   "execution_count": null,
   "metadata": {
    "colab": {
     "base_uri": "https://localhost:8080/",
     "height": 282
    },
    "executionInfo": {
     "elapsed": 711,
     "status": "ok",
     "timestamp": 1657743672189,
     "user": {
      "displayName": "Hector Bryan Villegas Barragan",
      "userId": "05189738497377269192"
     },
     "user_tz": 300
    },
    "id": "7QDeg_OYSuhS",
    "outputId": "cddfab03-50c1-4271-fd93-b7e0111f69af"
   },
   "outputs": [
    {
     "data": {
      "text/plain": [
       "<matplotlib.axes._subplots.AxesSubplot at 0x7fefe7b9d6d0>"
      ]
     },
     "execution_count": 14,
     "metadata": {},
     "output_type": "execute_result"
    },
    {
     "data": {
      "image/png": "[encoded data removed]",
      "text/plain": [
       "<Figure size 432x288 with 1 Axes>"
      ]
     },
     "metadata": {
      "needs_background": "light"
     },
     "output_type": "display_data"
    }
   ],
   "source": [
    "zscore.hist()"
   ]
  },
  {
   "cell_type": "code",
   "execution_count": null,
   "metadata": {
    "colab": {
     "base_uri": "https://localhost:8080/"
    },
    "executionInfo": {
     "elapsed": 197,
     "status": "ok",
     "timestamp": 1657743681841,
     "user": {
      "displayName": "Hector Bryan Villegas Barragan",
      "userId": "05189738497377269192"
     },
     "user_tz": 300
    },
    "id": "m1Gd8IvFS00y",
    "outputId": "6ca6b01f-9cfa-4d40-9947-a87c5c232a87"
   },
   "outputs": [
    {
     "data": {
      "text/plain": [
       "93"
      ]
     },
     "execution_count": 15,
     "metadata": {},
     "output_type": "execute_result"
    }
   ],
   "source": [
    "idx = (zscore > -3) & (zscore < 3)\n",
    "idx.sum()"
   ]
  },
  {
   "cell_type": "markdown",
   "metadata": {
    "id": "IFCae6cjTQGJ"
   },
   "source": [
    "hay 2 valores atípicos"
   ]
  },
  {
   "cell_type": "code",
   "execution_count": null,
   "metadata": {
    "colab": {
     "base_uri": "https://localhost:8080/",
     "height": 455
    },
    "executionInfo": {
     "elapsed": 202,
     "status": "ok",
     "timestamp": 1657743684243,
     "user": {
      "displayName": "Hector Bryan Villegas Barragan",
      "userId": "05189738497377269192"
     },
     "user_tz": 300
    },
    "id": "E_iJM8UzS5nX",
    "outputId": "18dddea2-700a-4e26-a61d-9a5d42246d79"
   },
   "outputs": [
    {
     "data": {
      "text/html": [
       "\n",
       "  <div id=\"df-d11bbd64-0fd3-4cc4-a206-8070ec982d15\">\n",
       "    <div class=\"colab-df-container\">\n",
       "      <div>\n",
       "<style scoped>\n",
       "    .dataframe tbody tr th:only-of-type {\n",
       "        vertical-align: middle;\n",
       "    }\n",
       "\n",
       "    .dataframe tbody tr th {\n",
       "        vertical-align: top;\n",
       "    }\n",
       "\n",
       "    .dataframe thead th {\n",
       "        text-align: right;\n",
       "    }\n",
       "</style>\n",
       "<table border=\"1\" class=\"dataframe\">\n",
       "  <thead>\n",
       "    <tr style=\"text-align: right;\">\n",
       "      <th></th>\n",
       "      <th>ingpc_mean</th>\n",
       "      <th>gini</th>\n",
       "      <th>ingpc_median</th>\n",
       "      <th>iqr</th>\n",
       "    </tr>\n",
       "    <tr>\n",
       "      <th>neighborhood</th>\n",
       "      <th></th>\n",
       "      <th></th>\n",
       "      <th></th>\n",
       "      <th></th>\n",
       "    </tr>\n",
       "  </thead>\n",
       "  <tbody>\n",
       "    <tr>\n",
       "      <th>Abel Gilbert</th>\n",
       "      <td>186.582404</td>\n",
       "      <td>0.249501</td>\n",
       "      <td>165.375000</td>\n",
       "      <td>117.555283</td>\n",
       "    </tr>\n",
       "    <tr>\n",
       "      <th>Acacias</th>\n",
       "      <td>297.917603</td>\n",
       "      <td>0.297507</td>\n",
       "      <td>220.250000</td>\n",
       "      <td>289.375000</td>\n",
       "    </tr>\n",
       "    <tr>\n",
       "      <th>Academia Logos</th>\n",
       "      <td>786.931579</td>\n",
       "      <td>0.293687</td>\n",
       "      <td>755.000000</td>\n",
       "      <td>543.075000</td>\n",
       "    </tr>\n",
       "    <tr>\n",
       "      <th>Alborada</th>\n",
       "      <td>422.237240</td>\n",
       "      <td>0.300916</td>\n",
       "      <td>380.000000</td>\n",
       "      <td>352.372917</td>\n",
       "    </tr>\n",
       "    <tr>\n",
       "      <th>Arcadia</th>\n",
       "      <td>786.931579</td>\n",
       "      <td>0.293687</td>\n",
       "      <td>755.000000</td>\n",
       "      <td>543.075000</td>\n",
       "    </tr>\n",
       "    <tr>\n",
       "      <th>...</th>\n",
       "      <td>...</td>\n",
       "      <td>...</td>\n",
       "      <td>...</td>\n",
       "      <td>...</td>\n",
       "    </tr>\n",
       "    <tr>\n",
       "      <th>TerraNostra</th>\n",
       "      <td>786.931579</td>\n",
       "      <td>0.293687</td>\n",
       "      <td>755.000000</td>\n",
       "      <td>543.075000</td>\n",
       "    </tr>\n",
       "    <tr>\n",
       "      <th>Turubamba</th>\n",
       "      <td>270.232101</td>\n",
       "      <td>0.311948</td>\n",
       "      <td>199.625000</td>\n",
       "      <td>242.683333</td>\n",
       "    </tr>\n",
       "    <tr>\n",
       "      <th>Urbanor</th>\n",
       "      <td>358.164657</td>\n",
       "      <td>0.275132</td>\n",
       "      <td>324.000000</td>\n",
       "      <td>271.962574</td>\n",
       "    </tr>\n",
       "    <tr>\n",
       "      <th>Urdenor</th>\n",
       "      <td>434.587815</td>\n",
       "      <td>0.285378</td>\n",
       "      <td>397.333333</td>\n",
       "      <td>335.400000</td>\n",
       "    </tr>\n",
       "    <tr>\n",
       "      <th>Vergeles</th>\n",
       "      <td>190.114522</td>\n",
       "      <td>0.173485</td>\n",
       "      <td>174.516667</td>\n",
       "      <td>70.798958</td>\n",
       "    </tr>\n",
       "  </tbody>\n",
       "</table>\n",
       "<p>93 rows × 4 columns</p>\n",
       "</div>\n",
       "      <button class=\"colab-df-convert\" onclick=\"convertToInteractive('df-d11bbd64-0fd3-4cc4-a206-8070ec982d15')\"\n",
       "              title=\"Convert this dataframe to an interactive table.\"\n",
       "              style=\"display:none;\">\n",
       "        \n",
       "  <svg xmlns=\"http://www.w3.org/2000/svg\" height=\"24px\"viewBox=\"0 0 24 24\"\n",
       "       width=\"24px\">\n",
       "    <path d=\"M0 0h24v24H0V0z\" fill=\"none\"/>\n",
       "    <path d=\"M18.56 5.44l.94 2.06.94-2.06 2.06-.94-2.06-.94-.94-2.06-.94 2.06-2.06.94zm-11 1L8.5 8.5l.94-2.06 2.06-.94-2.06-.94L8.5 2.5l-.94 2.06-2.06.94zm10 10l.94 2.06.94-2.06 2.06-.94-2.06-.94-.94-2.06-.94 2.06-2.06.94z\"/><path d=\"M17.41 7.96l-1.37-1.37c-.4-.4-.92-.59-1.43-.59-.52 0-1.04.2-1.43.59L10.3 9.45l-7.72 7.72c-.78.78-.78 2.05 0 2.83L4 21.41c.39.39.9.59 1.41.59.51 0 1.02-.2 1.41-.59l7.78-7.78 2.81-2.81c.8-.78.8-2.07 0-2.86zM5.41 20L4 18.59l7.72-7.72 1.47 1.35L5.41 20z\"/>\n",
       "  </svg>\n",
       "      </button>\n",
       "      \n",
       "  <style>\n",
       "    .colab-df-container {\n",
       "      display:flex;\n",
       "      flex-wrap:wrap;\n",
       "      gap: 12px;\n",
       "    }\n",
       "\n",
       "    .colab-df-convert {\n",
       "      background-color: #E8F0FE;\n",
       "      border: none;\n",
       "      border-radius: 50%;\n",
       "      cursor: pointer;\n",
       "      display: none;\n",
       "      fill: #1967D2;\n",
       "      height: 32px;\n",
       "      padding: 0 0 0 0;\n",
       "      width: 32px;\n",
       "    }\n",
       "\n",
       "    .colab-df-convert:hover {\n",
       "      background-color: #E2EBFA;\n",
       "      box-shadow: 0px 1px 2px rgba(60, 64, 67, 0.3), 0px 1px 3px 1px rgba(60, 64, 67, 0.15);\n",
       "      fill: #174EA6;\n",
       "    }\n",
       "\n",
       "    [theme=dark] .colab-df-convert {\n",
       "      background-color: #3B4455;\n",
       "      fill: #D2E3FC;\n",
       "    }\n",
       "\n",
       "    [theme=dark] .colab-df-convert:hover {\n",
       "      background-color: #434B5C;\n",
       "      box-shadow: 0px 1px 3px 1px rgba(0, 0, 0, 0.15);\n",
       "      filter: drop-shadow(0px 1px 2px rgba(0, 0, 0, 0.3));\n",
       "      fill: #FFFFFF;\n",
       "    }\n",
       "  </style>\n",
       "\n",
       "      <script>\n",
       "        const buttonEl =\n",
       "          document.querySelector('#df-d11bbd64-0fd3-4cc4-a206-8070ec982d15 button.colab-df-convert');\n",
       "        buttonEl.style.display =\n",
       "          google.colab.kernel.accessAllowed ? 'block' : 'none';\n",
       "\n",
       "        async function convertToInteractive(key) {\n",
       "          const element = document.querySelector('#df-d11bbd64-0fd3-4cc4-a206-8070ec982d15');\n",
       "          const dataTable =\n",
       "            await google.colab.kernel.invokeFunction('convertToInteractive',\n",
       "                                                     [key], {});\n",
       "          if (!dataTable) return;\n",
       "\n",
       "          const docLinkHtml = 'Like what you see? Visit the ' +\n",
       "            '<a target=\"_blank\" href=https://colab.research.google.com/notebooks/data_table.ipynb>data table notebook</a>'\n",
       "            + ' to learn more about interactive tables.';\n",
       "          element.innerHTML = '';\n",
       "          dataTable['output_type'] = 'display_data';\n",
       "          await google.colab.output.renderOutput(dataTable, element);\n",
       "          const docLink = document.createElement('div');\n",
       "          docLink.innerHTML = docLinkHtml;\n",
       "          element.appendChild(docLink);\n",
       "        }\n",
       "      </script>\n",
       "    </div>\n",
       "  </div>\n",
       "  "
      ],
      "text/plain": [
       "                ingpc_mean      gini  ingpc_median         iqr\n",
       "neighborhood                                                  \n",
       "Abel Gilbert    186.582404  0.249501    165.375000  117.555283\n",
       "Acacias         297.917603  0.297507    220.250000  289.375000\n",
       "Academia Logos  786.931579  0.293687    755.000000  543.075000\n",
       "Alborada        422.237240  0.300916    380.000000  352.372917\n",
       "Arcadia         786.931579  0.293687    755.000000  543.075000\n",
       "...                    ...       ...           ...         ...\n",
       "TerraNostra     786.931579  0.293687    755.000000  543.075000\n",
       "Turubamba       270.232101  0.311948    199.625000  242.683333\n",
       "Urbanor         358.164657  0.275132    324.000000  271.962574\n",
       "Urdenor         434.587815  0.285378    397.333333  335.400000\n",
       "Vergeles        190.114522  0.173485    174.516667   70.798958\n",
       "\n",
       "[93 rows x 4 columns]"
      ]
     },
     "execution_count": 16,
     "metadata": {},
     "output_type": "execute_result"
    }
   ],
   "source": [
    "ipc_all[idx]"
   ]
  },
  {
   "cell_type": "code",
   "execution_count": null,
   "metadata": {
    "colab": {
     "base_uri": "https://localhost:8080/",
     "height": 486
    },
    "executionInfo": {
     "elapsed": 476,
     "status": "ok",
     "timestamp": 1657743689489,
     "user": {
      "displayName": "Hector Bryan Villegas Barragan",
      "userId": "05189738497377269192"
     },
     "user_tz": 300
    },
    "id": "p-6jMCO7TEHI",
    "outputId": "1a302723-c079-4e7f-fba2-37f97aa94341"
   },
   "outputs": [
    {
     "data": {
      "text/plain": [
       "<matplotlib.axes._subplots.AxesSubplot at 0x7fefe7aeac10>"
      ]
     },
     "execution_count": 17,
     "metadata": {},
     "output_type": "execute_result"
    },
    {
     "data": {
      "image/png": "[encoded data removed]",
      "text/plain": [
       "<Figure size 720x576 with 1 Axes>"
      ]
     },
     "metadata": {
      "needs_background": "light"
     },
     "output_type": "display_data"
    }
   ],
   "source": [
    "fig, ax = plt.subplots(figsize=(10, 8))\n",
    "sns.boxplot(data=ipc_all[idx], y='ingpc_mean', ax=ax)"
   ]
  },
  {
   "cell_type": "code",
   "execution_count": null,
   "metadata": {
    "id": "_77gXpePTe-b"
   },
   "outputs": [],
   "source": [
    "hvoutputs = '/content/drive/MyDrive/Proyecto Introduccion a la Ciencia de Datos/output'"
   ]
  },
  {
   "cell_type": "code",
   "execution_count": null,
   "metadata": {
    "id": "-NFiX3c_TnCS"
   },
   "outputs": [],
   "source": [
    "ipc_all.to_csv(f'{hvoutputs}/ipc_anual2017.csv')"
   ]
  }
 ],
 "metadata": {
  "colab": {
   "authorship_tag": "ABX9TyPMjH+ElcZXmVa9LAw+vxc8",
   "mount_file_id": "1fdQHNzuRYnVr8Q8IWkKgSGZvqqiJ4hK6",
   "name": "3-procesamiento ipc.ipynb",
   "provenance": []
  },
  "kernelspec": {
   "display_name": "Python 3 (ipykernel)",
   "language": "python",
   "name": "python3"
  },
  "language_info": {
   "codemirror_mode": {
    "name": "ipython",
    "version": 3
   },
   "file_extension": ".py",
   "mimetype": "text/x-python",
   "name": "python",
   "nbconvert_exporter": "python",
   "pygments_lexer": "ipython3",
   "version": "3.10.3"
  }
 },
 "nbformat": 4,
 "nbformat_minor": 1
}
