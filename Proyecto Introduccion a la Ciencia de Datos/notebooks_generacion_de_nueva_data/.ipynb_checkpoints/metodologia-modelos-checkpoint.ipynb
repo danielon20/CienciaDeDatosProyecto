{
 "cells": [
  {
   "cell_type": "code",
   "execution_count": 1,
   "metadata": {
    "executionInfo": {
     "elapsed": 368,
     "status": "ok",
     "timestamp": 1661617938499,
     "user": {
      "displayName": "Hector Bryan Villegas Barragan",
      "userId": "05189738497377269192"
     },
     "user_tz": 300
    },
    "id": "1ymYg7eb3CfJ"
   },
   "outputs": [],
   "source": [
    "import pandas as pd\n",
    "import numpy as np"
   ]
  },
  {
   "cell_type": "code",
   "execution_count": 2,
   "metadata": {
    "executionInfo": {
     "elapsed": 847,
     "status": "ok",
     "timestamp": 1661617939343,
     "user": {
      "displayName": "Hector Bryan Villegas Barragan",
      "userId": "05189738497377269192"
     },
     "user_tz": 300
    },
    "id": "AAT5PVLvrOZK"
   },
   "outputs": [],
   "source": [
    "import matplotlib.pyplot as plt\n",
    "import seaborn as sns"
   ]
  },
  {
   "cell_type": "code",
   "execution_count": 3,
   "metadata": {
    "executionInfo": {
     "elapsed": 7,
     "status": "ok",
     "timestamp": 1661617939343,
     "user": {
      "displayName": "Hector Bryan Villegas Barragan",
      "userId": "05189738497377269192"
     },
     "user_tz": 300
    },
    "id": "2Kj6BWHVUJOc"
   },
   "outputs": [],
   "source": [
    "sns.set_theme(style='darkgrid')"
   ]
  },
  {
   "cell_type": "code",
   "execution_count": 4,
   "metadata": {
    "executionInfo": {
     "elapsed": 6,
     "status": "ok",
     "timestamp": 1661617939344,
     "user": {
      "displayName": "Hector Bryan Villegas Barragan",
      "userId": "05189738497377269192"
     },
     "user_tz": 300
    },
    "id": "4usMgx2_3N8r"
   },
   "outputs": [],
   "source": [
    "path = '/content/drive/MyDrive/Proyecto Introduccion a la Ciencia de Datos/output'"
   ]
  },
  {
   "cell_type": "code",
   "execution_count": 5,
   "metadata": {
    "executionInfo": {
     "elapsed": 804,
     "status": "ok",
     "timestamp": 1661617940143,
     "user": {
      "displayName": "Hector Bryan Villegas Barragan",
      "userId": "05189738497377269192"
     },
     "user_tz": 300
    },
    "id": "sAwLa15uo7BO"
   },
   "outputs": [],
   "source": [
    "pmc = pd.read_csv(f'{path}/precioxmt2.csv')"
   ]
  },
  {
   "cell_type": "code",
   "execution_count": 6,
   "metadata": {
    "executionInfo": {
     "elapsed": 307,
     "status": "ok",
     "timestamp": 1661617940443,
     "user": {
      "displayName": "Hector Bryan Villegas Barragan",
      "userId": "05189738497377269192"
     },
     "user_tz": 300
    },
    "id": "_ofwkz9n3R4s"
   },
   "outputs": [],
   "source": [
    "df = pd.read_csv(f'{path}/dataset_metodologia.csv')"
   ]
  },
  {
   "cell_type": "code",
   "execution_count": null,
   "metadata": {
    "colab": {
     "base_uri": "https://localhost:8080/",
     "height": 424
    },
    "executionInfo": {
     "elapsed": 28,
     "status": "ok",
     "timestamp": 1661565732086,
     "user": {
      "displayName": "Hector Bryan Villegas Barragan",
      "userId": "05189738497377269192"
     },
     "user_tz": 300
    },
    "id": "Wj46CplypLJm",
    "outputId": "479c5f5e-1263-46e9-b1ce-987d55c7bfbd"
   },
   "outputs": [
    {
     "data": {
      "text/html": [
       "\n",
       "  <div id=\"df-f1c116c9-b914-4c59-aca4-5a8f0d0804c2\">\n",
       "    <div class=\"colab-df-container\">\n",
       "      <div>\n",
       "<style scoped>\n",
       "    .dataframe tbody tr th:only-of-type {\n",
       "        vertical-align: middle;\n",
       "    }\n",
       "\n",
       "    .dataframe tbody tr th {\n",
       "        vertical-align: top;\n",
       "    }\n",
       "\n",
       "    .dataframe thead th {\n",
       "        text-align: right;\n",
       "    }\n",
       "</style>\n",
       "<table border=\"1\" class=\"dataframe\">\n",
       "  <thead>\n",
       "    <tr style=\"text-align: right;\">\n",
       "      <th></th>\n",
       "      <th>sector</th>\n",
       "      <th>pmc</th>\n",
       "    </tr>\n",
       "  </thead>\n",
       "  <tbody>\n",
       "    <tr>\n",
       "      <th>0</th>\n",
       "      <td>Abel Gilbert</td>\n",
       "      <td>341.420856</td>\n",
       "    </tr>\n",
       "    <tr>\n",
       "      <th>1</th>\n",
       "      <td>Acacias</td>\n",
       "      <td>507.023203</td>\n",
       "    </tr>\n",
       "    <tr>\n",
       "      <th>2</th>\n",
       "      <td>Academia Logos</td>\n",
       "      <td>1567.225461</td>\n",
       "    </tr>\n",
       "    <tr>\n",
       "      <th>3</th>\n",
       "      <td>Alborada</td>\n",
       "      <td>819.085921</td>\n",
       "    </tr>\n",
       "    <tr>\n",
       "      <th>4</th>\n",
       "      <td>Argelia</td>\n",
       "      <td>435.426671</td>\n",
       "    </tr>\n",
       "    <tr>\n",
       "      <th>...</th>\n",
       "      <td>...</td>\n",
       "      <td>...</td>\n",
       "    </tr>\n",
       "    <tr>\n",
       "      <th>77</th>\n",
       "      <td>TerraNostra</td>\n",
       "      <td>1773.336387</td>\n",
       "    </tr>\n",
       "    <tr>\n",
       "      <th>78</th>\n",
       "      <td>Turubamba</td>\n",
       "      <td>542.188739</td>\n",
       "    </tr>\n",
       "    <tr>\n",
       "      <th>79</th>\n",
       "      <td>Urbanor</td>\n",
       "      <td>1021.834025</td>\n",
       "    </tr>\n",
       "    <tr>\n",
       "      <th>80</th>\n",
       "      <td>Urdenor</td>\n",
       "      <td>936.585279</td>\n",
       "    </tr>\n",
       "    <tr>\n",
       "      <th>81</th>\n",
       "      <td>Vergeles</td>\n",
       "      <td>735.707143</td>\n",
       "    </tr>\n",
       "  </tbody>\n",
       "</table>\n",
       "<p>82 rows × 2 columns</p>\n",
       "</div>\n",
       "      <button class=\"colab-df-convert\" onclick=\"convertToInteractive('df-f1c116c9-b914-4c59-aca4-5a8f0d0804c2')\"\n",
       "              title=\"Convert this dataframe to an interactive table.\"\n",
       "              style=\"display:none;\">\n",
       "        \n",
       "  <svg xmlns=\"http://www.w3.org/2000/svg\" height=\"24px\"viewBox=\"0 0 24 24\"\n",
       "       width=\"24px\">\n",
       "    <path d=\"M0 0h24v24H0V0z\" fill=\"none\"/>\n",
       "    <path d=\"M18.56 5.44l.94 2.06.94-2.06 2.06-.94-2.06-.94-.94-2.06-.94 2.06-2.06.94zm-11 1L8.5 8.5l.94-2.06 2.06-.94-2.06-.94L8.5 2.5l-.94 2.06-2.06.94zm10 10l.94 2.06.94-2.06 2.06-.94-2.06-.94-.94-2.06-.94 2.06-2.06.94z\"/><path d=\"M17.41 7.96l-1.37-1.37c-.4-.4-.92-.59-1.43-.59-.52 0-1.04.2-1.43.59L10.3 9.45l-7.72 7.72c-.78.78-.78 2.05 0 2.83L4 21.41c.39.39.9.59 1.41.59.51 0 1.02-.2 1.41-.59l7.78-7.78 2.81-2.81c.8-.78.8-2.07 0-2.86zM5.41 20L4 18.59l7.72-7.72 1.47 1.35L5.41 20z\"/>\n",
       "  </svg>\n",
       "      </button>\n",
       "      \n",
       "  <style>\n",
       "    .colab-df-container {\n",
       "      display:flex;\n",
       "      flex-wrap:wrap;\n",
       "      gap: 12px;\n",
       "    }\n",
       "\n",
       "    .colab-df-convert {\n",
       "      background-color: #E8F0FE;\n",
       "      border: none;\n",
       "      border-radius: 50%;\n",
       "      cursor: pointer;\n",
       "      display: none;\n",
       "      fill: #1967D2;\n",
       "      height: 32px;\n",
       "      padding: 0 0 0 0;\n",
       "      width: 32px;\n",
       "    }\n",
       "\n",
       "    .colab-df-convert:hover {\n",
       "      background-color: #E2EBFA;\n",
       "      box-shadow: 0px 1px 2px rgba(60, 64, 67, 0.3), 0px 1px 3px 1px rgba(60, 64, 67, 0.15);\n",
       "      fill: #174EA6;\n",
       "    }\n",
       "\n",
       "    [theme=dark] .colab-df-convert {\n",
       "      background-color: #3B4455;\n",
       "      fill: #D2E3FC;\n",
       "    }\n",
       "\n",
       "    [theme=dark] .colab-df-convert:hover {\n",
       "      background-color: #434B5C;\n",
       "      box-shadow: 0px 1px 3px 1px rgba(0, 0, 0, 0.15);\n",
       "      filter: drop-shadow(0px 1px 2px rgba(0, 0, 0, 0.3));\n",
       "      fill: #FFFFFF;\n",
       "    }\n",
       "  </style>\n",
       "\n",
       "      <script>\n",
       "        const buttonEl =\n",
       "          document.querySelector('#df-f1c116c9-b914-4c59-aca4-5a8f0d0804c2 button.colab-df-convert');\n",
       "        buttonEl.style.display =\n",
       "          google.colab.kernel.accessAllowed ? 'block' : 'none';\n",
       "\n",
       "        async function convertToInteractive(key) {\n",
       "          const element = document.querySelector('#df-f1c116c9-b914-4c59-aca4-5a8f0d0804c2');\n",
       "          const dataTable =\n",
       "            await google.colab.kernel.invokeFunction('convertToInteractive',\n",
       "                                                     [key], {});\n",
       "          if (!dataTable) return;\n",
       "\n",
       "          const docLinkHtml = 'Like what you see? Visit the ' +\n",
       "            '<a target=\"_blank\" href=https://colab.research.google.com/notebooks/data_table.ipynb>data table notebook</a>'\n",
       "            + ' to learn more about interactive tables.';\n",
       "          element.innerHTML = '';\n",
       "          dataTable['output_type'] = 'display_data';\n",
       "          await google.colab.output.renderOutput(dataTable, element);\n",
       "          const docLink = document.createElement('div');\n",
       "          docLink.innerHTML = docLinkHtml;\n",
       "          element.appendChild(docLink);\n",
       "        }\n",
       "      </script>\n",
       "    </div>\n",
       "  </div>\n",
       "  "
      ],
      "text/plain": [
       "            sector          pmc\n",
       "0     Abel Gilbert   341.420856\n",
       "1          Acacias   507.023203\n",
       "2   Academia Logos  1567.225461\n",
       "3         Alborada   819.085921\n",
       "4          Argelia   435.426671\n",
       "..             ...          ...\n",
       "77     TerraNostra  1773.336387\n",
       "78       Turubamba   542.188739\n",
       "79         Urbanor  1021.834025\n",
       "80         Urdenor   936.585279\n",
       "81        Vergeles   735.707143\n",
       "\n",
       "[82 rows x 2 columns]"
      ]
     },
     "execution_count": 7,
     "metadata": {},
     "output_type": "execute_result"
    }
   ],
   "source": [
    "pmc"
   ]
  },
  {
   "cell_type": "code",
   "execution_count": 7,
   "metadata": {
    "executionInfo": {
     "elapsed": 7,
     "status": "ok",
     "timestamp": 1661617940444,
     "user": {
      "displayName": "Hector Bryan Villegas Barragan",
      "userId": "05189738497377269192"
     },
     "user_tz": 300
    },
    "id": "Ns05dSVrrtnC"
   },
   "outputs": [],
   "source": [
    "df.drop(columns='pmc', inplace=True)"
   ]
  },
  {
   "cell_type": "code",
   "execution_count": 8,
   "metadata": {
    "executionInfo": {
     "elapsed": 6,
     "status": "ok",
     "timestamp": 1661617940444,
     "user": {
      "displayName": "Hector Bryan Villegas Barragan",
      "userId": "05189738497377269192"
     },
     "user_tz": 300
    },
    "id": "wWh9Zn9IqyGb"
   },
   "outputs": [],
   "source": [
    "df = df.merge(pmc)"
   ]
  },
  {
   "cell_type": "code",
   "execution_count": null,
   "metadata": {
    "id": "6aITdfC5rbMT"
   },
   "outputs": [],
   "source": [
    "_=\"\"\"fig, ax = plt.subplots(2,2, figsize=(15, 10))\n",
    "_ = sns.scatterplot(data=df, x='pmc', y='ingpc_mean', ax=ax[0,0])\n",
    "_ = ax[0,0].set_title('precio x metro cuadrado vs ingreso per cápita')\n",
    "\n",
    "_ = sns.scatterplot(data=df, x='ccmc', y='ingpc_mean', ax=ax[0,1])\n",
    "_ = ax[0,1].set_title('centro comerciales x metro cuadrado vs ingreso per cápita')\n",
    "\n",
    "_ = sns.scatterplot(data=df, x='ap', y='ingpc_mean', ax=ax[1,0])\n",
    "_ = ax[1,0].set_title('alquiler promedio vs ingreso per cápita')\n",
    "\n",
    "_ = sns.scatterplot(data=df, x='dsc', y='ingpc_mean', ax=ax[1, 1])\n",
    "_ = ax[1,1].set_title('distancia del sector al centro vs ingreso per cápita')\"\"\""
   ]
  },
  {
   "cell_type": "code",
   "execution_count": null,
   "metadata": {
    "colab": {
     "base_uri": "https://localhost:8080/",
     "height": 376
    },
    "executionInfo": {
     "elapsed": 806,
     "status": "ok",
     "timestamp": 1661567318873,
     "user": {
      "displayName": "Hector Bryan Villegas Barragan",
      "userId": "05189738497377269192"
     },
     "user_tz": 300
    },
    "id": "OHvJUhEwErXa",
    "outputId": "d8a02d6b-5de2-48d3-c335-da9933190c16"
   },
   "outputs": [
    {
     "data": {
      "image/png": "[encoded data removed]",
      "text/plain": [
       "<Figure size 576x360 with 1 Axes>"
      ]
     },
     "metadata": {},
     "output_type": "display_data"
    }
   ],
   "source": [
    "fig, ax = plt.subplots(figsize=(8, 5))\n",
    "_ = sns.scatterplot(data=df, x='pmc', y='ingpc_mean', ax=ax)\n",
    "_ = ax.set_xlabel('Precio por metro cuadrado', fontsize = 14)\n",
    "_ = ax.set_ylabel('Ingreso per cápita', fontsize = 14)\n",
    "_ = fig.suptitle('Relación entre precio por metro cuadrado e ingreso per cápita', fontsize = 15)"
   ]
  },
  {
   "cell_type": "code",
   "execution_count": null,
   "metadata": {
    "colab": {
     "base_uri": "https://localhost:8080/",
     "height": 112
    },
    "executionInfo": {
     "elapsed": 305,
     "status": "ok",
     "timestamp": 1661567266965,
     "user": {
      "displayName": "Hector Bryan Villegas Barragan",
      "userId": "05189738497377269192"
     },
     "user_tz": 300
    },
    "id": "PuA9nJO0BX7-",
    "outputId": "2e7ee8d0-6d12-4a3f-d384-4c04ec6136b3"
   },
   "outputs": [
    {
     "data": {
      "text/html": [
       "\n",
       "  <div id=\"df-f64d9a4d-63e9-43dc-8b10-5d62bf748576\">\n",
       "    <div class=\"colab-df-container\">\n",
       "      <div>\n",
       "<style scoped>\n",
       "    .dataframe tbody tr th:only-of-type {\n",
       "        vertical-align: middle;\n",
       "    }\n",
       "\n",
       "    .dataframe tbody tr th {\n",
       "        vertical-align: top;\n",
       "    }\n",
       "\n",
       "    .dataframe thead th {\n",
       "        text-align: right;\n",
       "    }\n",
       "</style>\n",
       "<table border=\"1\" class=\"dataframe\">\n",
       "  <thead>\n",
       "    <tr style=\"text-align: right;\">\n",
       "      <th></th>\n",
       "      <th>pmc</th>\n",
       "      <th>ingpc_mean</th>\n",
       "    </tr>\n",
       "  </thead>\n",
       "  <tbody>\n",
       "    <tr>\n",
       "      <th>pmc</th>\n",
       "      <td>1.00000</td>\n",
       "      <td>0.62983</td>\n",
       "    </tr>\n",
       "    <tr>\n",
       "      <th>ingpc_mean</th>\n",
       "      <td>0.62983</td>\n",
       "      <td>1.00000</td>\n",
       "    </tr>\n",
       "  </tbody>\n",
       "</table>\n",
       "</div>\n",
       "      <button class=\"colab-df-convert\" onclick=\"convertToInteractive('df-f64d9a4d-63e9-43dc-8b10-5d62bf748576')\"\n",
       "              title=\"Convert this dataframe to an interactive table.\"\n",
       "              style=\"display:none;\">\n",
       "        \n",
       "  <svg xmlns=\"http://www.w3.org/2000/svg\" height=\"24px\"viewBox=\"0 0 24 24\"\n",
       "       width=\"24px\">\n",
       "    <path d=\"M0 0h24v24H0V0z\" fill=\"none\"/>\n",
       "    <path d=\"M18.56 5.44l.94 2.06.94-2.06 2.06-.94-2.06-.94-.94-2.06-.94 2.06-2.06.94zm-11 1L8.5 8.5l.94-2.06 2.06-.94-2.06-.94L8.5 2.5l-.94 2.06-2.06.94zm10 10l.94 2.06.94-2.06 2.06-.94-2.06-.94-.94-2.06-.94 2.06-2.06.94z\"/><path d=\"M17.41 7.96l-1.37-1.37c-.4-.4-.92-.59-1.43-.59-.52 0-1.04.2-1.43.59L10.3 9.45l-7.72 7.72c-.78.78-.78 2.05 0 2.83L4 21.41c.39.39.9.59 1.41.59.51 0 1.02-.2 1.41-.59l7.78-7.78 2.81-2.81c.8-.78.8-2.07 0-2.86zM5.41 20L4 18.59l7.72-7.72 1.47 1.35L5.41 20z\"/>\n",
       "  </svg>\n",
       "      </button>\n",
       "      \n",
       "  <style>\n",
       "    .colab-df-container {\n",
       "      display:flex;\n",
       "      flex-wrap:wrap;\n",
       "      gap: 12px;\n",
       "    }\n",
       "\n",
       "    .colab-df-convert {\n",
       "      background-color: #E8F0FE;\n",
       "      border: none;\n",
       "      border-radius: 50%;\n",
       "      cursor: pointer;\n",
       "      display: none;\n",
       "      fill: #1967D2;\n",
       "      height: 32px;\n",
       "      padding: 0 0 0 0;\n",
       "      width: 32px;\n",
       "    }\n",
       "\n",
       "    .colab-df-convert:hover {\n",
       "      background-color: #E2EBFA;\n",
       "      box-shadow: 0px 1px 2px rgba(60, 64, 67, 0.3), 0px 1px 3px 1px rgba(60, 64, 67, 0.15);\n",
       "      fill: #174EA6;\n",
       "    }\n",
       "\n",
       "    [theme=dark] .colab-df-convert {\n",
       "      background-color: #3B4455;\n",
       "      fill: #D2E3FC;\n",
       "    }\n",
       "\n",
       "    [theme=dark] .colab-df-convert:hover {\n",
       "      background-color: #434B5C;\n",
       "      box-shadow: 0px 1px 3px 1px rgba(0, 0, 0, 0.15);\n",
       "      filter: drop-shadow(0px 1px 2px rgba(0, 0, 0, 0.3));\n",
       "      fill: #FFFFFF;\n",
       "    }\n",
       "  </style>\n",
       "\n",
       "      <script>\n",
       "        const buttonEl =\n",
       "          document.querySelector('#df-f64d9a4d-63e9-43dc-8b10-5d62bf748576 button.colab-df-convert');\n",
       "        buttonEl.style.display =\n",
       "          google.colab.kernel.accessAllowed ? 'block' : 'none';\n",
       "\n",
       "        async function convertToInteractive(key) {\n",
       "          const element = document.querySelector('#df-f64d9a4d-63e9-43dc-8b10-5d62bf748576');\n",
       "          const dataTable =\n",
       "            await google.colab.kernel.invokeFunction('convertToInteractive',\n",
       "                                                     [key], {});\n",
       "          if (!dataTable) return;\n",
       "\n",
       "          const docLinkHtml = 'Like what you see? Visit the ' +\n",
       "            '<a target=\"_blank\" href=https://colab.research.google.com/notebooks/data_table.ipynb>data table notebook</a>'\n",
       "            + ' to learn more about interactive tables.';\n",
       "          element.innerHTML = '';\n",
       "          dataTable['output_type'] = 'display_data';\n",
       "          await google.colab.output.renderOutput(dataTable, element);\n",
       "          const docLink = document.createElement('div');\n",
       "          docLink.innerHTML = docLinkHtml;\n",
       "          element.appendChild(docLink);\n",
       "        }\n",
       "      </script>\n",
       "    </div>\n",
       "  </div>\n",
       "  "
      ],
      "text/plain": [
       "                pmc  ingpc_mean\n",
       "pmc         1.00000     0.62983\n",
       "ingpc_mean  0.62983     1.00000"
      ]
     },
     "execution_count": 18,
     "metadata": {},
     "output_type": "execute_result"
    }
   ],
   "source": [
    "df[['pmc', 'ingpc_mean']].corr()"
   ]
  },
  {
   "cell_type": "code",
   "execution_count": null,
   "metadata": {
    "colab": {
     "base_uri": "https://localhost:8080/",
     "height": 376
    },
    "executionInfo": {
     "elapsed": 757,
     "status": "ok",
     "timestamp": 1661567303428,
     "user": {
      "displayName": "Hector Bryan Villegas Barragan",
      "userId": "05189738497377269192"
     },
     "user_tz": 300
    },
    "id": "yl4BFKBZspQk",
    "outputId": "504868ad-037a-4d1b-b0bc-596799a6eae1"
   },
   "outputs": [
    {
     "data": {
      "image/png": "[encoded data removed]",
      "text/plain": [
       "<Figure size 576x360 with 1 Axes>"
      ]
     },
     "metadata": {},
     "output_type": "display_data"
    }
   ],
   "source": [
    "fig, ax = plt.subplots(figsize=(8, 5))\n",
    "_ = sns.scatterplot(data=df, x='ccmc', y='ingpc_mean', ax=ax)\n",
    "_ = ax.set_xlabel('Centros comerciales por metro cuadrado', fontsize = 14)\n",
    "_ = ax.set_ylabel('Ingreso per cápita', fontsize = 14)\n",
    "_ = fig.suptitle('Relación entre centros comerciales por metro cuadrado e ingreso per cápita', fontsize = 15)"
   ]
  },
  {
   "cell_type": "code",
   "execution_count": null,
   "metadata": {
    "colab": {
     "base_uri": "https://localhost:8080/",
     "height": 112
    },
    "executionInfo": {
     "elapsed": 316,
     "status": "ok",
     "timestamp": 1661567700376,
     "user": {
      "displayName": "Hector Bryan Villegas Barragan",
      "userId": "05189738497377269192"
     },
     "user_tz": 300
    },
    "id": "gAjj-lJDBqKi",
    "outputId": "75b20734-f6c1-434f-af3f-7451cd5c49b1"
   },
   "outputs": [
    {
     "data": {
      "text/html": [
       "\n",
       "  <div id=\"df-3b173e9f-6445-428b-87de-c9e901c8beb7\">\n",
       "    <div class=\"colab-df-container\">\n",
       "      <div>\n",
       "<style scoped>\n",
       "    .dataframe tbody tr th:only-of-type {\n",
       "        vertical-align: middle;\n",
       "    }\n",
       "\n",
       "    .dataframe tbody tr th {\n",
       "        vertical-align: top;\n",
       "    }\n",
       "\n",
       "    .dataframe thead th {\n",
       "        text-align: right;\n",
       "    }\n",
       "</style>\n",
       "<table border=\"1\" class=\"dataframe\">\n",
       "  <thead>\n",
       "    <tr style=\"text-align: right;\">\n",
       "      <th></th>\n",
       "      <th>ccmc</th>\n",
       "      <th>ingpc_mean</th>\n",
       "    </tr>\n",
       "  </thead>\n",
       "  <tbody>\n",
       "    <tr>\n",
       "      <th>ccmc</th>\n",
       "      <td>1.000000</td>\n",
       "      <td>0.425744</td>\n",
       "    </tr>\n",
       "    <tr>\n",
       "      <th>ingpc_mean</th>\n",
       "      <td>0.425744</td>\n",
       "      <td>1.000000</td>\n",
       "    </tr>\n",
       "  </tbody>\n",
       "</table>\n",
       "</div>\n",
       "      <button class=\"colab-df-convert\" onclick=\"convertToInteractive('df-3b173e9f-6445-428b-87de-c9e901c8beb7')\"\n",
       "              title=\"Convert this dataframe to an interactive table.\"\n",
       "              style=\"display:none;\">\n",
       "        \n",
       "  <svg xmlns=\"http://www.w3.org/2000/svg\" height=\"24px\"viewBox=\"0 0 24 24\"\n",
       "       width=\"24px\">\n",
       "    <path d=\"M0 0h24v24H0V0z\" fill=\"none\"/>\n",
       "    <path d=\"M18.56 5.44l.94 2.06.94-2.06 2.06-.94-2.06-.94-.94-2.06-.94 2.06-2.06.94zm-11 1L8.5 8.5l.94-2.06 2.06-.94-2.06-.94L8.5 2.5l-.94 2.06-2.06.94zm10 10l.94 2.06.94-2.06 2.06-.94-2.06-.94-.94-2.06-.94 2.06-2.06.94z\"/><path d=\"M17.41 7.96l-1.37-1.37c-.4-.4-.92-.59-1.43-.59-.52 0-1.04.2-1.43.59L10.3 9.45l-7.72 7.72c-.78.78-.78 2.05 0 2.83L4 21.41c.39.39.9.59 1.41.59.51 0 1.02-.2 1.41-.59l7.78-7.78 2.81-2.81c.8-.78.8-2.07 0-2.86zM5.41 20L4 18.59l7.72-7.72 1.47 1.35L5.41 20z\"/>\n",
       "  </svg>\n",
       "      </button>\n",
       "      \n",
       "  <style>\n",
       "    .colab-df-container {\n",
       "      display:flex;\n",
       "      flex-wrap:wrap;\n",
       "      gap: 12px;\n",
       "    }\n",
       "\n",
       "    .colab-df-convert {\n",
       "      background-color: #E8F0FE;\n",
       "      border: none;\n",
       "      border-radius: 50%;\n",
       "      cursor: pointer;\n",
       "      display: none;\n",
       "      fill: #1967D2;\n",
       "      height: 32px;\n",
       "      padding: 0 0 0 0;\n",
       "      width: 32px;\n",
       "    }\n",
       "\n",
       "    .colab-df-convert:hover {\n",
       "      background-color: #E2EBFA;\n",
       "      box-shadow: 0px 1px 2px rgba(60, 64, 67, 0.3), 0px 1px 3px 1px rgba(60, 64, 67, 0.15);\n",
       "      fill: #174EA6;\n",
       "    }\n",
       "\n",
       "    [theme=dark] .colab-df-convert {\n",
       "      background-color: #3B4455;\n",
       "      fill: #D2E3FC;\n",
       "    }\n",
       "\n",
       "    [theme=dark] .colab-df-convert:hover {\n",
       "      background-color: #434B5C;\n",
       "      box-shadow: 0px 1px 3px 1px rgba(0, 0, 0, 0.15);\n",
       "      filter: drop-shadow(0px 1px 2px rgba(0, 0, 0, 0.3));\n",
       "      fill: #FFFFFF;\n",
       "    }\n",
       "  </style>\n",
       "\n",
       "      <script>\n",
       "        const buttonEl =\n",
       "          document.querySelector('#df-3b173e9f-6445-428b-87de-c9e901c8beb7 button.colab-df-convert');\n",
       "        buttonEl.style.display =\n",
       "          google.colab.kernel.accessAllowed ? 'block' : 'none';\n",
       "\n",
       "        async function convertToInteractive(key) {\n",
       "          const element = document.querySelector('#df-3b173e9f-6445-428b-87de-c9e901c8beb7');\n",
       "          const dataTable =\n",
       "            await google.colab.kernel.invokeFunction('convertToInteractive',\n",
       "                                                     [key], {});\n",
       "          if (!dataTable) return;\n",
       "\n",
       "          const docLinkHtml = 'Like what you see? Visit the ' +\n",
       "            '<a target=\"_blank\" href=https://colab.research.google.com/notebooks/data_table.ipynb>data table notebook</a>'\n",
       "            + ' to learn more about interactive tables.';\n",
       "          element.innerHTML = '';\n",
       "          dataTable['output_type'] = 'display_data';\n",
       "          await google.colab.output.renderOutput(dataTable, element);\n",
       "          const docLink = document.createElement('div');\n",
       "          docLink.innerHTML = docLinkHtml;\n",
       "          element.appendChild(docLink);\n",
       "        }\n",
       "      </script>\n",
       "    </div>\n",
       "  </div>\n",
       "  "
      ],
      "text/plain": [
       "                ccmc  ingpc_mean\n",
       "ccmc        1.000000    0.425744\n",
       "ingpc_mean  0.425744    1.000000"
      ]
     },
     "execution_count": 21,
     "metadata": {},
     "output_type": "execute_result"
    }
   ],
   "source": [
    "df[['ccmc', 'ingpc_mean']].corr()"
   ]
  },
  {
   "cell_type": "code",
   "execution_count": null,
   "metadata": {
    "colab": {
     "base_uri": "https://localhost:8080/",
     "height": 334
    },
    "executionInfo": {
     "elapsed": 614,
     "status": "ok",
     "timestamp": 1659831668575,
     "user": {
      "displayName": "Hector Bryan Villegas Barragan",
      "userId": "05189738497377269192"
     },
     "user_tz": 300
    },
    "id": "Cf4z5aL8suDV",
    "outputId": "c8fca31b-2483-4dac-e699-22981b7a2bf3"
   },
   "outputs": [
    {
     "data": {
      "image/png": "[encoded data removed]",
      "text/plain": [
       "<Figure size 576x360 with 1 Axes>"
      ]
     },
     "metadata": {
      "needs_background": "light"
     },
     "output_type": "display_data"
    }
   ],
   "source": [
    "fig, ax = plt.subplots(figsize=(8, 5))\n",
    "_ = sns.scatterplot(data=df, x='ap', y='ingpc_mean', ax=ax)"
   ]
  },
  {
   "cell_type": "code",
   "execution_count": null,
   "metadata": {
    "colab": {
     "base_uri": "https://localhost:8080/",
     "height": 112
    },
    "executionInfo": {
     "elapsed": 302,
     "status": "ok",
     "timestamp": 1659831675510,
     "user": {
      "displayName": "Hector Bryan Villegas Barragan",
      "userId": "05189738497377269192"
     },
     "user_tz": 300
    },
    "id": "KQaB-px3BxB6",
    "outputId": "f87785cf-0170-4b67-bc3b-05450a82e760"
   },
   "outputs": [
    {
     "data": {
      "text/html": [
       "\n",
       "  <div id=\"df-88864028-a3f2-4eb8-be10-352e5a6a1ae1\">\n",
       "    <div class=\"colab-df-container\">\n",
       "      <div>\n",
       "<style scoped>\n",
       "    .dataframe tbody tr th:only-of-type {\n",
       "        vertical-align: middle;\n",
       "    }\n",
       "\n",
       "    .dataframe tbody tr th {\n",
       "        vertical-align: top;\n",
       "    }\n",
       "\n",
       "    .dataframe thead th {\n",
       "        text-align: right;\n",
       "    }\n",
       "</style>\n",
       "<table border=\"1\" class=\"dataframe\">\n",
       "  <thead>\n",
       "    <tr style=\"text-align: right;\">\n",
       "      <th></th>\n",
       "      <th>ap</th>\n",
       "      <th>ingpc_mean</th>\n",
       "    </tr>\n",
       "  </thead>\n",
       "  <tbody>\n",
       "    <tr>\n",
       "      <th>ap</th>\n",
       "      <td>1.000000</td>\n",
       "      <td>-0.129486</td>\n",
       "    </tr>\n",
       "    <tr>\n",
       "      <th>ingpc_mean</th>\n",
       "      <td>-0.129486</td>\n",
       "      <td>1.000000</td>\n",
       "    </tr>\n",
       "  </tbody>\n",
       "</table>\n",
       "</div>\n",
       "      <button class=\"colab-df-convert\" onclick=\"convertToInteractive('df-88864028-a3f2-4eb8-be10-352e5a6a1ae1')\"\n",
       "              title=\"Convert this dataframe to an interactive table.\"\n",
       "              style=\"display:none;\">\n",
       "        \n",
       "  <svg xmlns=\"http://www.w3.org/2000/svg\" height=\"24px\"viewBox=\"0 0 24 24\"\n",
       "       width=\"24px\">\n",
       "    <path d=\"M0 0h24v24H0V0z\" fill=\"none\"/>\n",
       "    <path d=\"M18.56 5.44l.94 2.06.94-2.06 2.06-.94-2.06-.94-.94-2.06-.94 2.06-2.06.94zm-11 1L8.5 8.5l.94-2.06 2.06-.94-2.06-.94L8.5 2.5l-.94 2.06-2.06.94zm10 10l.94 2.06.94-2.06 2.06-.94-2.06-.94-.94-2.06-.94 2.06-2.06.94z\"/><path d=\"M17.41 7.96l-1.37-1.37c-.4-.4-.92-.59-1.43-.59-.52 0-1.04.2-1.43.59L10.3 9.45l-7.72 7.72c-.78.78-.78 2.05 0 2.83L4 21.41c.39.39.9.59 1.41.59.51 0 1.02-.2 1.41-.59l7.78-7.78 2.81-2.81c.8-.78.8-2.07 0-2.86zM5.41 20L4 18.59l7.72-7.72 1.47 1.35L5.41 20z\"/>\n",
       "  </svg>\n",
       "      </button>\n",
       "      \n",
       "  <style>\n",
       "    .colab-df-container {\n",
       "      display:flex;\n",
       "      flex-wrap:wrap;\n",
       "      gap: 12px;\n",
       "    }\n",
       "\n",
       "    .colab-df-convert {\n",
       "      background-color: #E8F0FE;\n",
       "      border: none;\n",
       "      border-radius: 50%;\n",
       "      cursor: pointer;\n",
       "      display: none;\n",
       "      fill: #1967D2;\n",
       "      height: 32px;\n",
       "      padding: 0 0 0 0;\n",
       "      width: 32px;\n",
       "    }\n",
       "\n",
       "    .colab-df-convert:hover {\n",
       "      background-color: #E2EBFA;\n",
       "      box-shadow: 0px 1px 2px rgba(60, 64, 67, 0.3), 0px 1px 3px 1px rgba(60, 64, 67, 0.15);\n",
       "      fill: #174EA6;\n",
       "    }\n",
       "\n",
       "    [theme=dark] .colab-df-convert {\n",
       "      background-color: #3B4455;\n",
       "      fill: #D2E3FC;\n",
       "    }\n",
       "\n",
       "    [theme=dark] .colab-df-convert:hover {\n",
       "      background-color: #434B5C;\n",
       "      box-shadow: 0px 1px 3px 1px rgba(0, 0, 0, 0.15);\n",
       "      filter: drop-shadow(0px 1px 2px rgba(0, 0, 0, 0.3));\n",
       "      fill: #FFFFFF;\n",
       "    }\n",
       "  </style>\n",
       "\n",
       "      <script>\n",
       "        const buttonEl =\n",
       "          document.querySelector('#df-88864028-a3f2-4eb8-be10-352e5a6a1ae1 button.colab-df-convert');\n",
       "        buttonEl.style.display =\n",
       "          google.colab.kernel.accessAllowed ? 'block' : 'none';\n",
       "\n",
       "        async function convertToInteractive(key) {\n",
       "          const element = document.querySelector('#df-88864028-a3f2-4eb8-be10-352e5a6a1ae1');\n",
       "          const dataTable =\n",
       "            await google.colab.kernel.invokeFunction('convertToInteractive',\n",
       "                                                     [key], {});\n",
       "          if (!dataTable) return;\n",
       "\n",
       "          const docLinkHtml = 'Like what you see? Visit the ' +\n",
       "            '<a target=\"_blank\" href=https://colab.research.google.com/notebooks/data_table.ipynb>data table notebook</a>'\n",
       "            + ' to learn more about interactive tables.';\n",
       "          element.innerHTML = '';\n",
       "          dataTable['output_type'] = 'display_data';\n",
       "          await google.colab.output.renderOutput(dataTable, element);\n",
       "          const docLink = document.createElement('div');\n",
       "          docLink.innerHTML = docLinkHtml;\n",
       "          element.appendChild(docLink);\n",
       "        }\n",
       "      </script>\n",
       "    </div>\n",
       "  </div>\n",
       "  "
      ],
      "text/plain": [
       "                  ap  ingpc_mean\n",
       "ap          1.000000   -0.129486\n",
       "ingpc_mean -0.129486    1.000000"
      ]
     },
     "execution_count": 19,
     "metadata": {},
     "output_type": "execute_result"
    }
   ],
   "source": [
    "df[['ap', 'ingpc_mean']].corr()"
   ]
  },
  {
   "cell_type": "code",
   "execution_count": null,
   "metadata": {
    "colab": {
     "base_uri": "https://localhost:8080/",
     "height": 334
    },
    "executionInfo": {
     "elapsed": 537,
     "status": "ok",
     "timestamp": 1659831690493,
     "user": {
      "displayName": "Hector Bryan Villegas Barragan",
      "userId": "05189738497377269192"
     },
     "user_tz": 300
    },
    "id": "U-QOzMqys8AN",
    "outputId": "660f2e29-b78b-4bba-924b-846d468ce400"
   },
   "outputs": [
    {
     "data": {
      "image/png": "[encoded data removed]",
      "text/plain": [
       "<Figure size 576x360 with 1 Axes>"
      ]
     },
     "metadata": {
      "needs_background": "light"
     },
     "output_type": "display_data"
    }
   ],
   "source": [
    "fig, ax = plt.subplots(figsize=(8, 5))\n",
    "_ = sns.scatterplot(data=df, x='dsc', y='ingpc_mean', ax=ax)"
   ]
  },
  {
   "cell_type": "code",
   "execution_count": null,
   "metadata": {
    "colab": {
     "base_uri": "https://localhost:8080/",
     "height": 112
    },
    "executionInfo": {
     "elapsed": 216,
     "status": "ok",
     "timestamp": 1659831716900,
     "user": {
      "displayName": "Hector Bryan Villegas Barragan",
      "userId": "05189738497377269192"
     },
     "user_tz": 300
    },
    "id": "rjJdlhJZB4YR",
    "outputId": "0f03c6fe-e344-43b8-ac8f-6d0ebcb5c605"
   },
   "outputs": [
    {
     "data": {
      "text/html": [
       "\n",
       "  <div id=\"df-aac3785d-ef9b-432a-977b-d47eef188b82\">\n",
       "    <div class=\"colab-df-container\">\n",
       "      <div>\n",
       "<style scoped>\n",
       "    .dataframe tbody tr th:only-of-type {\n",
       "        vertical-align: middle;\n",
       "    }\n",
       "\n",
       "    .dataframe tbody tr th {\n",
       "        vertical-align: top;\n",
       "    }\n",
       "\n",
       "    .dataframe thead th {\n",
       "        text-align: right;\n",
       "    }\n",
       "</style>\n",
       "<table border=\"1\" class=\"dataframe\">\n",
       "  <thead>\n",
       "    <tr style=\"text-align: right;\">\n",
       "      <th></th>\n",
       "      <th>dsc</th>\n",
       "      <th>ingpc_mean</th>\n",
       "    </tr>\n",
       "  </thead>\n",
       "  <tbody>\n",
       "    <tr>\n",
       "      <th>dsc</th>\n",
       "      <td>1.000000</td>\n",
       "      <td>-0.025966</td>\n",
       "    </tr>\n",
       "    <tr>\n",
       "      <th>ingpc_mean</th>\n",
       "      <td>-0.025966</td>\n",
       "      <td>1.000000</td>\n",
       "    </tr>\n",
       "  </tbody>\n",
       "</table>\n",
       "</div>\n",
       "      <button class=\"colab-df-convert\" onclick=\"convertToInteractive('df-aac3785d-ef9b-432a-977b-d47eef188b82')\"\n",
       "              title=\"Convert this dataframe to an interactive table.\"\n",
       "              style=\"display:none;\">\n",
       "        \n",
       "  <svg xmlns=\"http://www.w3.org/2000/svg\" height=\"24px\"viewBox=\"0 0 24 24\"\n",
       "       width=\"24px\">\n",
       "    <path d=\"M0 0h24v24H0V0z\" fill=\"none\"/>\n",
       "    <path d=\"M18.56 5.44l.94 2.06.94-2.06 2.06-.94-2.06-.94-.94-2.06-.94 2.06-2.06.94zm-11 1L8.5 8.5l.94-2.06 2.06-.94-2.06-.94L8.5 2.5l-.94 2.06-2.06.94zm10 10l.94 2.06.94-2.06 2.06-.94-2.06-.94-.94-2.06-.94 2.06-2.06.94z\"/><path d=\"M17.41 7.96l-1.37-1.37c-.4-.4-.92-.59-1.43-.59-.52 0-1.04.2-1.43.59L10.3 9.45l-7.72 7.72c-.78.78-.78 2.05 0 2.83L4 21.41c.39.39.9.59 1.41.59.51 0 1.02-.2 1.41-.59l7.78-7.78 2.81-2.81c.8-.78.8-2.07 0-2.86zM5.41 20L4 18.59l7.72-7.72 1.47 1.35L5.41 20z\"/>\n",
       "  </svg>\n",
       "      </button>\n",
       "      \n",
       "  <style>\n",
       "    .colab-df-container {\n",
       "      display:flex;\n",
       "      flex-wrap:wrap;\n",
       "      gap: 12px;\n",
       "    }\n",
       "\n",
       "    .colab-df-convert {\n",
       "      background-color: #E8F0FE;\n",
       "      border: none;\n",
       "      border-radius: 50%;\n",
       "      cursor: pointer;\n",
       "      display: none;\n",
       "      fill: #1967D2;\n",
       "      height: 32px;\n",
       "      padding: 0 0 0 0;\n",
       "      width: 32px;\n",
       "    }\n",
       "\n",
       "    .colab-df-convert:hover {\n",
       "      background-color: #E2EBFA;\n",
       "      box-shadow: 0px 1px 2px rgba(60, 64, 67, 0.3), 0px 1px 3px 1px rgba(60, 64, 67, 0.15);\n",
       "      fill: #174EA6;\n",
       "    }\n",
       "\n",
       "    [theme=dark] .colab-df-convert {\n",
       "      background-color: #3B4455;\n",
       "      fill: #D2E3FC;\n",
       "    }\n",
       "\n",
       "    [theme=dark] .colab-df-convert:hover {\n",
       "      background-color: #434B5C;\n",
       "      box-shadow: 0px 1px 3px 1px rgba(0, 0, 0, 0.15);\n",
       "      filter: drop-shadow(0px 1px 2px rgba(0, 0, 0, 0.3));\n",
       "      fill: #FFFFFF;\n",
       "    }\n",
       "  </style>\n",
       "\n",
       "      <script>\n",
       "        const buttonEl =\n",
       "          document.querySelector('#df-aac3785d-ef9b-432a-977b-d47eef188b82 button.colab-df-convert');\n",
       "        buttonEl.style.display =\n",
       "          google.colab.kernel.accessAllowed ? 'block' : 'none';\n",
       "\n",
       "        async function convertToInteractive(key) {\n",
       "          const element = document.querySelector('#df-aac3785d-ef9b-432a-977b-d47eef188b82');\n",
       "          const dataTable =\n",
       "            await google.colab.kernel.invokeFunction('convertToInteractive',\n",
       "                                                     [key], {});\n",
       "          if (!dataTable) return;\n",
       "\n",
       "          const docLinkHtml = 'Like what you see? Visit the ' +\n",
       "            '<a target=\"_blank\" href=https://colab.research.google.com/notebooks/data_table.ipynb>data table notebook</a>'\n",
       "            + ' to learn more about interactive tables.';\n",
       "          element.innerHTML = '';\n",
       "          dataTable['output_type'] = 'display_data';\n",
       "          await google.colab.output.renderOutput(dataTable, element);\n",
       "          const docLink = document.createElement('div');\n",
       "          docLink.innerHTML = docLinkHtml;\n",
       "          element.appendChild(docLink);\n",
       "        }\n",
       "      </script>\n",
       "    </div>\n",
       "  </div>\n",
       "  "
      ],
      "text/plain": [
       "                 dsc  ingpc_mean\n",
       "dsc         1.000000   -0.025966\n",
       "ingpc_mean -0.025966    1.000000"
      ]
     },
     "execution_count": 21,
     "metadata": {},
     "output_type": "execute_result"
    }
   ],
   "source": [
    "df[['dsc', 'ingpc_mean']].corr()"
   ]
  },
  {
   "cell_type": "code",
   "execution_count": null,
   "metadata": {
    "colab": {
     "base_uri": "https://localhost:8080/",
     "height": 376
    },
    "executionInfo": {
     "elapsed": 1223,
     "status": "ok",
     "timestamp": 1661567950121,
     "user": {
      "displayName": "Hector Bryan Villegas Barragan",
      "userId": "05189738497377269192"
     },
     "user_tz": 300
    },
    "id": "quYWfJj65SoH",
    "outputId": "ac0a9225-0359-41ad-c004-ecb7dbc80c7a"
   },
   "outputs": [
    {
     "data": {
      "image/png": "[encoded data removed]",
      "text/plain": [
       "<Figure size 576x360 with 1 Axes>"
      ]
     },
     "metadata": {},
     "output_type": "display_data"
    }
   ],
   "source": [
    "fig, ax = plt.subplots(figsize=(8, 5))\n",
    "_ = sns.scatterplot(data=df, x='bps', y='ingpc_mean', ax=ax)\n",
    "_ = ax.set_xlabel('Baños promedio por sector', fontsize = 14)\n",
    "_ = ax.set_ylabel('Ingreso per cápita', fontsize = 14)\n",
    "_ = fig.suptitle('Relación entre baños promedio por sector e ingreso per cápita', fontsize = 15)"
   ]
  },
  {
   "cell_type": "code",
   "execution_count": null,
   "metadata": {
    "colab": {
     "base_uri": "https://localhost:8080/",
     "height": 112
    },
    "executionInfo": {
     "elapsed": 227,
     "status": "ok",
     "timestamp": 1658545648651,
     "user": {
      "displayName": "Hector Bryan Villegas Barragan",
      "userId": "05189738497377269192"
     },
     "user_tz": 300
    },
    "id": "PkoHVUuu5Z3W",
    "outputId": "72225026-bdcd-4003-9a48-3d872c2ed5fa"
   },
   "outputs": [
    {
     "data": {
      "text/html": [
       "\n",
       "  <div id=\"df-842eead9-5e36-4551-abd0-3f8999859980\">\n",
       "    <div class=\"colab-df-container\">\n",
       "      <div>\n",
       "<style scoped>\n",
       "    .dataframe tbody tr th:only-of-type {\n",
       "        vertical-align: middle;\n",
       "    }\n",
       "\n",
       "    .dataframe tbody tr th {\n",
       "        vertical-align: top;\n",
       "    }\n",
       "\n",
       "    .dataframe thead th {\n",
       "        text-align: right;\n",
       "    }\n",
       "</style>\n",
       "<table border=\"1\" class=\"dataframe\">\n",
       "  <thead>\n",
       "    <tr style=\"text-align: right;\">\n",
       "      <th></th>\n",
       "      <th>bps</th>\n",
       "      <th>ingpc_mean</th>\n",
       "    </tr>\n",
       "  </thead>\n",
       "  <tbody>\n",
       "    <tr>\n",
       "      <th>bps</th>\n",
       "      <td>1.000000</td>\n",
       "      <td>0.211343</td>\n",
       "    </tr>\n",
       "    <tr>\n",
       "      <th>ingpc_mean</th>\n",
       "      <td>0.211343</td>\n",
       "      <td>1.000000</td>\n",
       "    </tr>\n",
       "  </tbody>\n",
       "</table>\n",
       "</div>\n",
       "      <button class=\"colab-df-convert\" onclick=\"convertToInteractive('df-842eead9-5e36-4551-abd0-3f8999859980')\"\n",
       "              title=\"Convert this dataframe to an interactive table.\"\n",
       "              style=\"display:none;\">\n",
       "        \n",
       "  <svg xmlns=\"http://www.w3.org/2000/svg\" height=\"24px\"viewBox=\"0 0 24 24\"\n",
       "       width=\"24px\">\n",
       "    <path d=\"M0 0h24v24H0V0z\" fill=\"none\"/>\n",
       "    <path d=\"M18.56 5.44l.94 2.06.94-2.06 2.06-.94-2.06-.94-.94-2.06-.94 2.06-2.06.94zm-11 1L8.5 8.5l.94-2.06 2.06-.94-2.06-.94L8.5 2.5l-.94 2.06-2.06.94zm10 10l.94 2.06.94-2.06 2.06-.94-2.06-.94-.94-2.06-.94 2.06-2.06.94z\"/><path d=\"M17.41 7.96l-1.37-1.37c-.4-.4-.92-.59-1.43-.59-.52 0-1.04.2-1.43.59L10.3 9.45l-7.72 7.72c-.78.78-.78 2.05 0 2.83L4 21.41c.39.39.9.59 1.41.59.51 0 1.02-.2 1.41-.59l7.78-7.78 2.81-2.81c.8-.78.8-2.07 0-2.86zM5.41 20L4 18.59l7.72-7.72 1.47 1.35L5.41 20z\"/>\n",
       "  </svg>\n",
       "      </button>\n",
       "      \n",
       "  <style>\n",
       "    .colab-df-container {\n",
       "      display:flex;\n",
       "      flex-wrap:wrap;\n",
       "      gap: 12px;\n",
       "    }\n",
       "\n",
       "    .colab-df-convert {\n",
       "      background-color: #E8F0FE;\n",
       "      border: none;\n",
       "      border-radius: 50%;\n",
       "      cursor: pointer;\n",
       "      display: none;\n",
       "      fill: #1967D2;\n",
       "      height: 32px;\n",
       "      padding: 0 0 0 0;\n",
       "      width: 32px;\n",
       "    }\n",
       "\n",
       "    .colab-df-convert:hover {\n",
       "      background-color: #E2EBFA;\n",
       "      box-shadow: 0px 1px 2px rgba(60, 64, 67, 0.3), 0px 1px 3px 1px rgba(60, 64, 67, 0.15);\n",
       "      fill: #174EA6;\n",
       "    }\n",
       "\n",
       "    [theme=dark] .colab-df-convert {\n",
       "      background-color: #3B4455;\n",
       "      fill: #D2E3FC;\n",
       "    }\n",
       "\n",
       "    [theme=dark] .colab-df-convert:hover {\n",
       "      background-color: #434B5C;\n",
       "      box-shadow: 0px 1px 3px 1px rgba(0, 0, 0, 0.15);\n",
       "      filter: drop-shadow(0px 1px 2px rgba(0, 0, 0, 0.3));\n",
       "      fill: #FFFFFF;\n",
       "    }\n",
       "  </style>\n",
       "\n",
       "      <script>\n",
       "        const buttonEl =\n",
       "          document.querySelector('#df-842eead9-5e36-4551-abd0-3f8999859980 button.colab-df-convert');\n",
       "        buttonEl.style.display =\n",
       "          google.colab.kernel.accessAllowed ? 'block' : 'none';\n",
       "\n",
       "        async function convertToInteractive(key) {\n",
       "          const element = document.querySelector('#df-842eead9-5e36-4551-abd0-3f8999859980');\n",
       "          const dataTable =\n",
       "            await google.colab.kernel.invokeFunction('convertToInteractive',\n",
       "                                                     [key], {});\n",
       "          if (!dataTable) return;\n",
       "\n",
       "          const docLinkHtml = 'Like what you see? Visit the ' +\n",
       "            '<a target=\"_blank\" href=https://colab.research.google.com/notebooks/data_table.ipynb>data table notebook</a>'\n",
       "            + ' to learn more about interactive tables.';\n",
       "          element.innerHTML = '';\n",
       "          dataTable['output_type'] = 'display_data';\n",
       "          await google.colab.output.renderOutput(dataTable, element);\n",
       "          const docLink = document.createElement('div');\n",
       "          docLink.innerHTML = docLinkHtml;\n",
       "          element.appendChild(docLink);\n",
       "        }\n",
       "      </script>\n",
       "    </div>\n",
       "  </div>\n",
       "  "
      ],
      "text/plain": [
       "                 bps  ingpc_mean\n",
       "bps         1.000000    0.211343\n",
       "ingpc_mean  0.211343    1.000000"
      ]
     },
     "execution_count": 18,
     "metadata": {},
     "output_type": "execute_result"
    }
   ],
   "source": [
    "df[['bps', 'ingpc_mean']].corr()"
   ]
  },
  {
   "cell_type": "code",
   "execution_count": null,
   "metadata": {
    "colab": {
     "base_uri": "https://localhost:8080/",
     "height": 376
    },
    "executionInfo": {
     "elapsed": 577,
     "status": "ok",
     "timestamp": 1661568655544,
     "user": {
      "displayName": "Hector Bryan Villegas Barragan",
      "userId": "05189738497377269192"
     },
     "user_tz": 300
    },
    "id": "9Wuo0q5VBomR",
    "outputId": "ec7ac110-8205-43ac-a8cb-54f56be2d01a"
   },
   "outputs": [
    {
     "data": {
      "image/png": "[encoded data removed]",
      "text/plain": [
       "<Figure size 576x360 with 1 Axes>"
      ]
     },
     "metadata": {},
     "output_type": "display_data"
    }
   ],
   "source": [
    "fig, ax = plt.subplots(figsize=(8, 5))\n",
    "_ = sns.scatterplot(data=df, x='ac', y='ingpc_mean', ax=ax)\n",
    "_ = ax.set_xlabel('Actividad comercial', fontsize = 14)\n",
    "_ = ax.set_ylabel('Ingreso per cápita', fontsize = 14)\n",
    "_ = fig.suptitle('Relación entre actividad comercial e ingreso per cápita', fontsize = 15)"
   ]
  },
  {
   "cell_type": "code",
   "execution_count": null,
   "metadata": {
    "colab": {
     "base_uri": "https://localhost:8080/",
     "height": 112
    },
    "executionInfo": {
     "elapsed": 247,
     "status": "ok",
     "timestamp": 1659831978192,
     "user": {
      "displayName": "Hector Bryan Villegas Barragan",
      "userId": "05189738497377269192"
     },
     "user_tz": 300
    },
    "id": "DiHu4d4dBwiR",
    "outputId": "a7429190-740f-4241-b0a8-a25d382cc1d3"
   },
   "outputs": [
    {
     "data": {
      "text/html": [
       "\n",
       "  <div id=\"df-c9a39552-73a7-49da-b8bb-a78d0f011a40\">\n",
       "    <div class=\"colab-df-container\">\n",
       "      <div>\n",
       "<style scoped>\n",
       "    .dataframe tbody tr th:only-of-type {\n",
       "        vertical-align: middle;\n",
       "    }\n",
       "\n",
       "    .dataframe tbody tr th {\n",
       "        vertical-align: top;\n",
       "    }\n",
       "\n",
       "    .dataframe thead th {\n",
       "        text-align: right;\n",
       "    }\n",
       "</style>\n",
       "<table border=\"1\" class=\"dataframe\">\n",
       "  <thead>\n",
       "    <tr style=\"text-align: right;\">\n",
       "      <th></th>\n",
       "      <th>ac</th>\n",
       "      <th>ingpc_mean</th>\n",
       "    </tr>\n",
       "  </thead>\n",
       "  <tbody>\n",
       "    <tr>\n",
       "      <th>ac</th>\n",
       "      <td>1.000000</td>\n",
       "      <td>0.546386</td>\n",
       "    </tr>\n",
       "    <tr>\n",
       "      <th>ingpc_mean</th>\n",
       "      <td>0.546386</td>\n",
       "      <td>1.000000</td>\n",
       "    </tr>\n",
       "  </tbody>\n",
       "</table>\n",
       "</div>\n",
       "      <button class=\"colab-df-convert\" onclick=\"convertToInteractive('df-c9a39552-73a7-49da-b8bb-a78d0f011a40')\"\n",
       "              title=\"Convert this dataframe to an interactive table.\"\n",
       "              style=\"display:none;\">\n",
       "        \n",
       "  <svg xmlns=\"http://www.w3.org/2000/svg\" height=\"24px\"viewBox=\"0 0 24 24\"\n",
       "       width=\"24px\">\n",
       "    <path d=\"M0 0h24v24H0V0z\" fill=\"none\"/>\n",
       "    <path d=\"M18.56 5.44l.94 2.06.94-2.06 2.06-.94-2.06-.94-.94-2.06-.94 2.06-2.06.94zm-11 1L8.5 8.5l.94-2.06 2.06-.94-2.06-.94L8.5 2.5l-.94 2.06-2.06.94zm10 10l.94 2.06.94-2.06 2.06-.94-2.06-.94-.94-2.06-.94 2.06-2.06.94z\"/><path d=\"M17.41 7.96l-1.37-1.37c-.4-.4-.92-.59-1.43-.59-.52 0-1.04.2-1.43.59L10.3 9.45l-7.72 7.72c-.78.78-.78 2.05 0 2.83L4 21.41c.39.39.9.59 1.41.59.51 0 1.02-.2 1.41-.59l7.78-7.78 2.81-2.81c.8-.78.8-2.07 0-2.86zM5.41 20L4 18.59l7.72-7.72 1.47 1.35L5.41 20z\"/>\n",
       "  </svg>\n",
       "      </button>\n",
       "      \n",
       "  <style>\n",
       "    .colab-df-container {\n",
       "      display:flex;\n",
       "      flex-wrap:wrap;\n",
       "      gap: 12px;\n",
       "    }\n",
       "\n",
       "    .colab-df-convert {\n",
       "      background-color: #E8F0FE;\n",
       "      border: none;\n",
       "      border-radius: 50%;\n",
       "      cursor: pointer;\n",
       "      display: none;\n",
       "      fill: #1967D2;\n",
       "      height: 32px;\n",
       "      padding: 0 0 0 0;\n",
       "      width: 32px;\n",
       "    }\n",
       "\n",
       "    .colab-df-convert:hover {\n",
       "      background-color: #E2EBFA;\n",
       "      box-shadow: 0px 1px 2px rgba(60, 64, 67, 0.3), 0px 1px 3px 1px rgba(60, 64, 67, 0.15);\n",
       "      fill: #174EA6;\n",
       "    }\n",
       "\n",
       "    [theme=dark] .colab-df-convert {\n",
       "      background-color: #3B4455;\n",
       "      fill: #D2E3FC;\n",
       "    }\n",
       "\n",
       "    [theme=dark] .colab-df-convert:hover {\n",
       "      background-color: #434B5C;\n",
       "      box-shadow: 0px 1px 3px 1px rgba(0, 0, 0, 0.15);\n",
       "      filter: drop-shadow(0px 1px 2px rgba(0, 0, 0, 0.3));\n",
       "      fill: #FFFFFF;\n",
       "    }\n",
       "  </style>\n",
       "\n",
       "      <script>\n",
       "        const buttonEl =\n",
       "          document.querySelector('#df-c9a39552-73a7-49da-b8bb-a78d0f011a40 button.colab-df-convert');\n",
       "        buttonEl.style.display =\n",
       "          google.colab.kernel.accessAllowed ? 'block' : 'none';\n",
       "\n",
       "        async function convertToInteractive(key) {\n",
       "          const element = document.querySelector('#df-c9a39552-73a7-49da-b8bb-a78d0f011a40');\n",
       "          const dataTable =\n",
       "            await google.colab.kernel.invokeFunction('convertToInteractive',\n",
       "                                                     [key], {});\n",
       "          if (!dataTable) return;\n",
       "\n",
       "          const docLinkHtml = 'Like what you see? Visit the ' +\n",
       "            '<a target=\"_blank\" href=https://colab.research.google.com/notebooks/data_table.ipynb>data table notebook</a>'\n",
       "            + ' to learn more about interactive tables.';\n",
       "          element.innerHTML = '';\n",
       "          dataTable['output_type'] = 'display_data';\n",
       "          await google.colab.output.renderOutput(dataTable, element);\n",
       "          const docLink = document.createElement('div');\n",
       "          docLink.innerHTML = docLinkHtml;\n",
       "          element.appendChild(docLink);\n",
       "        }\n",
       "      </script>\n",
       "    </div>\n",
       "  </div>\n",
       "  "
      ],
      "text/plain": [
       "                  ac  ingpc_mean\n",
       "ac          1.000000    0.546386\n",
       "ingpc_mean  0.546386    1.000000"
      ]
     },
     "execution_count": 48,
     "metadata": {},
     "output_type": "execute_result"
    }
   ],
   "source": [
    "df[['ac', 'ingpc_mean']].corr()"
   ]
  },
  {
   "cell_type": "code",
   "execution_count": 13,
   "metadata": {
    "executionInfo": {
     "elapsed": 249,
     "status": "ok",
     "timestamp": 1661618035933,
     "user": {
      "displayName": "Hector Bryan Villegas Barragan",
      "userId": "05189738497377269192"
     },
     "user_tz": 300
    },
    "id": "B7tTzkxn4RZA"
   },
   "outputs": [],
   "source": [
    "#X = df.drop(columns=['ingpc_mean', 'ciudad', 'sector'])\n",
    "X = df[['ccmc', 'ac', 'pmc']]\n",
    "y = df['ingpc_mean']"
   ]
  },
  {
   "cell_type": "code",
   "execution_count": 9,
   "metadata": {
    "executionInfo": {
     "elapsed": 578,
     "status": "ok",
     "timestamp": 1661617948820,
     "user": {
      "displayName": "Hector Bryan Villegas Barragan",
      "userId": "05189738497377269192"
     },
     "user_tz": 300
    },
    "id": "gayMaVR2zAeL"
   },
   "outputs": [],
   "source": [
    "from sklearn.preprocessing import StandardScaler\n",
    "from sklearn.pipeline import make_pipeline\n",
    "from sklearn.model_selection import cross_validate, GridSearchCV, KFold"
   ]
  },
  {
   "cell_type": "markdown",
   "metadata": {
    "id": "2ukaFtxdK1vQ"
   },
   "source": [
    "### prueba"
   ]
  },
  {
   "cell_type": "code",
   "execution_count": null,
   "metadata": {
    "id": "BQSlI9sx7RbE"
   },
   "outputs": [],
   "source": [
    "from sklearn.model_selection import train_test_split"
   ]
  },
  {
   "cell_type": "code",
   "execution_count": null,
   "metadata": {
    "id": "Znt-nw0944gD"
   },
   "outputs": [],
   "source": [
    "x_train, x_test, y_train, y_test = train_test_split(X, y, test_size=0.20, random_state=0)"
   ]
  },
  {
   "cell_type": "code",
   "execution_count": null,
   "metadata": {
    "id": "U7EX7eRhPT43"
   },
   "outputs": [],
   "source": []
  },
  {
   "cell_type": "code",
   "execution_count": null,
   "metadata": {
    "id": "cFOB5NGor0o0"
   },
   "outputs": [],
   "source": [
    "from sklearn.linear_model import LinearRegression"
   ]
  },
  {
   "cell_type": "code",
   "execution_count": null,
   "metadata": {
    "colab": {
     "base_uri": "https://localhost:8080/"
    },
    "executionInfo": {
     "elapsed": 242,
     "status": "ok",
     "timestamp": 1659832261161,
     "user": {
      "displayName": "Hector Bryan Villegas Barragan",
      "userId": "05189738497377269192"
     },
     "user_tz": 300
    },
    "id": "9olJRHHsEsaO",
    "outputId": "49cf97fd-d82c-4081-cb55-6478cbebfbbd"
   },
   "outputs": [
    {
     "data": {
      "text/plain": [
       "Pipeline(steps=[('standardscaler', StandardScaler()),\n",
       "                ('linearregression', LinearRegression())])"
      ]
     },
     "execution_count": 56,
     "metadata": {},
     "output_type": "execute_result"
    }
   ],
   "source": [
    "lm = make_pipeline(StandardScaler(), LinearRegression())\n",
    "lm.fit(x_train, y_train)"
   ]
  },
  {
   "cell_type": "code",
   "execution_count": null,
   "metadata": {
    "colab": {
     "base_uri": "https://localhost:8080/"
    },
    "executionInfo": {
     "elapsed": 222,
     "status": "ok",
     "timestamp": 1659832514209,
     "user": {
      "displayName": "Hector Bryan Villegas Barragan",
      "userId": "05189738497377269192"
     },
     "user_tz": 300
    },
    "id": "xJXhzTV0E75F",
    "outputId": "55d0b181-ec38-4214-e2d1-ffa223330061"
   },
   "outputs": [
    {
     "data": {
      "text/plain": [
       "59.35244036794742"
      ]
     },
     "execution_count": 71,
     "metadata": {},
     "output_type": "execute_result"
    }
   ],
   "source": [
    "lm.score(x_test, y_test)*100"
   ]
  },
  {
   "cell_type": "markdown",
   "metadata": {
    "id": "CYQ9obIMBl7R"
   },
   "source": [
    "### regresión lineal"
   ]
  },
  {
   "cell_type": "code",
   "execution_count": 10,
   "metadata": {
    "executionInfo": {
     "elapsed": 237,
     "status": "ok",
     "timestamp": 1661618004741,
     "user": {
      "displayName": "Hector Bryan Villegas Barragan",
      "userId": "05189738497377269192"
     },
     "user_tz": 300
    },
    "id": "UFP6hKA_5Yld"
   },
   "outputs": [],
   "source": [
    "from sklearn.linear_model import LinearRegression"
   ]
  },
  {
   "cell_type": "code",
   "execution_count": 11,
   "metadata": {
    "executionInfo": {
     "elapsed": 6,
     "status": "ok",
     "timestamp": 1661618005345,
     "user": {
      "displayName": "Hector Bryan Villegas Barragan",
      "userId": "05189738497377269192"
     },
     "user_tz": 300
    },
    "id": "AYfNJY2w4aAC"
   },
   "outputs": [],
   "source": [
    "model = make_pipeline(StandardScaler(), LinearRegression())"
   ]
  },
  {
   "cell_type": "code",
   "execution_count": 14,
   "metadata": {
    "executionInfo": {
     "elapsed": 250,
     "status": "ok",
     "timestamp": 1661618044233,
     "user": {
      "displayName": "Hector Bryan Villegas Barragan",
      "userId": "05189738497377269192"
     },
     "user_tz": 300
    },
    "id": "gEBxONjTmvjX"
   },
   "outputs": [],
   "source": [
    "cv_results = cross_validate(model, X, y, scoring=['neg_mean_squared_error', 'r2'], cv=10)"
   ]
  },
  {
   "cell_type": "code",
   "execution_count": 25,
   "metadata": {
    "executionInfo": {
     "elapsed": 183,
     "status": "ok",
     "timestamp": 1661618221829,
     "user": {
      "displayName": "Hector Bryan Villegas Barragan",
      "userId": "05189738497377269192"
     },
     "user_tz": 300
    },
    "id": "hVbPVAJNJ3NR"
   },
   "outputs": [],
   "source": [
    "mse = (-cv_results['test_neg_mean_squared_error'])"
   ]
  },
  {
   "cell_type": "code",
   "execution_count": 26,
   "metadata": {
    "colab": {
     "base_uri": "https://localhost:8080/"
    },
    "executionInfo": {
     "elapsed": 202,
     "status": "ok",
     "timestamp": 1661618223986,
     "user": {
      "displayName": "Hector Bryan Villegas Barragan",
      "userId": "05189738497377269192"
     },
     "user_tz": 300
    },
    "id": "GMqnG1AyKKs6",
    "outputId": "fa32ad71-7e44-43ba-f09e-2f4011022bdd"
   },
   "outputs": [
    {
     "data": {
      "text/plain": [
       "array([11146.99102363, 82099.75197994,  8411.96202382,  1879.5935296 ,\n",
       "       17131.88935432, 44785.91004527,  8233.17254144,  3728.04538066,\n",
       "        9158.1109599 , 19093.12313354])"
      ]
     },
     "execution_count": 26,
     "metadata": {},
     "output_type": "execute_result"
    }
   ],
   "source": [
    "mse"
   ]
  },
  {
   "cell_type": "code",
   "execution_count": 27,
   "metadata": {
    "executionInfo": {
     "elapsed": 208,
     "status": "ok",
     "timestamp": 1661618232758,
     "user": {
      "displayName": "Hector Bryan Villegas Barragan",
      "userId": "05189738497377269192"
     },
     "user_tz": 300
    },
    "id": "csQmK3M1KNKQ"
   },
   "outputs": [],
   "source": [
    "r2 = cv_results['test_r2']"
   ]
  },
  {
   "cell_type": "code",
   "execution_count": 28,
   "metadata": {
    "colab": {
     "base_uri": "https://localhost:8080/"
    },
    "executionInfo": {
     "elapsed": 243,
     "status": "ok",
     "timestamp": 1661618236014,
     "user": {
      "displayName": "Hector Bryan Villegas Barragan",
      "userId": "05189738497377269192"
     },
     "user_tz": 300
    },
    "id": "lzFuU1LfnAbv",
    "outputId": "10ce9ca2-750d-48d2-a6ce-b1d81a31b2af"
   },
   "outputs": [
    {
     "data": {
      "text/plain": [
       "array([ 0.69635264, -3.64770906,  0.26339502,  0.81727058,  0.79261817,\n",
       "        0.45737236,  0.27979175,  0.09631092, -0.0045856 ,  0.39891354])"
      ]
     },
     "execution_count": 28,
     "metadata": {},
     "output_type": "execute_result"
    }
   ],
   "source": [
    "r2"
   ]
  },
  {
   "cell_type": "code",
   "execution_count": 30,
   "metadata": {
    "colab": {
     "base_uri": "https://localhost:8080/"
    },
    "executionInfo": {
     "elapsed": 232,
     "status": "ok",
     "timestamp": 1661618267093,
     "user": {
      "displayName": "Hector Bryan Villegas Barragan",
      "userId": "05189738497377269192"
     },
     "user_tz": 300
    },
    "id": "-9qNOymYnEGu",
    "outputId": "94ab12cd-aee5-4344-a45f-823251f325b2"
   },
   "outputs": [
    {
     "name": "stdout",
     "output_type": "stream",
     "text": [
      "r2: 0.015 +/- 1.249\n"
     ]
    }
   ],
   "source": [
    "print(\n",
    "    f\"r2: {r2.mean():.3f} +/- {r2.std():.3f}\"\n",
    ")"
   ]
  },
  {
   "cell_type": "code",
   "execution_count": 31,
   "metadata": {
    "colab": {
     "base_uri": "https://localhost:8080/"
    },
    "executionInfo": {
     "elapsed": 13,
     "status": "ok",
     "timestamp": 1661618285986,
     "user": {
      "displayName": "Hector Bryan Villegas Barragan",
      "userId": "05189738497377269192"
     },
     "user_tz": 300
    },
    "id": "i38IlbWJKooe",
    "outputId": "37bc4dc9-5df2-4735-d90c-fc62d73c6611"
   },
   "outputs": [
    {
     "name": "stdout",
     "output_type": "stream",
     "text": [
      "mse: 20566.855 +/- 23533.688\n"
     ]
    }
   ],
   "source": [
    "print(\n",
    "    f\"mse: {mse.mean():.3f} +/- {mse.std():.3f}\"\n",
    ")"
   ]
  },
  {
   "cell_type": "markdown",
   "metadata": {
    "id": "N0h7-tsPphZv"
   },
   "source": [
    "### Regresión Lineal con regularización L1 (LR-Lasso)"
   ]
  },
  {
   "cell_type": "code",
   "execution_count": 32,
   "metadata": {
    "executionInfo": {
     "elapsed": 236,
     "status": "ok",
     "timestamp": 1661618346558,
     "user": {
      "displayName": "Hector Bryan Villegas Barragan",
      "userId": "05189738497377269192"
     },
     "user_tz": 300
    },
    "id": "9EysGnOVp8bs"
   },
   "outputs": [],
   "source": [
    "from sklearn.linear_model import Lasso"
   ]
  },
  {
   "cell_type": "code",
   "execution_count": 33,
   "metadata": {
    "executionInfo": {
     "elapsed": 244,
     "status": "ok",
     "timestamp": 1661618350568,
     "user": {
      "displayName": "Hector Bryan Villegas Barragan",
      "userId": "05189738497377269192"
     },
     "user_tz": 300
    },
    "id": "xtO74uY0qWD1"
   },
   "outputs": [],
   "source": [
    "model_lasso = make_pipeline(StandardScaler(), Lasso())"
   ]
  },
  {
   "cell_type": "code",
   "execution_count": 34,
   "metadata": {
    "executionInfo": {
     "elapsed": 257,
     "status": "ok",
     "timestamp": 1661618355526,
     "user": {
      "displayName": "Hector Bryan Villegas Barragan",
      "userId": "05189738497377269192"
     },
     "user_tz": 300
    },
    "id": "gxmbXRgpqvEp"
   },
   "outputs": [],
   "source": [
    "cv_inner = KFold(n_splits=3, shuffle=True, random_state=0)\n",
    "cv_outer = KFold(n_splits=10, shuffle=True, random_state=0)"
   ]
  },
  {
   "cell_type": "code",
   "execution_count": 35,
   "metadata": {
    "executionInfo": {
     "elapsed": 225,
     "status": "ok",
     "timestamp": 1661618361869,
     "user": {
      "displayName": "Hector Bryan Villegas Barragan",
      "userId": "05189738497377269192"
     },
     "user_tz": 300
    },
    "id": "R9czdVZDqzP5"
   },
   "outputs": [],
   "source": [
    "param_grid = {\n",
    "    'lasso__alpha': (1.0, 1.5, 2.0, 2.5, 3, 3.5)\n",
    "}"
   ]
  },
  {
   "cell_type": "code",
   "execution_count": 38,
   "metadata": {
    "executionInfo": {
     "elapsed": 266,
     "status": "ok",
     "timestamp": 1661618415732,
     "user": {
      "displayName": "Hector Bryan Villegas Barragan",
      "userId": "05189738497377269192"
     },
     "user_tz": 300
    },
    "id": "i4AW9_ZGz52i"
   },
   "outputs": [],
   "source": [
    "lasso_grid = GridSearchCV(model_lasso, param_grid, cv=cv_inner, scoring='neg_mean_squared_error')"
   ]
  },
  {
   "cell_type": "code",
   "execution_count": 39,
   "metadata": {
    "executionInfo": {
     "elapsed": 1908,
     "status": "ok",
     "timestamp": 1661618420316,
     "user": {
      "displayName": "Hector Bryan Villegas Barragan",
      "userId": "05189738497377269192"
     },
     "user_tz": 300
    },
    "id": "21I3pk4i0buL"
   },
   "outputs": [],
   "source": [
    "cv_results = cross_validate(lasso_grid, X, y, scoring='neg_mean_squared_error', cv=cv_outer, return_estimator=True)"
   ]
  },
  {
   "cell_type": "code",
   "execution_count": 40,
   "metadata": {
    "executionInfo": {
     "elapsed": 242,
     "status": "ok",
     "timestamp": 1661618424599,
     "user": {
      "displayName": "Hector Bryan Villegas Barragan",
      "userId": "05189738497377269192"
     },
     "user_tz": 300
    },
    "id": "xDmY4okA0ici"
   },
   "outputs": [],
   "source": [
    "cv_test_scores = cv_results['test_score']"
   ]
  },
  {
   "cell_type": "code",
   "execution_count": 41,
   "metadata": {
    "colab": {
     "base_uri": "https://localhost:8080/"
    },
    "executionInfo": {
     "elapsed": 211,
     "status": "ok",
     "timestamp": 1661618426511,
     "user": {
      "displayName": "Hector Bryan Villegas Barragan",
      "userId": "05189738497377269192"
     },
     "user_tz": 300
    },
    "id": "k5MQhotC0m7u",
    "outputId": "ec039de6-6b48-4653-e8e6-74be8f361629"
   },
   "outputs": [
    {
     "name": "stdout",
     "output_type": "stream",
     "text": [
      "20681.101 +/- 19419.993\n"
     ]
    }
   ],
   "source": [
    "print(\n",
    "    f\"{-cv_test_scores.mean():.3f} +/- {cv_test_scores.std():.3f}\"\n",
    ")"
   ]
  },
  {
   "cell_type": "code",
   "execution_count": 42,
   "metadata": {
    "colab": {
     "base_uri": "https://localhost:8080/"
    },
    "executionInfo": {
     "elapsed": 326,
     "status": "ok",
     "timestamp": 1661618430449,
     "user": {
      "displayName": "Hector Bryan Villegas Barragan",
      "userId": "05189738497377269192"
     },
     "user_tz": 300
    },
    "id": "Bj90z6g30pyk",
    "outputId": "28e650da-795d-42b7-b72c-8030c0535370"
   },
   "outputs": [
    {
     "data": {
      "text/plain": [
       "6     3279.695193\n",
       "2     6597.141195\n",
       "7     6881.916946\n",
       "3     7926.554290\n",
       "0     8027.439412\n",
       "4    17475.473692\n",
       "1    18514.411885\n",
       "8    25497.696108\n",
       "9    46801.645909\n",
       "5    65809.032417\n",
       "dtype: float64"
      ]
     },
     "execution_count": 42,
     "metadata": {},
     "output_type": "execute_result"
    }
   ],
   "source": [
    "pd.Series(-cv_test_scores).sort_values()"
   ]
  },
  {
   "cell_type": "code",
   "execution_count": 51,
   "metadata": {
    "colab": {
     "base_uri": "https://localhost:8080/"
    },
    "executionInfo": {
     "elapsed": 185,
     "status": "ok",
     "timestamp": 1661619265901,
     "user": {
      "displayName": "Hector Bryan Villegas Barragan",
      "userId": "05189738497377269192"
     },
     "user_tz": 300
    },
    "id": "rJBVDL8rLzY8",
    "outputId": "3450c3ba-a289-48b2-a3bd-8fcf4bd223fd"
   },
   "outputs": [
    {
     "data": {
      "text/plain": [
       "-26572.28074684196"
      ]
     },
     "execution_count": 51,
     "metadata": {},
     "output_type": "execute_result"
    }
   ],
   "source": [
    "cv_results['estimator'][0].best_score_"
   ]
  },
  {
   "cell_type": "code",
   "execution_count": 55,
   "metadata": {
    "colab": {
     "base_uri": "https://localhost:8080/"
    },
    "executionInfo": {
     "elapsed": 230,
     "status": "ok",
     "timestamp": 1661619418747,
     "user": {
      "displayName": "Hector Bryan Villegas Barragan",
      "userId": "05189738497377269192"
     },
     "user_tz": 300
    },
    "id": "pS6GMF9z0un1",
    "outputId": "11967e65-88ea-4e18-9266-f048139d8d8c"
   },
   "outputs": [
    {
     "name": "stdout",
     "output_type": "stream",
     "text": [
      "Mejores hiperparámetros para fold #1:\n",
      "{'lasso__alpha': 3.5}\n",
      "Mejores hiperparámetros para fold #2:\n",
      "{'lasso__alpha': 3.5}\n",
      "Mejores hiperparámetros para fold #3:\n",
      "{'lasso__alpha': 3.5}\n",
      "Mejores hiperparámetros para fold #4:\n",
      "{'lasso__alpha': 3.5}\n",
      "Mejores hiperparámetros para fold #5:\n",
      "{'lasso__alpha': 3.5}\n",
      "Mejores hiperparámetros para fold #6:\n",
      "{'lasso__alpha': 3.5}\n",
      "Mejores hiperparámetros para fold #7:\n",
      "{'lasso__alpha': 1.0}\n",
      "Mejores hiperparámetros para fold #8:\n",
      "{'lasso__alpha': 1.0}\n",
      "Mejores hiperparámetros para fold #9:\n",
      "{'lasso__alpha': 3.5}\n",
      "Mejores hiperparámetros para fold #10:\n",
      "{'lasso__alpha': 3.5}\n"
     ]
    }
   ],
   "source": [
    "for cv_fold, estimator_in_fold in enumerate(cv_results[\"estimator\"]):\n",
    "    print(\n",
    "        f\"Mejores hiperparámetros para fold #{cv_fold + 1}:\\n\"\n",
    "        f\"{estimator_in_fold.best_params_}\"\n",
    "    )"
   ]
  },
  {
   "cell_type": "markdown",
   "metadata": {
    "id": "0741BjIY1OzF"
   },
   "source": [
    "### Regresión Lineal con regularización L2 (LR-Ridge)"
   ]
  },
  {
   "cell_type": "code",
   "execution_count": null,
   "metadata": {
    "id": "QAHY_otm1QfU"
   },
   "outputs": [],
   "source": [
    "from sklearn.linear_model import Ridge"
   ]
  },
  {
   "cell_type": "code",
   "execution_count": null,
   "metadata": {
    "id": "ydm7XdkH2E3z"
   },
   "outputs": [],
   "source": [
    "model_ridge = make_pipeline(StandardScaler(), Ridge())"
   ]
  },
  {
   "cell_type": "code",
   "execution_count": null,
   "metadata": {
    "id": "LAoS7UJJ2Eig"
   },
   "outputs": [],
   "source": [
    "param_grid = {\n",
    "    'ridge__alpha': np.linspace(1.0, 10.0, 10)\n",
    "}"
   ]
  },
  {
   "cell_type": "code",
   "execution_count": null,
   "metadata": {
    "id": "4CKayJNfAHdL"
   },
   "outputs": [],
   "source": [
    "ridge_grid = GridSearchCV(model_ridge, param_grid, cv=cv_inner, scoring='neg_mean_squared_error')"
   ]
  },
  {
   "cell_type": "code",
   "execution_count": null,
   "metadata": {
    "id": "Y5NQlrvl_0PS"
   },
   "outputs": [],
   "source": [
    "cv_results = cross_validate(ridge_grid, X, y, scoring='neg_mean_squared_error', cv=cv_outer, return_estimator=True)"
   ]
  },
  {
   "cell_type": "code",
   "execution_count": null,
   "metadata": {
    "id": "xK0TBw7UAPRG"
   },
   "outputs": [],
   "source": [
    "cv_test_scores = cv_results['test_score']"
   ]
  },
  {
   "cell_type": "code",
   "execution_count": null,
   "metadata": {
    "colab": {
     "base_uri": "https://localhost:8080/"
    },
    "executionInfo": {
     "elapsed": 27,
     "status": "ok",
     "timestamp": 1659832658715,
     "user": {
      "displayName": "Hector Bryan Villegas Barragan",
      "userId": "05189738497377269192"
     },
     "user_tz": 300
    },
    "id": "15B6A6kxAusu",
    "outputId": "4f900458-23a5-4025-b712-088e25410844"
   },
   "outputs": [
    {
     "name": "stdout",
     "output_type": "stream",
     "text": [
      "20151.807 +/- 20671.655\n"
     ]
    }
   ],
   "source": [
    "print(\n",
    "    f\"{-cv_test_scores.mean():.3f} +/- {cv_test_scores.std():.3f}\"\n",
    ")"
   ]
  },
  {
   "cell_type": "code",
   "execution_count": null,
   "metadata": {
    "colab": {
     "base_uri": "https://localhost:8080/"
    },
    "executionInfo": {
     "elapsed": 21,
     "status": "ok",
     "timestamp": 1659832658716,
     "user": {
      "displayName": "Hector Bryan Villegas Barragan",
      "userId": "05189738497377269192"
     },
     "user_tz": 300
    },
    "id": "WHvJF5JeAyDY",
    "outputId": "e809de53-46c1-4bd5-924e-e5e0779342c2"
   },
   "outputs": [
    {
     "data": {
      "text/plain": [
       "1     2327.446451\n",
       "3     3886.810178\n",
       "6     4016.085823\n",
       "9     7852.175404\n",
       "5     8641.802333\n",
       "2    14943.533724\n",
       "0    19203.836056\n",
       "8    24602.312544\n",
       "4    47283.034575\n",
       "7    68761.037650\n",
       "dtype: float64"
      ]
     },
     "execution_count": 79,
     "metadata": {},
     "output_type": "execute_result"
    }
   ],
   "source": [
    "pd.Series(-cv_test_scores).sort_values()"
   ]
  },
  {
   "cell_type": "code",
   "execution_count": null,
   "metadata": {
    "colab": {
     "base_uri": "https://localhost:8080/"
    },
    "executionInfo": {
     "elapsed": 17,
     "status": "ok",
     "timestamp": 1659832658717,
     "user": {
      "displayName": "Hector Bryan Villegas Barragan",
      "userId": "05189738497377269192"
     },
     "user_tz": 300
    },
    "id": "y6o6TpYmBFgJ",
    "outputId": "ef29d5b3-24f9-4dd3-c147-656150767230"
   },
   "outputs": [
    {
     "name": "stdout",
     "output_type": "stream",
     "text": [
      "Mejores hiperparámetros para fold #1:\n",
      "{'ridge__alpha': 10.0}\n",
      "Mejores hiperparámetros para fold #2:\n",
      "{'ridge__alpha': 10.0}\n",
      "Mejores hiperparámetros para fold #3:\n",
      "{'ridge__alpha': 10.0}\n",
      "Mejores hiperparámetros para fold #4:\n",
      "{'ridge__alpha': 10.0}\n",
      "Mejores hiperparámetros para fold #5:\n",
      "{'ridge__alpha': 10.0}\n",
      "Mejores hiperparámetros para fold #6:\n",
      "{'ridge__alpha': 10.0}\n",
      "Mejores hiperparámetros para fold #7:\n",
      "{'ridge__alpha': 10.0}\n",
      "Mejores hiperparámetros para fold #8:\n",
      "{'ridge__alpha': 1.0}\n",
      "Mejores hiperparámetros para fold #9:\n",
      "{'ridge__alpha': 10.0}\n",
      "Mejores hiperparámetros para fold #10:\n",
      "{'ridge__alpha': 10.0}\n"
     ]
    }
   ],
   "source": [
    "for cv_fold, estimator_in_fold in enumerate(cv_results[\"estimator\"]):\n",
    "    print(\n",
    "        f\"Mejores hiperparámetros para fold #{cv_fold + 1}:\\n\"\n",
    "        f\"{estimator_in_fold.best_params_}\"\n",
    "    )"
   ]
  },
  {
   "cell_type": "markdown",
   "metadata": {
    "id": "p00dct0DBsa3"
   },
   "source": [
    "### decision tree regressor"
   ]
  },
  {
   "cell_type": "code",
   "execution_count": null,
   "metadata": {
    "id": "yvvnCs_kt-3s"
   },
   "outputs": [],
   "source": [
    "from sklearn.tree import DecisionTreeRegressor"
   ]
  },
  {
   "cell_type": "code",
   "execution_count": null,
   "metadata": {
    "id": "ySCZQXzmuN18"
   },
   "outputs": [],
   "source": [
    "model_tree = make_pipeline(StandardScaler(), DecisionTreeRegressor())"
   ]
  },
  {
   "cell_type": "code",
   "execution_count": null,
   "metadata": {
    "id": "Oz4ubnP1F6Rr"
   },
   "outputs": [],
   "source": [
    "cv_inner = KFold(n_splits=3, shuffle=True, random_state=1)\n",
    "cv_outer = KFold(n_splits=10, shuffle=True, random_state=1)"
   ]
  },
  {
   "cell_type": "code",
   "execution_count": null,
   "metadata": {
    "id": "gU7QW3yfBy_W"
   },
   "outputs": [],
   "source": [
    "param_grid = {\n",
    "    'decisiontreeregressor__max_depth': (2, 5, 10),\n",
    "    'decisiontreeregressor__max_leaf_nodes': (3, 10, 30)\n",
    "}"
   ]
  },
  {
   "cell_type": "code",
   "execution_count": null,
   "metadata": {
    "id": "7Bq0EAjvHhHr"
   },
   "outputs": [],
   "source": [
    "tree_grid = GridSearchCV(model_tree, param_grid, cv=cv_inner, scoring='neg_mean_squared_error')"
   ]
  },
  {
   "cell_type": "code",
   "execution_count": null,
   "metadata": {
    "id": "x1AQ5WMKIXyZ"
   },
   "outputs": [],
   "source": [
    "cv_results = cross_validate(tree_grid, X, y, scoring='neg_mean_squared_error', cv=cv_outer, return_estimator=True)"
   ]
  },
  {
   "cell_type": "code",
   "execution_count": null,
   "metadata": {
    "id": "lD6Rv8I8J_Oh"
   },
   "outputs": [],
   "source": [
    "cv_test_scores = cv_results['test_score']"
   ]
  },
  {
   "cell_type": "code",
   "execution_count": null,
   "metadata": {
    "colab": {
     "base_uri": "https://localhost:8080/"
    },
    "executionInfo": {
     "elapsed": 17,
     "status": "ok",
     "timestamp": 1659832674679,
     "user": {
      "displayName": "Hector Bryan Villegas Barragan",
      "userId": "05189738497377269192"
     },
     "user_tz": 300
    },
    "id": "A58fLwd8L9sq",
    "outputId": "b8bf0f8e-e13b-4dd6-c669-bf6b5c79f7a7"
   },
   "outputs": [
    {
     "name": "stdout",
     "output_type": "stream",
     "text": [
      "19269.327 +/- 17496.987\n"
     ]
    }
   ],
   "source": [
    "print(\n",
    "    f\"{-cv_test_scores.mean():.3f} +/- {cv_test_scores.std():.3f}\"\n",
    ")"
   ]
  },
  {
   "cell_type": "code",
   "execution_count": null,
   "metadata": {
    "colab": {
     "base_uri": "https://localhost:8080/"
    },
    "executionInfo": {
     "elapsed": 18,
     "status": "ok",
     "timestamp": 1659832674682,
     "user": {
      "displayName": "Hector Bryan Villegas Barragan",
      "userId": "05189738497377269192"
     },
     "user_tz": 300
    },
    "id": "NiZ05nbzNlQ2",
    "outputId": "44361335-6447-45a2-cd28-e5825f34ad6e"
   },
   "outputs": [
    {
     "data": {
      "text/plain": [
       "1     4124.338985\n",
       "6     4475.618186\n",
       "3     6478.074692\n",
       "9     7566.941648\n",
       "4    14729.353960\n",
       "2    15837.722606\n",
       "0    21177.222676\n",
       "5    24526.135430\n",
       "8    27871.671089\n",
       "7    65906.194736\n",
       "dtype: float64"
      ]
     },
     "execution_count": 89,
     "metadata": {},
     "output_type": "execute_result"
    }
   ],
   "source": [
    "pd.Series(-cv_test_scores).sort_values()"
   ]
  },
  {
   "cell_type": "code",
   "execution_count": null,
   "metadata": {
    "colab": {
     "base_uri": "https://localhost:8080/"
    },
    "executionInfo": {
     "elapsed": 17,
     "status": "ok",
     "timestamp": 1659832674683,
     "user": {
      "displayName": "Hector Bryan Villegas Barragan",
      "userId": "05189738497377269192"
     },
     "user_tz": 300
    },
    "id": "9QnKfptRuVhO",
    "outputId": "47b6993f-a3f8-4b9f-936f-924c8a6af4db"
   },
   "outputs": [
    {
     "name": "stdout",
     "output_type": "stream",
     "text": [
      "Mejores hiperparámetros para fold #1:\n",
      "{'decisiontreeregressor__max_depth': 5, 'decisiontreeregressor__max_leaf_nodes': 30}\n",
      "Mejores hiperparámetros para fold #2:\n",
      "{'decisiontreeregressor__max_depth': 2, 'decisiontreeregressor__max_leaf_nodes': 10}\n",
      "Mejores hiperparámetros para fold #3:\n",
      "{'decisiontreeregressor__max_depth': 5, 'decisiontreeregressor__max_leaf_nodes': 10}\n",
      "Mejores hiperparámetros para fold #4:\n",
      "{'decisiontreeregressor__max_depth': 2, 'decisiontreeregressor__max_leaf_nodes': 10}\n",
      "Mejores hiperparámetros para fold #5:\n",
      "{'decisiontreeregressor__max_depth': 2, 'decisiontreeregressor__max_leaf_nodes': 30}\n",
      "Mejores hiperparámetros para fold #6:\n",
      "{'decisiontreeregressor__max_depth': 2, 'decisiontreeregressor__max_leaf_nodes': 3}\n",
      "Mejores hiperparámetros para fold #7:\n",
      "{'decisiontreeregressor__max_depth': 10, 'decisiontreeregressor__max_leaf_nodes': 10}\n",
      "Mejores hiperparámetros para fold #8:\n",
      "{'decisiontreeregressor__max_depth': 2, 'decisiontreeregressor__max_leaf_nodes': 3}\n",
      "Mejores hiperparámetros para fold #9:\n",
      "{'decisiontreeregressor__max_depth': 2, 'decisiontreeregressor__max_leaf_nodes': 10}\n",
      "Mejores hiperparámetros para fold #10:\n",
      "{'decisiontreeregressor__max_depth': 2, 'decisiontreeregressor__max_leaf_nodes': 10}\n"
     ]
    }
   ],
   "source": [
    "for cv_fold, estimator_in_fold in enumerate(cv_results[\"estimator\"]):\n",
    "    print(\n",
    "        f\"Mejores hiperparámetros para fold #{cv_fold + 1}:\\n\"\n",
    "        f\"{estimator_in_fold.best_params_}\"\n",
    "    )"
   ]
  },
  {
   "cell_type": "markdown",
   "metadata": {
    "id": "fdCD84li_dOm"
   },
   "source": [
    "### random forest regressor"
   ]
  },
  {
   "cell_type": "markdown",
   "metadata": {
    "id": "5mzr8v3FUdrw"
   },
   "source": [
    "#### train"
   ]
  },
  {
   "cell_type": "code",
   "execution_count": null,
   "metadata": {
    "id": "qMnVOE1Sua3e"
   },
   "outputs": [],
   "source": [
    "from sklearn.ensemble import RandomForestRegressor"
   ]
  },
  {
   "cell_type": "code",
   "execution_count": null,
   "metadata": {
    "id": "Sa79hNtxueTF"
   },
   "outputs": [],
   "source": [
    "model_rf = make_pipeline(StandardScaler(), RandomForestRegressor())"
   ]
  },
  {
   "cell_type": "code",
   "execution_count": null,
   "metadata": {
    "id": "yTCS8dg-uoLp"
   },
   "outputs": [],
   "source": [
    "cv_inner = KFold(n_splits=3, shuffle=True, random_state=1)\n",
    "cv_outer = KFold(n_splits=10, shuffle=True, random_state=1)"
   ]
  },
  {
   "cell_type": "code",
   "execution_count": null,
   "metadata": {
    "id": "yk9-2IiUvWER"
   },
   "outputs": [],
   "source": [
    "param_grid = {\n",
    "    'randomforestregressor__max_depth': (2, 5, 10),\n",
    "    'randomforestregressor__n_estimators': (5, 10, 20, 50, 100)\n",
    "}"
   ]
  },
  {
   "cell_type": "code",
   "execution_count": null,
   "metadata": {
    "id": "XKE85xwlApIu"
   },
   "outputs": [],
   "source": [
    "rf_grid = GridSearchCV(model_rf, param_grid, cv=cv_inner, scoring='neg_mean_squared_error')"
   ]
  },
  {
   "cell_type": "code",
   "execution_count": null,
   "metadata": {
    "id": "Y3p32Fg-Ai49"
   },
   "outputs": [],
   "source": [
    "cv_results = cross_validate(rf_grid, X, y, scoring='neg_mean_squared_error', cv=cv_outer, return_estimator=True)"
   ]
  },
  {
   "cell_type": "code",
   "execution_count": null,
   "metadata": {
    "id": "3DkQ_Cl-A1v0"
   },
   "outputs": [],
   "source": [
    "cv_test_scores = cv_results['test_score']"
   ]
  },
  {
   "cell_type": "code",
   "execution_count": null,
   "metadata": {
    "colab": {
     "base_uri": "https://localhost:8080/"
    },
    "executionInfo": {
     "elapsed": 58,
     "status": "ok",
     "timestamp": 1659832720384,
     "user": {
      "displayName": "Hector Bryan Villegas Barragan",
      "userId": "05189738497377269192"
     },
     "user_tz": 300
    },
    "id": "6npNV7S1AwwU",
    "outputId": "47ce0300-0233-4295-a16d-40792cb6c9c4"
   },
   "outputs": [
    {
     "name": "stdout",
     "output_type": "stream",
     "text": [
      "18427.353 +/- 12910.814\n"
     ]
    }
   ],
   "source": [
    "print(\n",
    "    f\"{-cv_test_scores.mean():.3f} +/- {cv_test_scores.std():.3f}\"\n",
    ")"
   ]
  },
  {
   "cell_type": "code",
   "execution_count": null,
   "metadata": {
    "colab": {
     "base_uri": "https://localhost:8080/"
    },
    "executionInfo": {
     "elapsed": 56,
     "status": "ok",
     "timestamp": 1659832720385,
     "user": {
      "displayName": "Hector Bryan Villegas Barragan",
      "userId": "05189738497377269192"
     },
     "user_tz": 300
    },
    "id": "AIu1aZD8BFHY",
    "outputId": "b7823378-6c98-42c0-a7d0-970cb2df2b76"
   },
   "outputs": [
    {
     "name": "stdout",
     "output_type": "stream",
     "text": [
      "Mejores hiperparámetros para fold #1:\n",
      "{'randomforestregressor__max_depth': 2, 'randomforestregressor__n_estimators': 20}\n",
      "Mejores hiperparámetros para fold #2:\n",
      "{'randomforestregressor__max_depth': 2, 'randomforestregressor__n_estimators': 20}\n",
      "Mejores hiperparámetros para fold #3:\n",
      "{'randomforestregressor__max_depth': 2, 'randomforestregressor__n_estimators': 100}\n",
      "Mejores hiperparámetros para fold #4:\n",
      "{'randomforestregressor__max_depth': 10, 'randomforestregressor__n_estimators': 10}\n",
      "Mejores hiperparámetros para fold #5:\n",
      "{'randomforestregressor__max_depth': 5, 'randomforestregressor__n_estimators': 10}\n",
      "Mejores hiperparámetros para fold #6:\n",
      "{'randomforestregressor__max_depth': 10, 'randomforestregressor__n_estimators': 5}\n",
      "Mejores hiperparámetros para fold #7:\n",
      "{'randomforestregressor__max_depth': 5, 'randomforestregressor__n_estimators': 5}\n",
      "Mejores hiperparámetros para fold #8:\n",
      "{'randomforestregressor__max_depth': 2, 'randomforestregressor__n_estimators': 20}\n",
      "Mejores hiperparámetros para fold #9:\n",
      "{'randomforestregressor__max_depth': 5, 'randomforestregressor__n_estimators': 10}\n",
      "Mejores hiperparámetros para fold #10:\n",
      "{'randomforestregressor__max_depth': 5, 'randomforestregressor__n_estimators': 5}\n"
     ]
    }
   ],
   "source": [
    "for cv_fold, estimator_in_fold in enumerate(cv_results[\"estimator\"]):\n",
    "    print(\n",
    "        f\"Mejores hiperparámetros para fold #{cv_fold + 1}:\\n\"\n",
    "        f\"{estimator_in_fold.best_params_}\"\n",
    "    )"
   ]
  },
  {
   "cell_type": "code",
   "execution_count": null,
   "metadata": {
    "colab": {
     "base_uri": "https://localhost:8080/"
    },
    "executionInfo": {
     "elapsed": 51,
     "status": "ok",
     "timestamp": 1659832720386,
     "user": {
      "displayName": "Hector Bryan Villegas Barragan",
      "userId": "05189738497377269192"
     },
     "user_tz": 300
    },
    "id": "jZOdzC01BLUm",
    "outputId": "bff032ed-dc95-4fab-da23-d64444946538"
   },
   "outputs": [
    {
     "data": {
      "text/plain": [
       "1     2507.748501\n",
       "3     8567.597084\n",
       "9     9586.891636\n",
       "6     9688.091926\n",
       "0    10533.786247\n",
       "2    15545.738169\n",
       "4    22505.459343\n",
       "8    23360.508719\n",
       "5    36983.085900\n",
       "7    44994.622343\n",
       "dtype: float64"
      ]
     },
     "execution_count": 100,
     "metadata": {},
     "output_type": "execute_result"
    }
   ],
   "source": [
    "pd.Series(-cv_test_scores).sort_values()"
   ]
  },
  {
   "cell_type": "markdown",
   "metadata": {
    "id": "tW2YfMBJUUSW"
   },
   "source": [
    "#### predicción"
   ]
  },
  {
   "cell_type": "code",
   "execution_count": null,
   "metadata": {
    "id": "O0C4MYUMPghJ"
   },
   "outputs": [],
   "source": [
    "model = make_pipeline(StandardScaler(), RandomForestRegressor(n_estimators = 20 , max_depth = 2))"
   ]
  },
  {
   "cell_type": "code",
   "execution_count": null,
   "metadata": {
    "colab": {
     "base_uri": "https://localhost:8080/"
    },
    "executionInfo": {
     "elapsed": 192,
     "status": "ok",
     "timestamp": 1659841316522,
     "user": {
      "displayName": "Hector Bryan Villegas Barragan",
      "userId": "05189738497377269192"
     },
     "user_tz": 300
    },
    "id": "VzJhUYYKP-z2",
    "outputId": "40fbe6d8-92a5-4e03-ff86-39a04214f0ef"
   },
   "outputs": [
    {
     "data": {
      "text/plain": [
       "Pipeline(steps=[('standardscaler', StandardScaler()),\n",
       "                ('randomforestregressor',\n",
       "                 RandomForestRegressor(max_depth=2, n_estimators=20))])"
      ]
     },
     "execution_count": 19,
     "metadata": {},
     "output_type": "execute_result"
    }
   ],
   "source": [
    "model.fit(x_train, y_train)"
   ]
  },
  {
   "cell_type": "code",
   "execution_count": null,
   "metadata": {
    "colab": {
     "base_uri": "https://localhost:8080/"
    },
    "executionInfo": {
     "elapsed": 280,
     "status": "ok",
     "timestamp": 1659841336062,
     "user": {
      "displayName": "Hector Bryan Villegas Barragan",
      "userId": "05189738497377269192"
     },
     "user_tz": 300
    },
    "id": "fkQNWKW3QIR7",
    "outputId": "eca03ed1-12b2-476c-cb9e-ad3d7fd4c349"
   },
   "outputs": [
    {
     "data": {
      "text/plain": [
       "0.7008224896085669"
      ]
     },
     "execution_count": 20,
     "metadata": {},
     "output_type": "execute_result"
    }
   ],
   "source": [
    "model.score(x_test, y_test)"
   ]
  },
  {
   "cell_type": "code",
   "execution_count": null,
   "metadata": {
    "id": "ZGZWRN0STjT4"
   },
   "outputs": [],
   "source": [
    "y_predict = model.predict(X)"
   ]
  },
  {
   "cell_type": "code",
   "execution_count": null,
   "metadata": {
    "id": "rRXRRpsDTmoR"
   },
   "outputs": [],
   "source": [
    "df['y'] = y_predict"
   ]
  },
  {
   "cell_type": "code",
   "execution_count": null,
   "metadata": {
    "id": "WFFuV2g4TJJV"
   },
   "outputs": [],
   "source": [
    "#!pip install geopandas"
   ]
  },
  {
   "cell_type": "code",
   "execution_count": null,
   "metadata": {
    "id": "cWjxmsHrSYcB"
   },
   "outputs": [],
   "source": [
    "import geopandas as gpd"
   ]
  },
  {
   "cell_type": "code",
   "execution_count": null,
   "metadata": {
    "id": "INpv2dOdTH__"
   },
   "outputs": [],
   "source": [
    "geo_sect = gpd.read_file('/content/drive/MyDrive/Proyecto Introduccion a la Ciencia de Datos/data/map.geojson')"
   ]
  },
  {
   "cell_type": "code",
   "execution_count": null,
   "metadata": {
    "id": "bTXyjMU5TSuf"
   },
   "outputs": [],
   "source": [
    "geo_sect = geo_sect.merge(df, left_on='Name', right_on='sector')\n",
    "geo_sect.drop_duplicates('Name', inplace=True)"
   ]
  },
  {
   "cell_type": "code",
   "execution_count": null,
   "metadata": {
    "id": "so-UgFQCT26U"
   },
   "outputs": [],
   "source": [
    "df_gye = geo_sect.loc[geo_sect['ciudad']=='Guayaquil']\n",
    "df_uio = geo_sect.loc[geo_sect['ciudad']=='Quito']"
   ]
  },
  {
   "cell_type": "markdown",
   "metadata": {
    "id": "H8c43CvyUx-W"
   },
   "source": [
    "predicciones"
   ]
  },
  {
   "cell_type": "code",
   "execution_count": null,
   "metadata": {
    "colab": {
     "base_uri": "https://localhost:8080/",
     "height": 611
    },
    "executionInfo": {
     "elapsed": 955,
     "status": "ok",
     "timestamp": 1659842473017,
     "user": {
      "displayName": "Hector Bryan Villegas Barragan",
      "userId": "05189738497377269192"
     },
     "user_tz": 300
    },
    "id": "akt-RWC1UEOb",
    "outputId": "bc0ac93a-e246-4de1-bf02-2ebd86f46ae2"
   },
   "outputs": [
    {
     "data": {
      "image/png": "[encoded data removed]",
      "text/plain": [
       "<Figure size 1440x720 with 2 Axes>"
      ]
     },
     "metadata": {},
     "output_type": "display_data"
    }
   ],
   "source": [
    "# Control del tamaño de la figura del mapa\n",
    "fig, axes = plt.subplots(figsize=(20, 10))\n",
    "\n",
    "# Control del título y los ejes\n",
    "\n",
    "_ = axes.set_xlabel('Longitud')\n",
    "_ = axes.set_ylabel('Latitud')\n",
    "# Mostrar el mapa finalizado\n",
    "_ = df_uio.plot(column='y', cmap='viridis', ax=axes, zorder=5, legend=True)"
   ]
  },
  {
   "cell_type": "code",
   "execution_count": null,
   "metadata": {
    "colab": {
     "base_uri": "https://localhost:8080/",
     "height": 611
    },
    "executionInfo": {
     "elapsed": 899,
     "status": "ok",
     "timestamp": 1659842477174,
     "user": {
      "displayName": "Hector Bryan Villegas Barragan",
      "userId": "05189738497377269192"
     },
     "user_tz": 300
    },
    "id": "mNrAB8u6UO-8",
    "outputId": "ae9decfb-edd7-47db-f003-eb8a61f574dc"
   },
   "outputs": [
    {
     "data": {
      "image/png": "[encoded data removed]",
      "text/plain": [
       "<Figure size 1440x720 with 2 Axes>"
      ]
     },
     "metadata": {},
     "output_type": "display_data"
    }
   ],
   "source": [
    "# Control del tamaño de la figura del mapa\n",
    "fig, axes = plt.subplots(figsize=(20, 10))\n",
    "\n",
    "# Control del título y los ejes\n",
    "\n",
    "_ = axes.set_xlabel('Longitud')\n",
    "_ = axes.set_ylabel('Latitud')\n",
    "# Mostrar el mapa finalizado\n",
    "_ = df_gye.plot(column='y', cmap='viridis', ax=axes, zorder=5, legend=True)"
   ]
  },
  {
   "cell_type": "markdown",
   "metadata": {
    "id": "2OteBBfUU1Rz"
   },
   "source": [
    "valores reales"
   ]
  },
  {
   "cell_type": "code",
   "execution_count": null,
   "metadata": {
    "colab": {
     "base_uri": "https://localhost:8080/",
     "height": 611
    },
    "executionInfo": {
     "elapsed": 1079,
     "status": "ok",
     "timestamp": 1659842596909,
     "user": {
      "displayName": "Hector Bryan Villegas Barragan",
      "userId": "05189738497377269192"
     },
     "user_tz": 300
    },
    "id": "xN7AFdJ9U2Rj",
    "outputId": "3793d8a1-2c23-4c67-92e7-760112cb5cdc"
   },
   "outputs": [
    {
     "data": {
      "image/png": "[encoded data removed]",
      "text/plain": [
       "<Figure size 1440x720 with 2 Axes>"
      ]
     },
     "metadata": {},
     "output_type": "display_data"
    }
   ],
   "source": [
    "# Control del tamaño de la figura del mapa\n",
    "fig, axes = plt.subplots(figsize=(20, 10))\n",
    "\n",
    "# Control del título y los ejes\n",
    "\n",
    "_ = axes.set_xlabel('Longitud')\n",
    "_ = axes.set_ylabel('Latitud')\n",
    "# Mostrar el mapa finalizado\n",
    "_ = df_uio.plot(column='ingpc_mean', cmap='viridis', ax=axes, zorder=5, legend=True)"
   ]
  },
  {
   "cell_type": "code",
   "execution_count": null,
   "metadata": {
    "colab": {
     "base_uri": "https://localhost:8080/",
     "height": 611
    },
    "executionInfo": {
     "elapsed": 1249,
     "status": "ok",
     "timestamp": 1659842618755,
     "user": {
      "displayName": "Hector Bryan Villegas Barragan",
      "userId": "05189738497377269192"
     },
     "user_tz": 300
    },
    "id": "a5-LUchHVAo2",
    "outputId": "13846882-91b6-4ee2-9eb2-b0caadf1ae20"
   },
   "outputs": [
    {
     "data": {
      "image/png": "[encoded data removed]",
      "text/plain": [
       "<Figure size 1440x720 with 2 Axes>"
      ]
     },
     "metadata": {},
     "output_type": "display_data"
    }
   ],
   "source": [
    "# Control del tamaño de la figura del mapa\n",
    "fig, axes = plt.subplots(figsize=(20, 10))\n",
    "\n",
    "# Control del título y los ejes\n",
    "\n",
    "_ = axes.set_xlabel('Longitud')\n",
    "_ = axes.set_ylabel('Latitud')\n",
    "# Mostrar el mapa finalizado\n",
    "_ = df_gye.plot(column='ingpc_mean', cmap='viridis', ax=axes, zorder=5, legend=True)"
   ]
  },
  {
   "cell_type": "code",
   "execution_count": null,
   "metadata": {
    "id": "4fx2SRz2VF7P"
   },
   "outputs": [],
   "source": []
  }
 ],
 "metadata": {
  "colab": {
   "authorship_tag": "ABX9TyMbMJQWqwyyAncYz75CAS5J",
   "mount_file_id": "1PxnLIX6WY4fOnjuzruvPMGDXXPDgH4gn",
   "name": "metodologia-modelos.ipynb",
   "provenance": []
  },
  "kernelspec": {
   "display_name": "Python 3 (ipykernel)",
   "language": "python",
   "name": "python3"
  },
  "language_info": {
   "codemirror_mode": {
    "name": "ipython",
    "version": 3
   },
   "file_extension": ".py",
   "mimetype": "text/x-python",
   "name": "python",
   "nbconvert_exporter": "python",
   "pygments_lexer": "ipython3",
   "version": "3.10.3"
  }
 },
 "nbformat": 4,
 "nbformat_minor": 1
}
