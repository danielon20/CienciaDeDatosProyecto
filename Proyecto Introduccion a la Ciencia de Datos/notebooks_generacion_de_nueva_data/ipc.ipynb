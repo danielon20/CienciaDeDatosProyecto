{
 "cells": [
  {
   "cell_type": "code",
   "execution_count": null,
   "metadata": {
    "id": "7sEef2A8ES1I"
   },
   "outputs": [],
   "source": [
    "hv_path1 = '/content/drive/MyDrive/Proyecto Introduccion a la Ciencia de Datos/data/neighborhood_2017_ingpc_new_1.csv'"
   ]
  },
  {
   "cell_type": "code",
   "execution_count": null,
   "metadata": {
    "id": "Q-p0l85RGNov"
   },
   "outputs": [],
   "source": [
    "hv_path2 = '/content/drive/MyDrive/Proyecto Introduccion a la Ciencia de Datos/data/neighborhood_2017_ingpc_new_2.csv'"
   ]
  },
  {
   "cell_type": "code",
   "execution_count": null,
   "metadata": {
    "id": "cczHKIgrGUif"
   },
   "outputs": [],
   "source": [
    "hv_path3 = '/content/drive/MyDrive/Proyecto Introduccion a la Ciencia de Datos/data/neighborhood_2017_ingpc_new_3.csv'"
   ]
  },
  {
   "cell_type": "code",
   "execution_count": null,
   "metadata": {
    "id": "Am3rXqblGZxj"
   },
   "outputs": [],
   "source": [
    "hv_path4 = '/content/drive/MyDrive/Proyecto Introduccion a la Ciencia de Datos/data/neighborhood_2017_ingpc_new_4.csv'"
   ]
  },
  {
   "cell_type": "code",
   "execution_count": null,
   "metadata": {
    "id": "NTy9On1DE4FW"
   },
   "outputs": [],
   "source": [
    "import pandas as pd"
   ]
  },
  {
   "cell_type": "code",
   "execution_count": null,
   "metadata": {
    "id": "m4qPx33CF44u"
   },
   "outputs": [],
   "source": [
    "ipc = pd.read_csv(hv_path1)"
   ]
  },
  {
   "cell_type": "code",
   "execution_count": null,
   "metadata": {
    "colab": {
     "base_uri": "https://localhost:8080/",
     "height": 424
    },
    "executionInfo": {
     "elapsed": 339,
     "status": "ok",
     "timestamp": 1657573871407,
     "user": {
      "displayName": "Hector Bryan Villegas Barragan",
      "userId": "05189738497377269192"
     },
     "user_tz": 300
    },
    "id": "RiVPFb_9F_OQ",
    "outputId": "878b90ec-9612-4f49-cb96-50318c641cb8"
   },
   "outputs": [
    {
     "data": {
      "text/html": [
       "\n",
       "  <div id=\"df-2373fe47-0ca6-457c-a126-09f53c9892ec\">\n",
       "    <div class=\"colab-df-container\">\n",
       "      <div>\n",
       "<style scoped>\n",
       "    .dataframe tbody tr th:only-of-type {\n",
       "        vertical-align: middle;\n",
       "    }\n",
       "\n",
       "    .dataframe tbody tr th {\n",
       "        vertical-align: top;\n",
       "    }\n",
       "\n",
       "    .dataframe thead th {\n",
       "        text-align: right;\n",
       "    }\n",
       "</style>\n",
       "<table border=\"1\" class=\"dataframe\">\n",
       "  <thead>\n",
       "    <tr style=\"text-align: right;\">\n",
       "      <th></th>\n",
       "      <th>neighborhood</th>\n",
       "      <th>hogares</th>\n",
       "      <th>ingpc_mean</th>\n",
       "      <th>ingpc_median</th>\n",
       "      <th>iqr</th>\n",
       "      <th>gini</th>\n",
       "    </tr>\n",
       "  </thead>\n",
       "  <tbody>\n",
       "    <tr>\n",
       "      <th>0</th>\n",
       "      <td>Abel Gilbert</td>\n",
       "      <td>99</td>\n",
       "      <td>211.797980</td>\n",
       "      <td>165.000000</td>\n",
       "      <td>178.050000</td>\n",
       "      <td>0.304220</td>\n",
       "    </tr>\n",
       "    <tr>\n",
       "      <th>1</th>\n",
       "      <td>Acacias</td>\n",
       "      <td>24</td>\n",
       "      <td>207.750000</td>\n",
       "      <td>200.500000</td>\n",
       "      <td>146.500000</td>\n",
       "      <td>0.223927</td>\n",
       "    </tr>\n",
       "    <tr>\n",
       "      <th>2</th>\n",
       "      <td>Academia Logos</td>\n",
       "      <td>57</td>\n",
       "      <td>780.929825</td>\n",
       "      <td>700.000000</td>\n",
       "      <td>271.650000</td>\n",
       "      <td>0.182463</td>\n",
       "    </tr>\n",
       "    <tr>\n",
       "      <th>3</th>\n",
       "      <td>Alborada</td>\n",
       "      <td>73</td>\n",
       "      <td>522.780822</td>\n",
       "      <td>429.750000</td>\n",
       "      <td>517.541667</td>\n",
       "      <td>0.299463</td>\n",
       "    </tr>\n",
       "    <tr>\n",
       "      <th>4</th>\n",
       "      <td>Arcadia</td>\n",
       "      <td>57</td>\n",
       "      <td>780.929825</td>\n",
       "      <td>700.000000</td>\n",
       "      <td>271.650000</td>\n",
       "      <td>0.182463</td>\n",
       "    </tr>\n",
       "    <tr>\n",
       "      <th>...</th>\n",
       "      <td>...</td>\n",
       "      <td>...</td>\n",
       "      <td>...</td>\n",
       "      <td>...</td>\n",
       "      <td>...</td>\n",
       "      <td>...</td>\n",
       "    </tr>\n",
       "    <tr>\n",
       "      <th>87</th>\n",
       "      <td>TerraNostra</td>\n",
       "      <td>57</td>\n",
       "      <td>780.929825</td>\n",
       "      <td>700.000000</td>\n",
       "      <td>271.650000</td>\n",
       "      <td>0.182463</td>\n",
       "    </tr>\n",
       "    <tr>\n",
       "      <th>88</th>\n",
       "      <td>Turubamba</td>\n",
       "      <td>112</td>\n",
       "      <td>261.080357</td>\n",
       "      <td>239.416667</td>\n",
       "      <td>247.466667</td>\n",
       "      <td>0.277010</td>\n",
       "    </tr>\n",
       "    <tr>\n",
       "      <th>89</th>\n",
       "      <td>Urbanor</td>\n",
       "      <td>82</td>\n",
       "      <td>308.158537</td>\n",
       "      <td>291.000000</td>\n",
       "      <td>195.089583</td>\n",
       "      <td>0.249712</td>\n",
       "    </tr>\n",
       "    <tr>\n",
       "      <th>90</th>\n",
       "      <td>Urdenor</td>\n",
       "      <td>40</td>\n",
       "      <td>555.400000</td>\n",
       "      <td>359.166667</td>\n",
       "      <td>359.047619</td>\n",
       "      <td>0.290162</td>\n",
       "    </tr>\n",
       "    <tr>\n",
       "      <th>91</th>\n",
       "      <td>Vergeles</td>\n",
       "      <td>27</td>\n",
       "      <td>204.370370</td>\n",
       "      <td>205.000000</td>\n",
       "      <td>109.666667</td>\n",
       "      <td>0.172130</td>\n",
       "    </tr>\n",
       "  </tbody>\n",
       "</table>\n",
       "<p>92 rows × 6 columns</p>\n",
       "</div>\n",
       "      <button class=\"colab-df-convert\" onclick=\"convertToInteractive('df-2373fe47-0ca6-457c-a126-09f53c9892ec')\"\n",
       "              title=\"Convert this dataframe to an interactive table.\"\n",
       "              style=\"display:none;\">\n",
       "        \n",
       "  <svg xmlns=\"http://www.w3.org/2000/svg\" height=\"24px\"viewBox=\"0 0 24 24\"\n",
       "       width=\"24px\">\n",
       "    <path d=\"M0 0h24v24H0V0z\" fill=\"none\"/>\n",
       "    <path d=\"M18.56 5.44l.94 2.06.94-2.06 2.06-.94-2.06-.94-.94-2.06-.94 2.06-2.06.94zm-11 1L8.5 8.5l.94-2.06 2.06-.94-2.06-.94L8.5 2.5l-.94 2.06-2.06.94zm10 10l.94 2.06.94-2.06 2.06-.94-2.06-.94-.94-2.06-.94 2.06-2.06.94z\"/><path d=\"M17.41 7.96l-1.37-1.37c-.4-.4-.92-.59-1.43-.59-.52 0-1.04.2-1.43.59L10.3 9.45l-7.72 7.72c-.78.78-.78 2.05 0 2.83L4 21.41c.39.39.9.59 1.41.59.51 0 1.02-.2 1.41-.59l7.78-7.78 2.81-2.81c.8-.78.8-2.07 0-2.86zM5.41 20L4 18.59l7.72-7.72 1.47 1.35L5.41 20z\"/>\n",
       "  </svg>\n",
       "      </button>\n",
       "      \n",
       "  <style>\n",
       "    .colab-df-container {\n",
       "      display:flex;\n",
       "      flex-wrap:wrap;\n",
       "      gap: 12px;\n",
       "    }\n",
       "\n",
       "    .colab-df-convert {\n",
       "      background-color: #E8F0FE;\n",
       "      border: none;\n",
       "      border-radius: 50%;\n",
       "      cursor: pointer;\n",
       "      display: none;\n",
       "      fill: #1967D2;\n",
       "      height: 32px;\n",
       "      padding: 0 0 0 0;\n",
       "      width: 32px;\n",
       "    }\n",
       "\n",
       "    .colab-df-convert:hover {\n",
       "      background-color: #E2EBFA;\n",
       "      box-shadow: 0px 1px 2px rgba(60, 64, 67, 0.3), 0px 1px 3px 1px rgba(60, 64, 67, 0.15);\n",
       "      fill: #174EA6;\n",
       "    }\n",
       "\n",
       "    [theme=dark] .colab-df-convert {\n",
       "      background-color: #3B4455;\n",
       "      fill: #D2E3FC;\n",
       "    }\n",
       "\n",
       "    [theme=dark] .colab-df-convert:hover {\n",
       "      background-color: #434B5C;\n",
       "      box-shadow: 0px 1px 3px 1px rgba(0, 0, 0, 0.15);\n",
       "      filter: drop-shadow(0px 1px 2px rgba(0, 0, 0, 0.3));\n",
       "      fill: #FFFFFF;\n",
       "    }\n",
       "  </style>\n",
       "\n",
       "      <script>\n",
       "        const buttonEl =\n",
       "          document.querySelector('#df-2373fe47-0ca6-457c-a126-09f53c9892ec button.colab-df-convert');\n",
       "        buttonEl.style.display =\n",
       "          google.colab.kernel.accessAllowed ? 'block' : 'none';\n",
       "\n",
       "        async function convertToInteractive(key) {\n",
       "          const element = document.querySelector('#df-2373fe47-0ca6-457c-a126-09f53c9892ec');\n",
       "          const dataTable =\n",
       "            await google.colab.kernel.invokeFunction('convertToInteractive',\n",
       "                                                     [key], {});\n",
       "          if (!dataTable) return;\n",
       "\n",
       "          const docLinkHtml = 'Like what you see? Visit the ' +\n",
       "            '<a target=\"_blank\" href=https://colab.research.google.com/notebooks/data_table.ipynb>data table notebook</a>'\n",
       "            + ' to learn more about interactive tables.';\n",
       "          element.innerHTML = '';\n",
       "          dataTable['output_type'] = 'display_data';\n",
       "          await google.colab.output.renderOutput(dataTable, element);\n",
       "          const docLink = document.createElement('div');\n",
       "          docLink.innerHTML = docLinkHtml;\n",
       "          element.appendChild(docLink);\n",
       "        }\n",
       "      </script>\n",
       "    </div>\n",
       "  </div>\n",
       "  "
      ],
      "text/plain": [
       "      neighborhood  hogares  ingpc_mean  ingpc_median         iqr      gini\n",
       "0     Abel Gilbert       99  211.797980    165.000000  178.050000  0.304220\n",
       "1          Acacias       24  207.750000    200.500000  146.500000  0.223927\n",
       "2   Academia Logos       57  780.929825    700.000000  271.650000  0.182463\n",
       "3         Alborada       73  522.780822    429.750000  517.541667  0.299463\n",
       "4          Arcadia       57  780.929825    700.000000  271.650000  0.182463\n",
       "..             ...      ...         ...           ...         ...       ...\n",
       "87     TerraNostra       57  780.929825    700.000000  271.650000  0.182463\n",
       "88       Turubamba      112  261.080357    239.416667  247.466667  0.277010\n",
       "89         Urbanor       82  308.158537    291.000000  195.089583  0.249712\n",
       "90         Urdenor       40  555.400000    359.166667  359.047619  0.290162\n",
       "91        Vergeles       27  204.370370    205.000000  109.666667  0.172130\n",
       "\n",
       "[92 rows x 6 columns]"
      ]
     },
     "execution_count": 11,
     "metadata": {},
     "output_type": "execute_result"
    }
   ],
   "source": [
    "ipc"
   ]
  },
  {
   "cell_type": "code",
   "execution_count": null,
   "metadata": {
    "id": "CcmAKeXhIDMs"
   },
   "outputs": [],
   "source": [
    "ipc2 = pd.read_csv(hv_path2)\n",
    "ipc3 = pd.read_csv(hv_path3)\n",
    "ipc4 = pd.read_csv(hv_path4)"
   ]
  },
  {
   "cell_type": "code",
   "execution_count": null,
   "metadata": {
    "id": "HD7_mA16IGOy"
   },
   "outputs": [],
   "source": [
    "n1 = list(ipc['neighborhood'].unique())"
   ]
  },
  {
   "cell_type": "code",
   "execution_count": null,
   "metadata": {
    "id": "QBCXD74lMJ20"
   },
   "outputs": [],
   "source": [
    "n2 = list(ipc2['neighborhood'].unique())"
   ]
  },
  {
   "cell_type": "code",
   "execution_count": null,
   "metadata": {
    "id": "hoock6lSMTsZ"
   },
   "outputs": [],
   "source": [
    "n3 = list(ipc3['neighborhood'].unique())"
   ]
  },
  {
   "cell_type": "code",
   "execution_count": null,
   "metadata": {
    "id": "1Un4BOIMMfrL"
   },
   "outputs": [],
   "source": [
    "n4 = list(ipc4['neighborhood'].unique())"
   ]
  },
  {
   "cell_type": "code",
   "execution_count": null,
   "metadata": {
    "id": "u1Mhl7gKMjGz"
   },
   "outputs": [],
   "source": [
    "n = ''"
   ]
  },
  {
   "cell_type": "code",
   "execution_count": null,
   "metadata": {
    "id": "IUtCaUbiMrFR"
   },
   "outputs": [],
   "source": [
    "data = dict()"
   ]
  },
  {
   "cell_type": "code",
   "execution_count": null,
   "metadata": {
    "id": "kvReOmkDMrpF"
   },
   "outputs": [],
   "source": [
    "for v in n1:\n",
    "  if v in data:\n",
    "    data[v]['n'] += 1\n",
    "    data[v]['dt'].append('1')\n",
    "  else:\n",
    "    data[v] = {'n': 1, 'dt': [ '1']}"
   ]
  },
  {
   "cell_type": "code",
   "execution_count": null,
   "metadata": {
    "id": "GDDovZaLOFry"
   },
   "outputs": [],
   "source": [
    "for v in n2:\n",
    "  if v in data:\n",
    "    data[v]['n'] += 1\n",
    "    data[v]['dt'].append('2')\n",
    "  else:\n",
    "    data[v] = {'n': 1, 'dt': [ '2']}"
   ]
  },
  {
   "cell_type": "code",
   "execution_count": null,
   "metadata": {
    "id": "3XgAI6FfOKnc"
   },
   "outputs": [],
   "source": [
    "for v in n3:\n",
    "  if v in data:\n",
    "    data[v]['n'] += 1\n",
    "    data[v]['dt'].append('3')\n",
    "  else:\n",
    "    data[v] = {'n': 1, 'dt': [ '3']}"
   ]
  },
  {
   "cell_type": "code",
   "execution_count": null,
   "metadata": {
    "id": "8Ue50csKTpT8"
   },
   "outputs": [],
   "source": [
    "for v in n4:\n",
    "  if v in data:\n",
    "    data[v]['n'] += 1\n",
    "    data[v]['dt'].append('4')\n",
    "  else:\n",
    "    data[v] = {'n': 1, 'dt': [ '4']}"
   ]
  },
  {
   "cell_type": "code",
   "execution_count": null,
   "metadata": {
    "colab": {
     "base_uri": "https://localhost:8080/"
    },
    "executionInfo": {
     "elapsed": 215,
     "status": "ok",
     "timestamp": 1657577356744,
     "user": {
      "displayName": "Hector Bryan Villegas Barragan",
      "userId": "05189738497377269192"
     },
     "user_tz": 300
    },
    "id": "49RAuxIXNPDf",
    "outputId": "3fc9a305-1fbc-4662-f505-cc351cb1c3c2"
   },
   "outputs": [
    {
     "data": {
      "text/plain": [
       "{'Abel Gilbert': {'dt': ['1', '2', '3', '4'], 'n': 4},\n",
       " 'Acacias': {'dt': ['1', '2', '3', '4'], 'n': 4},\n",
       " 'Academia Logos': {'dt': ['1', '2'], 'n': 2},\n",
       " 'Alborada': {'dt': ['1', '2', '3', '4'], 'n': 4},\n",
       " 'Arcadia': {'dt': ['1', '2'], 'n': 2},\n",
       " 'Argelia': {'dt': ['1', '2', '3', '4'], 'n': 4},\n",
       " 'Atahualpa': {'dt': ['1', '2', '3', '4'], 'n': 4},\n",
       " 'Atarazana': {'dt': ['1', '2', '3', '4'], 'n': 4},\n",
       " 'Balerio Estacio': {'dt': ['1', '2', '3', '4'], 'n': 4},\n",
       " 'Barrio Lindo': {'dt': ['1', '2', '3', '4'], 'n': 4},\n",
       " 'Bastion Popular': {'dt': ['1', '2', '3', '4'], 'n': 4},\n",
       " 'Batallon del Suburbio': {'dt': ['1', '2', '3', '4'], 'n': 4},\n",
       " 'Belisario Quevedo': {'dt': ['1', '2', '3', '4'], 'n': 4},\n",
       " 'Bellavista': {'dt': ['1', '2', '3', '4'], 'n': 4},\n",
       " 'Carcelen': {'dt': ['1', '2', '3', '4'], 'n': 4},\n",
       " 'Centro Historico': {'dt': ['1', '2', '3', '4'], 'n': 4},\n",
       " 'Cerro San Eduardo': {'dt': ['1', '2', '3', '4'], 'n': 4},\n",
       " 'Cerro del Carmen': {'dt': ['1', '2', '3', '4'], 'n': 4},\n",
       " 'Chillogallo': {'dt': ['1', '2', '3', '4'], 'n': 4},\n",
       " 'Chimbacalle': {'dt': ['1', '2', '3', '4'], 'n': 4},\n",
       " 'Ciudadela 9 de Octubre': {'dt': ['1', '2', '3', '4'], 'n': 4},\n",
       " 'Colinas de la Florida': {'dt': ['1', '2', '3', '4'], 'n': 4},\n",
       " 'Comite del Pueblo': {'dt': ['1', '2', '3', '4'], 'n': 4},\n",
       " 'Condor': {'dt': ['3', '4'], 'n': 2},\n",
       " 'Cooperativa 5 de Diciembre': {'dt': ['3', '4'], 'n': 2},\n",
       " 'Cotocollao': {'dt': ['1', '2', '3', '4'], 'n': 4},\n",
       " 'Cristo del Consuelo': {'dt': ['1', '2', '3', '4'], 'n': 4},\n",
       " 'El Fortin': {'dt': ['1', '2', '3', '4'], 'n': 4},\n",
       " 'El Inca': {'dt': ['1', '2', '3', '4'], 'n': 4},\n",
       " 'El Pintado': {'dt': ['1', '2', '3', '4'], 'n': 4},\n",
       " 'El Rio': {'dt': ['4'], 'n': 1},\n",
       " 'El condado': {'dt': ['1', '2', '3', '4'], 'n': 4},\n",
       " 'Estero Salado': {'dt': ['1', '2', '3', '4'], 'n': 4},\n",
       " 'Febres Cordero': {'dt': ['1', '2', '3', '4'], 'n': 4},\n",
       " 'Flor de Bastion': {'dt': ['1', '2', '3', '4'], 'n': 4},\n",
       " 'Floresta': {'dt': ['1', '2', '3', '4'], 'n': 4},\n",
       " 'Florida': {'dt': ['1', '2', '3', '4'], 'n': 4},\n",
       " 'Garzota': {'dt': ['1', '2', '3', '4'], 'n': 4},\n",
       " 'Guamani': {'dt': ['1', '2', '3', '4'], 'n': 4},\n",
       " 'Guanguala': {'dt': ['1', '2', '3', '4'], 'n': 4},\n",
       " 'Guasmo Norte - Rio Guayas': {'dt': ['1', '2', '3', '4'], 'n': 4},\n",
       " 'Guasmo Oeste': {'dt': ['1', '2', '3', '4'], 'n': 4},\n",
       " 'Guasmo Sur': {'dt': ['1', '2', '3', '4'], 'n': 4},\n",
       " 'Guasmo Sur - La Union': {'dt': ['1', '2', '3', '4'], 'n': 4},\n",
       " 'Guayacanes': {'dt': ['1', '2', '3', '4'], 'n': 4},\n",
       " 'Huancavilca Norte': {'dt': ['1', '2', '3', '4'], 'n': 4},\n",
       " 'Isla Trinitaria': {'dt': ['1', '2', '3', '4'], 'n': 4},\n",
       " 'Iñaquito': {'dt': ['1', '2', '3', '4'], 'n': 4},\n",
       " 'Juan Montalvo': {'dt': ['1', '2', '3', '4'], 'n': 4},\n",
       " 'La Ecuatoriana': {'dt': ['1', '2', '3', '4'], 'n': 4},\n",
       " 'La Ferroviaria': {'dt': ['1', '2', '3', '4'], 'n': 4},\n",
       " 'La Luz': {'dt': ['1', '2', '3', '4'], 'n': 4},\n",
       " 'La Mena': {'dt': ['1', '2', '3', '4'], 'n': 4},\n",
       " 'La Paz': {'dt': ['1', '2', '3', '4'], 'n': 4},\n",
       " 'La Tola': {'dt': ['1', '2', '3', '4'], 'n': 4},\n",
       " 'La Vicentina': {'dt': ['1', '2', '3', '4'], 'n': 4},\n",
       " 'Las Americas': {'dt': ['1', '2', '3', '4'], 'n': 4},\n",
       " 'Los Esteros': {'dt': ['1', '2', '3', '4'], 'n': 4},\n",
       " 'Lotizacion Industrial Pascuales': {'dt': ['3', '4'], 'n': 2},\n",
       " 'Luz del Guayas': {'dt': ['1', '2', '3', '4'], 'n': 4},\n",
       " 'Mapasingue': {'dt': ['1', '2', '3', '4'], 'n': 4},\n",
       " 'MarcoPamba': {'dt': ['1', '2', '3', '4'], 'n': 4},\n",
       " 'Mariscal Sucre': {'dt': ['1', '2'], 'n': 2},\n",
       " 'Monte Sinai': {'dt': ['1', '2', '3', '4'], 'n': 4},\n",
       " 'Mucho Lote': {'dt': ['1', '2', '3', '4'], 'n': 4},\n",
       " 'Nueva Prosperina': {'dt': ['1', '2', '3', '4'], 'n': 4},\n",
       " 'Orquideas': {'dt': ['1', '2', '3', '4'], 'n': 4},\n",
       " 'Parroquia Garcia Moreno': {'dt': ['1', '2', '3', '4'], 'n': 4},\n",
       " 'Parroquia Letamendi': {'dt': ['1', '2', '3', '4'], 'n': 4},\n",
       " 'Parroquia Sucre': {'dt': ['1', '2', '3', '4'], 'n': 4},\n",
       " 'Parroquia Urdaneta': {'dt': ['1', '2', '3', '4'], 'n': 4},\n",
       " 'Pascuales': {'dt': ['1', '2', '3', '4'], 'n': 4},\n",
       " 'Ponceano': {'dt': ['1', '2', '3', '4'], 'n': 4},\n",
       " 'Pradera': {'dt': ['1', '2', '3', '4'], 'n': 4},\n",
       " 'Prosperina': {'dt': ['1', '2', '3', '4'], 'n': 4},\n",
       " 'Puerto Lisa': {'dt': ['1', '2', '3', '4'], 'n': 4},\n",
       " 'Quitumbe': {'dt': ['1', '2', '3', '4'], 'n': 4},\n",
       " 'Rosales': {'dt': ['1', '2', '3', '4'], 'n': 4},\n",
       " 'Samanes': {'dt': ['1', '2', '3', '4'], 'n': 4},\n",
       " 'San Bartolo': {'dt': ['1', '2', '3', '4'], 'n': 4},\n",
       " 'San Carlos': {'dt': ['1', '2', '3', '4'], 'n': 4},\n",
       " 'San Francisco': {'dt': ['1', '2', '3', '4'], 'n': 4},\n",
       " 'San Isidro del Inca': {'dt': ['1', '2', '3', '4'], 'n': 4},\n",
       " 'San Juan': {'dt': ['1', '2', '3', '4'], 'n': 4},\n",
       " 'Santa Anita': {'dt': ['1', '2', '3', '4'], 'n': 4},\n",
       " 'Santa Isabel': {'dt': ['1', '2', '3', '4'], 'n': 4},\n",
       " 'Santa Maria de Cotocollao': {'dt': ['1', '2', '3', '4'], 'n': 4},\n",
       " 'Santa Rita': {'dt': ['1', '2', '3', '4'], 'n': 4},\n",
       " 'Sauces': {'dt': ['1', '2', '3', '4'], 'n': 4},\n",
       " 'Sergio Toral': {'dt': ['1', '2', '3', '4'], 'n': 4},\n",
       " 'Solanda': {'dt': ['1', '2', '3', '4'], 'n': 4},\n",
       " 'TerraNostra': {'dt': ['1', '2'], 'n': 2},\n",
       " 'Turubamba': {'dt': ['1', '2', '3', '4'], 'n': 4},\n",
       " 'Urbanor': {'dt': ['1', '2', '3', '4'], 'n': 4},\n",
       " 'Urdenor': {'dt': ['1', '2', '3', '4'], 'n': 4},\n",
       " 'Vergeles': {'dt': ['1', '2', '3', '4'], 'n': 4},\n",
       " 'Vista Sol': {'dt': ['4'], 'n': 1}}"
      ]
     },
     "execution_count": 72,
     "metadata": {},
     "output_type": "execute_result"
    }
   ],
   "source": [
    "data"
   ]
  },
  {
   "cell_type": "code",
   "execution_count": null,
   "metadata": {
    "id": "JVeg2EeSN-8j"
   },
   "outputs": [],
   "source": [
    "df = pd.read_csv('/content/drive/MyDrive/Proyecto Introduccion a la Ciencia de Datos/data/datos_con_sector.csv')"
   ]
  },
  {
   "cell_type": "code",
   "execution_count": null,
   "metadata": {
    "id": "HzMrO07YlJgB"
   },
   "outputs": [],
   "source": [
    "uio = df[df['l3'] == 'Quito']\n",
    "sectores_uio = uio['Nombre_sector'].unique()"
   ]
  },
  {
   "cell_type": "code",
   "execution_count": null,
   "metadata": {
    "id": "hm2eBa_qlaup"
   },
   "outputs": [],
   "source": [
    "gye = df[df['l3'] == 'Guayaquil']\n",
    "sectores_gye = gye['Nombre_sector'].unique()"
   ]
  },
  {
   "cell_type": "code",
   "execution_count": null,
   "metadata": {
    "colab": {
     "base_uri": "https://localhost:8080/"
    },
    "executionInfo": {
     "elapsed": 169,
     "status": "ok",
     "timestamp": 1657582036308,
     "user": {
      "displayName": "Hector Bryan Villegas Barragan",
      "userId": "05189738497377269192"
     },
     "user_tz": 300
    },
    "id": "k9xahN1eljL4",
    "outputId": "b7337fd5-f79b-42e2-d985-5b747c2b7bdb"
   },
   "outputs": [
    {
     "data": {
      "text/plain": [
       "39"
      ]
     },
     "execution_count": 8,
     "metadata": {},
     "output_type": "execute_result"
    }
   ],
   "source": [
    "len(sectores_uio)"
   ]
  },
  {
   "cell_type": "code",
   "execution_count": null,
   "metadata": {
    "colab": {
     "base_uri": "https://localhost:8080/"
    },
    "executionInfo": {
     "elapsed": 173,
     "status": "ok",
     "timestamp": 1657582046133,
     "user": {
      "displayName": "Hector Bryan Villegas Barragan",
      "userId": "05189738497377269192"
     },
     "user_tz": 300
    },
    "id": "gFFB-1bZlrIb",
    "outputId": "2f426cd2-6f55-4f25-9ef7-874ad51cc5e5"
   },
   "outputs": [
    {
     "data": {
      "text/plain": [
       "198"
      ]
     },
     "execution_count": 9,
     "metadata": {},
     "output_type": "execute_result"
    }
   ],
   "source": [
    "len(sectores_gye)"
   ]
  },
  {
   "cell_type": "code",
   "execution_count": null,
   "metadata": {
    "id": "BPHBQbLfmtJE"
   },
   "outputs": [],
   "source": [
    "dates = df['created_on']"
   ]
  },
  {
   "cell_type": "code",
   "execution_count": null,
   "metadata": {
    "id": "tQhtuBe9myo4"
   },
   "outputs": [],
   "source": [
    "dates = pd.to_datetime(dates)"
   ]
  },
  {
   "cell_type": "code",
   "execution_count": null,
   "metadata": {
    "colab": {
     "base_uri": "https://localhost:8080/"
    },
    "executionInfo": {
     "elapsed": 6,
     "status": "ok",
     "timestamp": 1657582355913,
     "user": {
      "displayName": "Hector Bryan Villegas Barragan",
      "userId": "05189738497377269192"
     },
     "user_tz": 300
    },
    "id": "t2Mkhac9m28d",
    "outputId": "96754a6d-1622-47f3-b1de-7700d215549c"
   },
   "outputs": [
    {
     "data": {
      "text/plain": [
       "Timestamp('2020-07-26 00:00:00')"
      ]
     },
     "execution_count": 12,
     "metadata": {},
     "output_type": "execute_result"
    }
   ],
   "source": [
    "dates.min()"
   ]
  },
  {
   "cell_type": "code",
   "execution_count": null,
   "metadata": {
    "colab": {
     "base_uri": "https://localhost:8080/"
    },
    "executionInfo": {
     "elapsed": 181,
     "status": "ok",
     "timestamp": 1657582364611,
     "user": {
      "displayName": "Hector Bryan Villegas Barragan",
      "userId": "05189738497377269192"
     },
     "user_tz": 300
    },
    "id": "aVzovsN_m5Bc",
    "outputId": "018eaadb-a4a9-42d9-f964-e8c97d44a291"
   },
   "outputs": [
    {
     "data": {
      "text/plain": [
       "Timestamp('2021-08-19 00:00:00')"
      ]
     },
     "execution_count": 13,
     "metadata": {},
     "output_type": "execute_result"
    }
   ],
   "source": [
    "dates.max()"
   ]
  },
  {
   "cell_type": "code",
   "execution_count": null,
   "metadata": {
    "id": "9sH-WCnzmwkE"
   },
   "outputs": [],
   "source": []
  },
  {
   "cell_type": "code",
   "execution_count": null,
   "metadata": {
    "id": "USrzTJJoOiUj"
   },
   "outputs": [],
   "source": [
    "sectores = df['Nombre_sector'].unique()"
   ]
  },
  {
   "cell_type": "code",
   "execution_count": null,
   "metadata": {
    "colab": {
     "base_uri": "https://localhost:8080/"
    },
    "executionInfo": {
     "elapsed": 235,
     "status": "ok",
     "timestamp": 1657576012028,
     "user": {
      "displayName": "Hector Bryan Villegas Barragan",
      "userId": "05189738497377269192"
     },
     "user_tz": 300
    },
    "id": "e9BPhUWKOnuj",
    "outputId": "a927168d-8b77-47d8-ded2-993a41d9f10f"
   },
   "outputs": [
    {
     "data": {
      "text/plain": [
       "233"
      ]
     },
     "execution_count": 54,
     "metadata": {},
     "output_type": "execute_result"
    }
   ],
   "source": [
    "len(sectores)"
   ]
  },
  {
   "cell_type": "code",
   "execution_count": null,
   "metadata": {
    "id": "gYBzhP0HOrYY"
   },
   "outputs": [],
   "source": [
    "sectores_ipc = list(data.keys())"
   ]
  },
  {
   "cell_type": "code",
   "execution_count": null,
   "metadata": {
    "colab": {
     "base_uri": "https://localhost:8080/"
    },
    "executionInfo": {
     "elapsed": 13,
     "status": "ok",
     "timestamp": 1657577382348,
     "user": {
      "displayName": "Hector Bryan Villegas Barragan",
      "userId": "05189738497377269192"
     },
     "user_tz": 300
    },
    "id": "wG1ZeXUPSCU7",
    "outputId": "f5b2b750-9801-4ba5-b033-e57bb3e3d6b4"
   },
   "outputs": [
    {
     "data": {
      "text/plain": [
       "97"
      ]
     },
     "execution_count": 74,
     "metadata": {},
     "output_type": "execute_result"
    }
   ],
   "source": [
    "len(sectores_ipc)"
   ]
  },
  {
   "cell_type": "code",
   "execution_count": null,
   "metadata": {
    "id": "9YvpgAfvRuVq"
   },
   "outputs": [],
   "source": [
    "diferencia = list((set(sectores) - set(sectores_ipc)))"
   ]
  },
  {
   "cell_type": "code",
   "execution_count": null,
   "metadata": {
    "colab": {
     "base_uri": "https://localhost:8080/"
    },
    "executionInfo": {
     "elapsed": 233,
     "status": "ok",
     "timestamp": 1657577398816,
     "user": {
      "displayName": "Hector Bryan Villegas Barragan",
      "userId": "05189738497377269192"
     },
     "user_tz": 300
    },
    "id": "hkge22eER--s",
    "outputId": "dfe969da-26e5-40fd-a329-420359fb394b"
   },
   "outputs": [
    {
     "data": {
      "text/plain": [
       "139"
      ]
     },
     "execution_count": 76,
     "metadata": {},
     "output_type": "execute_result"
    }
   ],
   "source": [
    "len(diferencia)"
   ]
  },
  {
   "cell_type": "code",
   "execution_count": null,
   "metadata": {
    "id": "elgogEOwR_7F"
   },
   "outputs": [],
   "source": [
    "sectores_sin_ipc =  pd.DataFrame({'sector': diferencia})"
   ]
  },
  {
   "cell_type": "code",
   "execution_count": null,
   "metadata": {
    "id": "7B_Dc72jSjDl"
   },
   "outputs": [],
   "source": [
    "sectores_sin_ipc.to_csv('sectores.csv', index=False)"
   ]
  },
  {
   "cell_type": "code",
   "execution_count": null,
   "metadata": {
    "colab": {
     "base_uri": "https://localhost:8080/"
    },
    "executionInfo": {
     "elapsed": 10,
     "status": "ok",
     "timestamp": 1657577184429,
     "user": {
      "displayName": "Hector Bryan Villegas Barragan",
      "userId": "05189738497377269192"
     },
     "user_tz": 300
    },
    "id": "iK5Ly1SpTIWB",
    "outputId": "4201d7cd-7050-4a84-d13c-61797671baa7"
   },
   "outputs": [
    {
     "data": {
      "text/plain": [
       "False"
      ]
     },
     "execution_count": 70,
     "metadata": {},
     "output_type": "execute_result"
    }
   ],
   "source": [
    "'Ceibos' in data"
   ]
  }
 ],
 "metadata": {
  "colab": {
   "name": "ipc.ipynb",
   "provenance": []
  },
  "kernelspec": {
   "display_name": "Python 3 (ipykernel)",
   "language": "python",
   "name": "python3"
  },
  "language_info": {
   "codemirror_mode": {
    "name": "ipython",
    "version": 3
   },
   "file_extension": ".py",
   "mimetype": "text/x-python",
   "name": "python",
   "nbconvert_exporter": "python",
   "pygments_lexer": "ipython3",
   "version": "3.10.3"
  }
 },
 "nbformat": 4,
 "nbformat_minor": 1
}
